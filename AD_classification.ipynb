{
  "cells": [
    {
      "cell_type": "code",
      "execution_count": null,
      "metadata": {
        "id": "5ejnVL5f3Sb1"
      },
      "outputs": [],
      "source": [
        "import os \n",
        "import glob\n",
        "import shutil\n",
        "import numpy as np\n",
        "import pandas as pd\n",
        "import seaborn as sns\n",
        "import matplotlib.pyplot as plt\n",
        "from skimage.io import imread,imsave\n",
        "from sklearn.model_selection import train_test_split\n",
        "\n",
        "import tensorflow as tf\n",
        "from tensorflow.keras.utils import plot_model\n",
        "from tensorflow.keras.preprocessing.image import ImageDataGenerator\n",
        "from tensorflow.keras.models import save_model, load_model, Model\n",
        "from tensorflow.keras.layers import Input,InputLayer, Dropout, Flatten, Dense, Activation, MaxPooling2D, Conv2D\n",
        "from sklearn.metrics import classification_report"
      ]
    },
    {
      "cell_type": "code",
      "execution_count": null,
      "metadata": {
        "colab": {
          "base_uri": "https://localhost:8080/"
        },
        "id": "RMvVm55-4L4w",
        "outputId": "543c6d19-e902-4af3-876b-c64ef2dd6e09"
      },
      "outputs": [
        {
          "name": "stdout",
          "output_type": "stream",
          "text": [
            "Tue May 31 21:52:20 2022       \n",
            "+-----------------------------------------------------------------------------+\n",
            "| NVIDIA-SMI 460.32.03    Driver Version: 460.32.03    CUDA Version: 11.2     |\n",
            "|-------------------------------+----------------------+----------------------+\n",
            "| GPU  Name        Persistence-M| Bus-Id        Disp.A | Volatile Uncorr. ECC |\n",
            "| Fan  Temp  Perf  Pwr:Usage/Cap|         Memory-Usage | GPU-Util  Compute M. |\n",
            "|                               |                      |               MIG M. |\n",
            "|===============================+======================+======================|\n",
            "|   0  Tesla P100-PCIE...  Off  | 00000000:00:04.0 Off |                    0 |\n",
            "| N/A   41C    P0    30W / 250W |      0MiB / 16280MiB |      0%      Default |\n",
            "|                               |                      |                  N/A |\n",
            "+-------------------------------+----------------------+----------------------+\n",
            "                                                                               \n",
            "+-----------------------------------------------------------------------------+\n",
            "| Processes:                                                                  |\n",
            "|  GPU   GI   CI        PID   Type   Process name                  GPU Memory |\n",
            "|        ID   ID                                                   Usage      |\n",
            "|=============================================================================|\n",
            "|  No running processes found                                                 |\n",
            "+-----------------------------------------------------------------------------+\n"
          ]
        }
      ],
      "source": [
        "!nvidia-smi"
      ]
    },
    {
      "cell_type": "markdown",
      "metadata": {
        "id": "6J7LEgrPHLBb"
      },
      "source": [
        "# Downloading and Fixing the data"
      ]
    },
    {
      "cell_type": "code",
      "execution_count": null,
      "metadata": {
        "id": "U9hIEcvCscB9"
      },
      "outputs": [],
      "source": [
        "def flatten(t):\n",
        "    return [item for sublist in t for item in sublist]"
      ]
    },
    {
      "cell_type": "code",
      "execution_count": null,
      "metadata": {
        "colab": {
          "base_uri": "https://localhost:8080/"
        },
        "id": "D83RsbSktzOZ",
        "outputId": "d6bcfed0-b290-4b53-e9a5-628d7da7c16b"
      },
      "outputs": [
        {
          "name": "stdout",
          "output_type": "stream",
          "text": [
            "/usr/local/lib/python3.7/dist-packages/gdown/cli.py:131: FutureWarning: Option `--id` was deprecated in version 4.3.1 and will be removed in 5.0. You don't need to pass it anymore to use a file ID.\n",
            "  category=FutureWarning,\n"
          ]
        }
      ],
      "source": [
        "!gdown --id '1HuthY7iMaKLWqPffAAQOxydr-fhgQyzl' --o '/content/sample_data/AFFINE_REG_SKS_MASK_2D.zip' --q\n",
        "!unzip -q '/content/sample_data/AFFINE_REG_SKS_MASK_2D.zip' -d '/content/sample_data/'"
      ]
    },
    {
      "cell_type": "code",
      "execution_count": null,
      "metadata": {
        "id": "fvX3srgQuxKS"
      },
      "outputs": [],
      "source": [
        "root = '/content/sample_data/AFFINE_REG_SKS_MASK_2D/'\n",
        "data = testing = pd.read_csv('/content/drive/MyDrive/ADNI/MY_ADNI_CLEAN.csv')\n",
        "x_train, x_test, y_train, y_test = train_test_split(data[['Image Data ID']].values, data[['Group']].values, test_size=0.20, random_state=13 )\n",
        "\n",
        "training = flatten(x_train.tolist())\n",
        "testing = flatten(x_test.tolist())\n",
        "data.loc[data['Image Data ID'].isin(training)].to_csv('/content/sample_data/training.csv', index=False, encoding='utf-8-sig')\n",
        "data.loc[data['Image Data ID'].isin(testing)].to_csv('/content/sample_data/testing.csv', index=False, encoding='utf-8-sig')\n",
        "traning = pd.read_csv('/content/sample_data/training.csv')\n",
        "testing = pd.read_csv('/content/sample_data/testing.csv')\n",
        "\n",
        "image_Shape=(436,364,3)"
      ]
    },
    {
      "cell_type": "code",
      "execution_count": null,
      "metadata": {
        "id": "nmFokic07Isc"
      },
      "outputs": [],
      "source": [
        "l = ['/testing/CN/','/testing/AD/','/testing/MCI/','/training/CN/','/training/AD/','/training/MCI/']\n",
        "for elem in l:\n",
        "  if not os.path.isdir(root+elem):\n",
        "      os.makedirs(root+elem)\n",
        "      \n",
        "for index ,row in traning.iterrows():\n",
        "  shutil.move(f'{root}{row[\"Image Data ID\"]}.png',f'{root}training/{row[\"Group\"]}/{row[\"Image Data ID\"]}.png')\n",
        "  \n",
        "\n",
        "for index ,row in testing.iterrows():\n",
        "  shutil.move(f'{root}{row[\"Image Data ID\"]}.png',f'{root}testing/{row[\"Group\"]}/{row[\"Image Data ID\"]}.png')\n",
        "  "
      ]
    },
    {
      "cell_type": "markdown",
      "metadata": {
        "id": "2-g9yhpLHmOh"
      },
      "source": [
        "# Models"
      ]
    },
    {
      "cell_type": "code",
      "execution_count": null,
      "metadata": {
        "id": "A90ruKTAHoaG"
      },
      "outputs": [],
      "source": [
        "def resnet50_pretrained(optimizer, loss,metrics,shape):\n",
        "  image_input = tf.keras.applications.ResNet50(include_top=False,weights='imagenet',input_shape=shape)\n",
        "\n",
        "  for layer in image_input.layers:\n",
        "      layer.trainable = False\n",
        "      layer._name = layer._name  + str('_img')\n",
        "\n",
        "  y = Flatten() (image_input.output)\n",
        "  c = Dropout(0.4) (y)\n",
        "  c = Dense(512) (c)\n",
        "  c = Dense(256) (c)\n",
        "  c = Dense(128) (c)\n",
        "  output_layer = Dense(3, activation='softmax')(c)\n",
        "\n",
        "  model = Model(inputs=image_input.input,outputs=output_layer)\n",
        "  model.compile(optimizer=optimizer, loss=loss, metrics=metrics)\n",
        "  return model"
      ]
    },
    {
      "cell_type": "code",
      "execution_count": null,
      "metadata": {
        "id": "uH-nbiisAgZz"
      },
      "outputs": [],
      "source": [
        "def resnet50_row(optimizer, loss,metrics,shape):\n",
        "  image_input = tf.keras.applications.ResNet50(include_top=False,weights='imagenet',input_shape=shape)\n",
        "\n",
        "  for layer in image_input.layers:\n",
        "      layer.trainable = True\n",
        "      layer._name = layer._name  + str('_img')\n",
        "\n",
        "  y = Flatten() (image_input.output)\n",
        "  c = Dropout(0.4) (y)\n",
        "  c = Dense(512) (c)\n",
        "  c = Dense(256) (c)\n",
        "  c = Dense(128) (c)\n",
        "  output_layer = Dense(3, activation='softmax')(c)\n",
        "\n",
        "  model = Model(inputs=image_input.input,outputs=output_layer)\n",
        "  model.compile(optimizer=optimizer, loss=loss, metrics=metrics)\n",
        "  return model"
      ]
    },
    {
      "cell_type": "code",
      "execution_count": null,
      "metadata": {
        "id": "bMOUYwH55Lug"
      },
      "outputs": [],
      "source": [
        "def plot_confusion_matrix(true_lab,predict_lab,classes,path):\n",
        "  matrix_confusion = tf.math.confusion_matrix(labels=true_lab, predictions=predicted_lab, num_classes=len(classes))\n",
        "  ax = plt.subplot()\n",
        "  sns.heatmap(matrix_confusion, square=True, annot=True, cmap='Blues', fmt='d', cbar=True)\n",
        "  ax.set_xlabel('Predicted labels')\n",
        "  ax.set_ylabel('True labels')\n",
        "  ax.set_title('Confusion Matrix')\n",
        "  ax.xaxis.set_ticklabels(classes)\n",
        "  ax.yaxis.set_ticklabels(classes)\n",
        "  plt.savefig(f'{path}confusion_matrix.png')"
      ]
    },
    {
      "cell_type": "code",
      "execution_count": null,
      "metadata": {
        "id": "iYjB-l_pdnKM"
      },
      "outputs": [],
      "source": [
        "def dump_text(text,path):\n",
        "  text_file = open(path, \"w\")\n",
        "  text_file.write(text)\n",
        "  text_file.close()"
      ]
    },
    {
      "cell_type": "code",
      "execution_count": null,
      "metadata": {
        "id": "bDzKxJRQjeeI"
      },
      "outputs": [],
      "source": [
        "config = tf.compat.v1.ConfigProto()\n",
        "config.gpu_options.allow_growth = True\n",
        "session = tf.compat.v1.Session(config=config)"
      ]
    },
    {
      "cell_type": "code",
      "execution_count": null,
      "metadata": {
        "colab": {
          "base_uri": "https://localhost:8080/"
        },
        "id": "e3KYSPlwND1B",
        "outputId": "c7c6e7e6-7caa-467c-90c0-f5412c339955"
      },
      "outputs": [
        {
          "name": "stdout",
          "output_type": "stream",
          "text": [
            "Found 2789 images belonging to 3 classes.\n",
            "Found 698 images belonging to 3 classes.\n"
          ]
        }
      ],
      "source": [
        "training_image_datagen = ImageDataGenerator(horizontal_flip=True).flow_from_directory(\n",
        "                                                  directory=f'{root}/training/',\n",
        "                                                  target_size=(image_Shape[0], image_Shape[1]),\n",
        "                                                  class_mode='categorical',\n",
        "                                                  batch_size=4\n",
        "                                                  )\n",
        "\n",
        "testing_image_datagen = ImageDataGenerator().flow_from_directory(\n",
        "                                                  directory = f'{root}/testing/' ,\n",
        "                                                  target_size = (image_Shape[0] ,image_Shape[1]) ,\n",
        "                                                  class_mode = 'categorical' ,\n",
        "                                                  batch_size=1 ,\n",
        "                                                  shuffle = False\n",
        "                                                  )"
      ]
    },
    {
      "cell_type": "code",
      "execution_count": null,
      "metadata": {
        "colab": {
          "base_uri": "https://localhost:8080/"
        },
        "id": "ufi69uuBNUDu",
        "outputId": "1e38e620-f00d-4684-f29b-763215b58204"
      },
      "outputs": [
        {
          "data": {
            "text/plain": [
              "{'AD': 0, 'CN': 1, 'MCI': 2}"
            ]
          },
          "execution_count": 10,
          "metadata": {},
          "output_type": "execute_result"
        }
      ],
      "source": [
        "training_image_datagen.class_indices"
      ]
    },
    {
      "cell_type": "code",
      "execution_count": null,
      "metadata": {
        "id": "XSBFpBUgKGdr"
      },
      "outputs": [],
      "source": [
        "EPOCH = 50\n",
        "METRICS = [\n",
        "    tf.keras.metrics.CategoricalAccuracy(name='Accuracy'),\n",
        "    tf.keras.metrics.Precision(name='AD_Precision',class_id=0),\n",
        "    tf.keras.metrics.Precision(name='CN_Precision',class_id=1),\n",
        "    tf.keras.metrics.Precision(name='MCI_Precision',class_id=2),\n",
        "    tf.keras.metrics.Recall(name='AD_Recall',class_id=0),\n",
        "    tf.keras.metrics.Recall(name='CN_Recall',class_id=1),\n",
        "    tf.keras.metrics.Recall(name='MCI_Recall',class_id=2),\n",
        "    ]\n",
        "LOOS = 'categorical_crossentropy'"
      ]
    },
    {
      "cell_type": "markdown",
      "metadata": {
        "id": "zk132K6ABdgs"
      },
      "source": [
        "# **Resnet 50 pretrained**"
      ]
    },
    {
      "cell_type": "markdown",
      "metadata": {
        "id": "MqN2_tGOH_IN"
      },
      "source": [
        "### learning_rate=10E-4"
      ]
    },
    {
      "cell_type": "code",
      "execution_count": null,
      "metadata": {
        "colab": {
          "base_uri": "https://localhost:8080/"
        },
        "id": "dtCRREYKJ3OK",
        "outputId": "8a1e0346-e519-4f3c-ae78-4653e8863e73"
      },
      "outputs": [
        {
          "name": "stdout",
          "output_type": "stream",
          "text": [
            "Epoch 1/50\n",
            "698/698 [==============================] - 72s 81ms/step - loss: 12.8523 - Accuracy: 0.4690 - AD_Precision: 0.2717 - CN_Precision: 0.4260 - MCI_Precision: 0.5622 - AD_Recall: 0.2465 - CN_Recall: 0.4140 - MCI_Recall: 0.5634 - val_loss: 1.5681 - val_Accuracy: 0.4040 - val_AD_Precision: 0.7500 - val_CN_Precision: 0.3298 - val_MCI_Precision: 0.7870 - val_AD_Recall: 0.0236 - val_CN_Recall: 0.9442 - val_MCI_Recall: 0.2273\n",
            "Epoch 2/50\n",
            "698/698 [==============================] - 53s 75ms/step - loss: 1.7410 - Accuracy: 0.5342 - AD_Precision: 0.3543 - CN_Precision: 0.5111 - MCI_Precision: 0.6120 - AD_Recall: 0.3116 - CN_Recall: 0.4830 - MCI_Recall: 0.6125 - val_loss: 2.3237 - val_Accuracy: 0.3453 - val_AD_Precision: 0.2332 - val_CN_Precision: 1.0000 - val_MCI_Precision: 0.6279 - val_AD_Recall: 0.9291 - val_CN_Recall: 0.0609 - val_MCI_Recall: 0.2888\n",
            "Epoch 3/50\n",
            "698/698 [==============================] - 52s 75ms/step - loss: 2.4042 - Accuracy: 0.5561 - AD_Precision: 0.3603 - CN_Precision: 0.5528 - MCI_Precision: 0.6374 - AD_Recall: 0.3511 - CN_Recall: 0.5392 - MCI_Recall: 0.6307 - val_loss: 2.1516 - val_Accuracy: 0.5358 - val_AD_Precision: 0.3301 - val_CN_Precision: 0.5280 - val_MCI_Precision: 0.6971 - val_AD_Recall: 0.5433 - val_CN_Recall: 0.4315 - val_MCI_Recall: 0.5722\n",
            "Epoch 4/50\n",
            "698/698 [==============================] - 52s 75ms/step - loss: 2.8818 - Accuracy: 0.5783 - AD_Precision: 0.4020 - CN_Precision: 0.5562 - MCI_Precision: 0.6621 - AD_Recall: 0.4043 - CN_Recall: 0.5556 - MCI_Recall: 0.6496 - val_loss: 2.0154 - val_Accuracy: 0.5888 - val_AD_Precision: 0.6164 - val_CN_Precision: 0.9091 - val_MCI_Precision: 0.5738 - val_AD_Recall: 0.3543 - val_CN_Recall: 0.1015 - val_MCI_Recall: 0.9251\n",
            "Epoch 5/50\n",
            "698/698 [==============================] - 53s 76ms/step - loss: 1.9368 - Accuracy: 0.6605 - AD_Precision: 0.5292 - CN_Precision: 0.6538 - MCI_Precision: 0.7182 - AD_Recall: 0.5187 - CN_Recall: 0.6538 - MCI_Recall: 0.7092 - val_loss: 2.6856 - val_Accuracy: 0.6060 - val_AD_Precision: 0.5588 - val_CN_Precision: 0.9375 - val_MCI_Precision: 0.6052 - val_AD_Recall: 0.4488 - val_CN_Recall: 0.0761 - val_MCI_Recall: 0.9385\n",
            "Epoch 6/50\n",
            "698/698 [==============================] - 52s 75ms/step - loss: 2.6577 - Accuracy: 0.6350 - AD_Precision: 0.4949 - CN_Precision: 0.6234 - MCI_Precision: 0.6927 - AD_Recall: 0.4832 - CN_Recall: 0.6175 - MCI_Recall: 0.6966 - val_loss: 1.6640 - val_Accuracy: 0.7149 - val_AD_Precision: 0.8500 - val_CN_Precision: 0.6368 - val_MCI_Precision: 0.7427 - val_AD_Recall: 0.4016 - val_CN_Recall: 0.7208 - val_MCI_Recall: 0.8182\n",
            "Epoch 7/50\n",
            "698/698 [==============================] - 52s 75ms/step - loss: 3.2114 - Accuracy: 0.6486 - AD_Precision: 0.5329 - CN_Precision: 0.6328 - MCI_Precision: 0.7029 - AD_Recall: 0.5424 - CN_Recall: 0.6269 - MCI_Recall: 0.6980 - val_loss: 3.2290 - val_Accuracy: 0.6103 - val_AD_Precision: 0.8103 - val_CN_Precision: 0.4579 - val_MCI_Precision: 0.8283 - val_AD_Recall: 0.3701 - val_CN_Recall: 0.9391 - val_MCI_Recall: 0.5160\n",
            "Epoch 8/50\n",
            "698/698 [==============================] - 52s 74ms/step - loss: 2.1318 - Accuracy: 0.7261 - AD_Precision: 0.6195 - CN_Precision: 0.7215 - MCI_Precision: 0.7675 - AD_Recall: 0.6134 - CN_Recall: 0.7181 - MCI_Recall: 0.7680 - val_loss: 3.3305 - val_Accuracy: 0.5358 - val_AD_Precision: 0.4107 - val_CN_Precision: 0.5108 - val_MCI_Precision: 0.9167 - val_AD_Recall: 0.7244 - val_CN_Recall: 0.9594 - val_MCI_Recall: 0.2353\n",
            "Epoch 9/50\n",
            "698/698 [==============================] - 52s 74ms/step - loss: 2.3917 - Accuracy: 0.7157 - AD_Precision: 0.5916 - CN_Precision: 0.7244 - MCI_Precision: 0.7565 - AD_Recall: 0.5858 - CN_Recall: 0.7287 - MCI_Recall: 0.7533 - val_loss: 2.3328 - val_Accuracy: 0.7350 - val_AD_Precision: 0.6812 - val_CN_Precision: 0.8623 - val_MCI_Precision: 0.7067 - val_AD_Recall: 0.3701 - val_CN_Recall: 0.6041 - val_MCI_Recall: 0.9278\n",
            "Epoch 10/50\n",
            "698/698 [==============================] - 52s 75ms/step - loss: 2.7379 - Accuracy: 0.7314 - AD_Precision: 0.6403 - CN_Precision: 0.7168 - MCI_Precision: 0.7730 - AD_Recall: 0.6391 - CN_Recall: 0.7193 - MCI_Recall: 0.7708 - val_loss: 6.6638 - val_Accuracy: 0.4441 - val_AD_Precision: 0.3267 - val_CN_Precision: 0.5344 - val_MCI_Precision: 0.9600 - val_AD_Recall: 0.9055 - val_CN_Recall: 0.8680 - val_MCI_Recall: 0.0642\n",
            "Epoch 11/50\n",
            "698/698 [==============================] - 52s 75ms/step - loss: 2.0487 - Accuracy: 0.7695 - AD_Precision: 0.6812 - CN_Precision: 0.7646 - MCI_Precision: 0.8053 - AD_Recall: 0.6785 - CN_Recall: 0.7673 - MCI_Recall: 0.8031 - val_loss: 1.1153 - val_Accuracy: 0.8324 - val_AD_Precision: 0.8667 - val_CN_Precision: 0.8325 - val_MCI_Precision: 0.8262 - val_AD_Recall: 0.5118 - val_CN_Recall: 0.8579 - val_MCI_Recall: 0.9278\n",
            "Epoch 12/50\n",
            "698/698 [==============================] - 52s 75ms/step - loss: 1.8254 - Accuracy: 0.8010 - AD_Precision: 0.6798 - CN_Precision: 0.8236 - MCI_Precision: 0.8313 - AD_Recall: 0.6824 - CN_Recall: 0.8246 - MCI_Recall: 0.8290 - val_loss: 1.1453 - val_Accuracy: 0.8037 - val_AD_Precision: 0.7018 - val_CN_Precision: 0.8547 - val_MCI_Precision: 0.8107 - val_AD_Recall: 0.6299 - val_CN_Recall: 0.7462 - val_MCI_Recall: 0.8930\n",
            "Epoch 13/50\n",
            "698/698 [==============================] - 52s 75ms/step - loss: 1.8968 - Accuracy: 0.7985 - AD_Precision: 0.7194 - CN_Precision: 0.8012 - MCI_Precision: 0.8261 - AD_Recall: 0.7179 - CN_Recall: 0.8012 - MCI_Recall: 0.8255 - val_loss: 1.3095 - val_Accuracy: 0.8367 - val_AD_Precision: 0.6859 - val_CN_Precision: 0.8902 - val_MCI_Precision: 0.8777 - val_AD_Recall: 0.8425 - val_CN_Recall: 0.7817 - val_MCI_Recall: 0.8636\n",
            "Epoch 14/50\n",
            "698/698 [==============================] - 52s 75ms/step - loss: 1.3984 - Accuracy: 0.8440 - AD_Precision: 0.7843 - CN_Precision: 0.8369 - MCI_Precision: 0.8714 - AD_Recall: 0.7890 - CN_Recall: 0.8339 - MCI_Recall: 0.8690 - val_loss: 3.9878 - val_Accuracy: 0.6777 - val_AD_Precision: 0.7822 - val_CN_Precision: 1.0000 - val_MCI_Precision: 0.6412 - val_AD_Recall: 0.6220 - val_CN_Recall: 0.1675 - val_MCI_Recall: 0.9652\n",
            "Epoch 15/50\n",
            "698/698 [==============================] - 52s 74ms/step - loss: 2.1217 - Accuracy: 0.8139 - AD_Precision: 0.7253 - CN_Precision: 0.8110 - MCI_Precision: 0.8476 - AD_Recall: 0.7239 - CN_Recall: 0.8129 - MCI_Recall: 0.8458 - val_loss: 1.9617 - val_Accuracy: 0.8266 - val_AD_Precision: 0.8500 - val_CN_Precision: 0.9363 - val_MCI_Precision: 0.7852 - val_AD_Recall: 0.5354 - val_CN_Recall: 0.7462 - val_MCI_Recall: 0.9679\n",
            "Epoch 16/50\n",
            "698/698 [==============================] - 52s 75ms/step - loss: 1.5391 - Accuracy: 0.8501 - AD_Precision: 0.7897 - CN_Precision: 0.8475 - MCI_Precision: 0.8731 - AD_Recall: 0.7850 - CN_Recall: 0.8515 - MCI_Recall: 0.8725 - val_loss: 3.1007 - val_Accuracy: 0.7564 - val_AD_Precision: 0.6229 - val_CN_Precision: 0.9756 - val_MCI_Precision: 0.7682 - val_AD_Recall: 0.8583 - val_CN_Recall: 0.4061 - val_MCI_Recall: 0.9037\n",
            "Epoch 17/50\n",
            "698/698 [==============================] - 52s 75ms/step - loss: 1.9826 - Accuracy: 0.8315 - AD_Precision: 0.7628 - CN_Precision: 0.8230 - MCI_Precision: 0.8606 - AD_Recall: 0.7613 - CN_Recall: 0.8211 - MCI_Recall: 0.8612 - val_loss: 4.8730 - val_Accuracy: 0.7579 - val_AD_Precision: 1.0000 - val_CN_Precision: 0.8172 - val_MCI_Precision: 0.7262 - val_AD_Recall: 0.1496 - val_CN_Recall: 0.7716 - val_MCI_Recall: 0.9572\n",
            "Epoch 18/50\n",
            "698/698 [==============================] - 53s 75ms/step - loss: 1.4347 - Accuracy: 0.8627 - AD_Precision: 0.7996 - CN_Precision: 0.8653 - MCI_Precision: 0.8833 - AD_Recall: 0.7949 - CN_Recall: 0.8643 - MCI_Recall: 0.8858 - val_loss: 3.6897 - val_Accuracy: 0.6977 - val_AD_Precision: 0.8100 - val_CN_Precision: 0.5147 - val_MCI_Precision: 0.9595 - val_AD_Recall: 0.6378 - val_CN_Recall: 0.9797 - val_MCI_Recall: 0.5695\n",
            "Epoch 19/50\n",
            "698/698 [==============================] - 53s 76ms/step - loss: 1.5031 - Accuracy: 0.8716 - AD_Precision: 0.8209 - CN_Precision: 0.8675 - MCI_Precision: 0.8922 - AD_Recall: 0.8225 - CN_Recall: 0.8655 - MCI_Recall: 0.8928 - val_loss: 4.5030 - val_Accuracy: 0.6691 - val_AD_Precision: 0.6579 - val_CN_Precision: 0.5301 - val_MCI_Precision: 0.9665 - val_AD_Recall: 0.7874 - val_CN_Recall: 0.9848 - val_MCI_Recall: 0.4626\n",
            "Epoch 20/50\n",
            "698/698 [==============================] - 57s 81ms/step - loss: 1.5853 - Accuracy: 0.8623 - AD_Precision: 0.8300 - CN_Precision: 0.8538 - MCI_Precision: 0.8789 - AD_Recall: 0.8284 - CN_Recall: 0.8608 - MCI_Recall: 0.8746 - val_loss: 6.3203 - val_Accuracy: 0.7149 - val_AD_Precision: 1.0000 - val_CN_Precision: 0.9664 - val_MCI_Precision: 0.6567 - val_AD_Recall: 0.0866 - val_CN_Recall: 0.5838 - val_MCI_Recall: 0.9973\n",
            "Epoch 21/50\n",
            "698/698 [==============================] - 58s 82ms/step - loss: 1.7180 - Accuracy: 0.8706 - AD_Precision: 0.8139 - CN_Precision: 0.8735 - MCI_Precision: 0.8888 - AD_Recall: 0.8107 - CN_Recall: 0.8725 - MCI_Recall: 0.8907 - val_loss: 1.8447 - val_Accuracy: 0.8668 - val_AD_Precision: 0.7403 - val_CN_Precision: 0.9398 - val_MCI_Precision: 0.8862 - val_AD_Recall: 0.8976 - val_CN_Recall: 0.7919 - val_MCI_Recall: 0.8957\n",
            "Epoch 22/50\n",
            "698/698 [==============================] - 58s 84ms/step - loss: 1.4614 - Accuracy: 0.8878 - AD_Precision: 0.8330 - CN_Precision: 0.8902 - MCI_Precision: 0.9059 - AD_Recall: 0.8363 - CN_Recall: 0.8912 - MCI_Recall: 0.9040 - val_loss: 1.5569 - val_Accuracy: 0.8768 - val_AD_Precision: 0.8203 - val_CN_Precision: 0.8034 - val_MCI_Precision: 0.9494 - val_AD_Recall: 0.8268 - val_CN_Recall: 0.9543 - val_MCI_Recall: 0.8529\n",
            "Epoch 23/50\n",
            "698/698 [==============================] - 57s 82ms/step - loss: 1.3513 - Accuracy: 0.8856 - AD_Precision: 0.8343 - CN_Precision: 0.8927 - MCI_Precision: 0.9002 - AD_Recall: 0.8343 - CN_Recall: 0.8854 - MCI_Recall: 0.9040 - val_loss: 3.7327 - val_Accuracy: 0.8166 - val_AD_Precision: 1.0000 - val_CN_Precision: 0.8913 - val_MCI_Precision: 0.7731 - val_AD_Recall: 0.2992 - val_CN_Recall: 0.8325 - val_MCI_Recall: 0.9840\n",
            "Epoch 24/50\n",
            "698/698 [==============================] - 68s 98ms/step - loss: 1.5538 - Accuracy: 0.8860 - AD_Precision: 0.8656 - CN_Precision: 0.8699 - MCI_Precision: 0.9030 - AD_Recall: 0.8639 - CN_Recall: 0.8760 - MCI_Recall: 0.8998 - val_loss: 7.7358 - val_Accuracy: 0.6404 - val_AD_Precision: 0.3481 - val_CN_Precision: 0.9259 - val_MCI_Precision: 0.9828 - val_AD_Recall: 0.9921 - val_CN_Recall: 0.7614 - val_MCI_Recall: 0.4572\n",
            "Epoch 25/50\n",
            "698/698 [==============================] - 60s 86ms/step - loss: 0.9922 - Accuracy: 0.9132 - AD_Precision: 0.8730 - CN_Precision: 0.9165 - MCI_Precision: 0.9257 - AD_Recall: 0.8817 - CN_Recall: 0.9111 - MCI_Recall: 0.9257 - val_loss: 6.0907 - val_Accuracy: 0.7851 - val_AD_Precision: 1.0000 - val_CN_Precision: 0.7839 - val_MCI_Precision: 0.7800 - val_AD_Recall: 0.0945 - val_CN_Recall: 0.9391 - val_MCI_Recall: 0.9385\n",
            "Epoch 26/50\n",
            "698/698 [==============================] - 67s 95ms/step - loss: 1.9865 - Accuracy: 0.8788 - AD_Precision: 0.8399 - CN_Precision: 0.8751 - MCI_Precision: 0.8948 - AD_Recall: 0.8383 - CN_Recall: 0.8772 - MCI_Recall: 0.8942 - val_loss: 3.0247 - val_Accuracy: 0.8281 - val_AD_Precision: 0.9324 - val_CN_Precision: 0.9858 - val_MCI_Precision: 0.7660 - val_AD_Recall: 0.5433 - val_CN_Recall: 0.7056 - val_MCI_Recall: 0.9893\n",
            "Epoch 27/50\n",
            "698/698 [==============================] - 74s 106ms/step - loss: 0.9193 - Accuracy: 0.9136 - AD_Precision: 0.8950 - CN_Precision: 0.9076 - MCI_Precision: 0.9244 - AD_Recall: 0.8915 - CN_Recall: 0.9076 - MCI_Recall: 0.9250 - val_loss: 1.6317 - val_Accuracy: 0.8883 - val_AD_Precision: 0.9109 - val_CN_Precision: 0.8578 - val_MCI_Precision: 0.9013 - val_AD_Recall: 0.7244 - val_CN_Recall: 0.9188 - val_MCI_Recall: 0.9278\n",
            "Epoch 28/50\n",
            "698/698 [==============================] - 60s 87ms/step - loss: 1.0713 - Accuracy: 0.9154 - AD_Precision: 0.8720 - CN_Precision: 0.9184 - MCI_Precision: 0.9290 - AD_Recall: 0.8738 - CN_Recall: 0.9216 - MCI_Recall: 0.9264 - val_loss: 1.6693 - val_Accuracy: 0.8825 - val_AD_Precision: 0.9109 - val_CN_Precision: 0.9222 - val_MCI_Precision: 0.8582 - val_AD_Recall: 0.7244 - val_CN_Recall: 0.8426 - val_MCI_Recall: 0.9545\n",
            "Epoch 29/50\n",
            "698/698 [==============================] - 55s 79ms/step - loss: 1.8334 - Accuracy: 0.8906 - AD_Precision: 0.8304 - CN_Precision: 0.8893 - MCI_Precision: 0.9129 - AD_Recall: 0.8304 - CN_Recall: 0.8924 - MCI_Recall: 0.9110 - val_loss: 5.9325 - val_Accuracy: 0.7937 - val_AD_Precision: 1.0000 - val_CN_Precision: 0.9769 - val_MCI_Precision: 0.7257 - val_AD_Recall: 0.4252 - val_CN_Recall: 0.6447 - val_MCI_Recall: 0.9973\n",
            "Epoch 30/50\n",
            "698/698 [==============================] - 53s 76ms/step - loss: 1.2212 - Accuracy: 0.9229 - AD_Precision: 0.8913 - CN_Precision: 0.9195 - MCI_Precision: 0.9362 - AD_Recall: 0.8895 - CN_Recall: 0.9216 - MCI_Recall: 0.9355 - val_loss: 1.9938 - val_Accuracy: 0.8797 - val_AD_Precision: 0.8932 - val_CN_Precision: 0.8166 - val_MCI_Precision: 0.9153 - val_AD_Recall: 0.7244 - val_CN_Recall: 0.9492 - val_MCI_Recall: 0.8957\n",
            "Epoch 31/50\n",
            "698/698 [==============================] - 54s 77ms/step - loss: 0.8607 - Accuracy: 0.9380 - AD_Precision: 0.9073 - CN_Precision: 0.9428 - MCI_Precision: 0.9460 - AD_Recall: 0.9073 - CN_Recall: 0.9439 - MCI_Recall: 0.9453 - val_loss: 2.1831 - val_Accuracy: 0.8797 - val_AD_Precision: 0.9010 - val_CN_Precision: 0.9419 - val_MCI_Precision: 0.8494 - val_AD_Recall: 0.7165 - val_CN_Recall: 0.8223 - val_MCI_Recall: 0.9652\n",
            "Epoch 32/50\n",
            "698/698 [==============================] - 54s 77ms/step - loss: 1.8589 - Accuracy: 0.8842 - AD_Precision: 0.8234 - CN_Precision: 0.8868 - MCI_Precision: 0.9047 - AD_Recall: 0.8185 - CN_Recall: 0.8889 - MCI_Recall: 0.9047 - val_loss: 2.6665 - val_Accuracy: 0.8367 - val_AD_Precision: 0.8174 - val_CN_Precision: 0.7176 - val_MCI_Precision: 0.9408 - val_AD_Recall: 0.7402 - val_CN_Recall: 0.9543 - val_MCI_Recall: 0.8075\n",
            "Epoch 33/50\n",
            "698/698 [==============================] - 60s 86ms/step - loss: 1.5017 - Accuracy: 0.9096 - AD_Precision: 0.8625 - CN_Precision: 0.9098 - MCI_Precision: 0.9264 - AD_Recall: 0.8659 - CN_Recall: 0.9088 - MCI_Recall: 0.9257 - val_loss: 3.0062 - val_Accuracy: 0.8539 - val_AD_Precision: 0.9342 - val_CN_Precision: 0.8350 - val_MCI_Precision: 0.8486 - val_AD_Recall: 0.5591 - val_CN_Recall: 0.8731 - val_MCI_Recall: 0.9439\n",
            "Epoch 34/50\n",
            "698/698 [==============================] - 54s 77ms/step - loss: 0.8362 - Accuracy: 0.9351 - AD_Precision: 0.9253 - CN_Precision: 0.9219 - MCI_Precision: 0.9466 - AD_Recall: 0.9290 - CN_Recall: 0.9251 - MCI_Recall: 0.9432 - val_loss: 4.2336 - val_Accuracy: 0.8424 - val_AD_Precision: 0.9492 - val_CN_Precision: 0.8877 - val_MCI_Precision: 0.8093 - val_AD_Recall: 0.4409 - val_CN_Recall: 0.8426 - val_MCI_Recall: 0.9759\n",
            "Epoch 35/50\n",
            "698/698 [==============================] - 65s 93ms/step - loss: 1.2780 - Accuracy: 0.9168 - AD_Precision: 0.8841 - CN_Precision: 0.9111 - MCI_Precision: 0.9319 - AD_Recall: 0.8876 - CN_Recall: 0.9111 - MCI_Recall: 0.9306 - val_loss: 5.5624 - val_Accuracy: 0.7564 - val_AD_Precision: 0.4664 - val_CN_Precision: 0.8920 - val_MCI_Precision: 0.9405 - val_AD_Recall: 0.9291 - val_CN_Recall: 0.7970 - val_MCI_Recall: 0.6765\n",
            "Epoch 36/50\n",
            "698/698 [==============================] - 59s 84ms/step - loss: 1.0677 - Accuracy: 0.9297 - AD_Precision: 0.8998 - CN_Precision: 0.9346 - MCI_Precision: 0.9375 - AD_Recall: 0.9034 - CN_Recall: 0.9357 - MCI_Recall: 0.9355 - val_loss: 5.0822 - val_Accuracy: 0.8295 - val_AD_Precision: 0.9565 - val_CN_Precision: 0.9153 - val_MCI_Precision: 0.7819 - val_AD_Recall: 0.3465 - val_CN_Recall: 0.8782 - val_MCI_Recall: 0.9679\n",
            "Epoch 37/50\n",
            "698/698 [==============================] - 54s 78ms/step - loss: 1.2129 - Accuracy: 0.9236 - AD_Precision: 0.8856 - CN_Precision: 0.9190 - MCI_Precision: 0.9399 - AD_Recall: 0.8856 - CN_Recall: 0.9158 - MCI_Recall: 0.9418 - val_loss: 3.1201 - val_Accuracy: 0.8811 - val_AD_Precision: 0.8583 - val_CN_Precision: 0.9512 - val_MCI_Precision: 0.8599 - val_AD_Recall: 0.8110 - val_CN_Recall: 0.7919 - val_MCI_Recall: 0.9519\n",
            "Epoch 38/50\n",
            "698/698 [==============================] - 54s 78ms/step - loss: 0.9091 - Accuracy: 0.9426 - AD_Precision: 0.9245 - CN_Precision: 0.9439 - MCI_Precision: 0.9483 - AD_Recall: 0.9172 - CN_Recall: 0.9450 - MCI_Recall: 0.9502 - val_loss: 4.0024 - val_Accuracy: 0.8453 - val_AD_Precision: 0.9688 - val_CN_Precision: 0.9056 - val_MCI_Precision: 0.8040 - val_AD_Recall: 0.4882 - val_CN_Recall: 0.8274 - val_MCI_Recall: 0.9759\n",
            "Epoch 39/50\n",
            "698/698 [==============================] - 54s 78ms/step - loss: 0.9923 - Accuracy: 0.9333 - AD_Precision: 0.9077 - CN_Precision: 0.9288 - MCI_Precision: 0.9459 - AD_Recall: 0.9112 - CN_Recall: 0.9310 - MCI_Recall: 0.9425 - val_loss: 2.7148 - val_Accuracy: 0.8825 - val_AD_Precision: 0.9647 - val_CN_Precision: 0.8077 - val_MCI_Precision: 0.9103 - val_AD_Recall: 0.6457 - val_CN_Recall: 0.9594 - val_MCI_Recall: 0.9225\n",
            "Epoch 40/50\n",
            "698/698 [==============================] - 53s 76ms/step - loss: 0.7960 - Accuracy: 0.9394 - AD_Precision: 0.9331 - CN_Precision: 0.9342 - MCI_Precision: 0.9448 - AD_Recall: 0.9349 - CN_Recall: 0.9298 - MCI_Recall: 0.9467 - val_loss: 5.5115 - val_Accuracy: 0.7178 - val_AD_Precision: 0.7661 - val_CN_Precision: 0.5439 - val_MCI_Precision: 0.9683 - val_AD_Recall: 0.7480 - val_CN_Recall: 0.9746 - val_MCI_Recall: 0.5722\n",
            "Epoch 41/50\n",
            "698/698 [==============================] - 55s 79ms/step - loss: 1.3683 - Accuracy: 0.9276 - AD_Precision: 0.8957 - CN_Precision: 0.9345 - MCI_Precision: 0.9348 - AD_Recall: 0.8974 - CN_Recall: 0.9345 - MCI_Recall: 0.9341 - val_loss: 9.7699 - val_Accuracy: 0.6404 - val_AD_Precision: 0.3475 - val_CN_Precision: 0.9091 - val_MCI_Precision: 0.9809 - val_AD_Recall: 0.9685 - val_CN_Recall: 0.8629 - val_MCI_Recall: 0.4118\n",
            "Epoch 42/50\n",
            "698/698 [==============================] - 54s 77ms/step - loss: 1.0470 - Accuracy: 0.9333 - AD_Precision: 0.9077 - CN_Precision: 0.9343 - MCI_Precision: 0.9425 - AD_Recall: 0.9112 - CN_Recall: 0.9322 - MCI_Recall: 0.9418 - val_loss: 6.3556 - val_Accuracy: 0.8324 - val_AD_Precision: 1.0000 - val_CN_Precision: 0.8706 - val_MCI_Precision: 0.8026 - val_AD_Recall: 0.2835 - val_CN_Recall: 0.8883 - val_MCI_Recall: 0.9893\n",
            "Epoch 43/50\n",
            "698/698 [==============================] - 53s 77ms/step - loss: 1.4480 - Accuracy: 0.9251 - AD_Precision: 0.9118 - CN_Precision: 0.9123 - MCI_Precision: 0.9375 - AD_Recall: 0.9172 - CN_Recall: 0.9123 - MCI_Recall: 0.9355 - val_loss: 7.8925 - val_Accuracy: 0.8052 - val_AD_Precision: 1.0000 - val_CN_Precision: 0.8069 - val_MCI_Precision: 0.7941 - val_AD_Recall: 0.1811 - val_CN_Recall: 0.9543 - val_MCI_Recall: 0.9385\n",
            "Epoch 44/50\n",
            "698/698 [==============================] - 54s 77ms/step - loss: 1.0501 - Accuracy: 0.9387 - AD_Precision: 0.9311 - CN_Precision: 0.9252 - MCI_Precision: 0.9495 - AD_Recall: 0.9329 - CN_Recall: 0.9263 - MCI_Recall: 0.9481 - val_loss: 5.0280 - val_Accuracy: 0.8152 - val_AD_Precision: 0.9833 - val_CN_Precision: 0.6690 - val_MCI_Precision: 0.9060 - val_AD_Recall: 0.4646 - val_CN_Recall: 0.9746 - val_MCI_Recall: 0.8503\n",
            "Epoch 45/50\n",
            "698/698 [==============================] - 54s 77ms/step - loss: 0.8380 - Accuracy: 0.9408 - AD_Precision: 0.9311 - CN_Precision: 0.9347 - MCI_Precision: 0.9480 - AD_Recall: 0.9329 - CN_Recall: 0.9368 - MCI_Recall: 0.9460 - val_loss: 3.4709 - val_Accuracy: 0.8782 - val_AD_Precision: 0.8661 - val_CN_Precision: 0.9934 - val_MCI_Precision: 0.8414 - val_AD_Recall: 0.7638 - val_CN_Recall: 0.7614 - val_MCI_Recall: 0.9786\n",
            "Epoch 46/50\n",
            "698/698 [==============================] - 55s 79ms/step - loss: 0.8222 - Accuracy: 0.9491 - AD_Precision: 0.9312 - CN_Precision: 0.9476 - MCI_Precision: 0.9564 - AD_Recall: 0.9349 - CN_Recall: 0.9520 - MCI_Recall: 0.9523 - val_loss: 2.6096 - val_Accuracy: 0.8883 - val_AD_Precision: 0.7278 - val_CN_Precision: 0.9441 - val_MCI_Precision: 0.9307 - val_AD_Recall: 0.9055 - val_CN_Recall: 0.8579 - val_MCI_Recall: 0.8984\n",
            "Epoch 47/50\n",
            "698/698 [==============================] - 54s 77ms/step - loss: 0.7580 - Accuracy: 0.9527 - AD_Precision: 0.9312 - CN_Precision: 0.9545 - MCI_Precision: 0.9592 - AD_Recall: 0.9349 - CN_Recall: 0.9567 - MCI_Recall: 0.9566 - val_loss: 3.3186 - val_Accuracy: 0.8883 - val_AD_Precision: 0.8909 - val_CN_Precision: 0.9419 - val_MCI_Precision: 0.8654 - val_AD_Recall: 0.7717 - val_CN_Recall: 0.8223 - val_MCI_Recall: 0.9626\n",
            "Epoch 48/50\n",
            "698/698 [==============================] - 55s 78ms/step - loss: 1.1015 - Accuracy: 0.9383 - AD_Precision: 0.9118 - CN_Precision: 0.9380 - MCI_Precision: 0.9480 - AD_Recall: 0.9172 - CN_Recall: 0.9380 - MCI_Recall: 0.9460 - val_loss: 9.6621 - val_Accuracy: 0.7550 - val_AD_Precision: 0.9459 - val_CN_Precision: 0.9754 - val_MCI_Precision: 0.6920 - val_AD_Recall: 0.2756 - val_CN_Recall: 0.6041 - val_MCI_Recall: 0.9973\n",
            "Epoch 49/50\n",
            "698/698 [==============================] - 58s 83ms/step - loss: 1.0079 - Accuracy: 0.9430 - AD_Precision: 0.9191 - CN_Precision: 0.9426 - MCI_Precision: 0.9517 - AD_Recall: 0.9191 - CN_Recall: 0.9415 - MCI_Recall: 0.9523 - val_loss: 2.8285 - val_Accuracy: 0.9026 - val_AD_Precision: 0.9375 - val_CN_Precision: 0.8732 - val_MCI_Precision: 0.9100 - val_AD_Recall: 0.7087 - val_CN_Recall: 0.9442 - val_MCI_Recall: 0.9465\n",
            "Epoch 50/50\n",
            "698/698 [==============================] - 56s 80ms/step - loss: 1.2515 - Accuracy: 0.9347 - AD_Precision: 0.8978 - CN_Precision: 0.9346 - MCI_Precision: 0.9480 - AD_Recall: 0.9014 - CN_Recall: 0.9357 - MCI_Recall: 0.9460 - val_loss: 2.5600 - val_Accuracy: 0.8897 - val_AD_Precision: 0.8430 - val_CN_Precision: 0.9189 - val_MCI_Precision: 0.8903 - val_AD_Recall: 0.8031 - val_CN_Recall: 0.8629 - val_MCI_Recall: 0.9332\n"
          ]
        }
      ],
      "source": [
        "# learning_rate=10E-4\n",
        "savepath = '/content/drive/MyDrive/ADNI/resnet50_pretrained_10E-4/'\n",
        "lr=0.0001\n",
        "if not os.path.isdir(savepath):\n",
        "      os.makedirs(savepath)\n",
        "csvloger_callback = tf.keras.callbacks.CSVLogger(f'{savepath}history.csv', separator=',', append=False)\n",
        "\n",
        "modelcheckpoint_callback = tf.keras.callbacks.ModelCheckpoint(savepath+'resnet50_pretrained_10E-4_weights-epoch:{epoch:03d}-val_Accuracy:{val_Accuracy:.4f}.h5',monitor='val_Accuracy'\n",
        "    ,verbose=0,save_best_only=True,save_weights_only=True,mode='max',save_freq='epoch' , initial_value_threshold=0.85)\n",
        "\n",
        "OPT = tf.keras.optimizers.Adam(learning_rate=lr)\n",
        "model01 = resnet50_pretrained(OPT, LOOS,METRICS,image_Shape)\n",
        "history01 = model01.fit(training_image_datagen, epochs=EPOCH, validation_data=testing_image_datagen,callbacks=[csvloger_callback,modelcheckpoint_callback])\n",
        "model01 = resnet50_pretrained(OPT, LOOS,METRICS,image_Shape)\n",
        "model01.load_weights(glob.glob(f\"{savepath}resnet50_pretrained_10E-4_weights-epoch:*-val_Accuracy:{max(history01.history['val_Accuracy']):.4f}.h5\")[0])"
      ]
    },
    {
      "cell_type": "code",
      "execution_count": null,
      "metadata": {
        "colab": {
          "base_uri": "https://localhost:8080/",
          "height": 477
        },
        "id": "DjeRrTiwot5L",
        "outputId": "c0cb5b30-a9b7-46dc-f37c-e90e5db4e643"
      },
      "outputs": [
        {
          "name": "stdout",
          "output_type": "stream",
          "text": [
            "              precision    recall  f1-score   support\n",
            "\n",
            "          AD       0.94      0.71      0.81       127\n",
            "          CN       0.87      0.94      0.91       197\n",
            "         MCI       0.91      0.95      0.93       374\n",
            "\n",
            "    accuracy                           0.90       698\n",
            "   macro avg       0.91      0.87      0.88       698\n",
            "weighted avg       0.90      0.90      0.90       698\n",
            "\n"
          ]
        },
        {
          "data": {
            "image/png": "[encoded data removed]",
            "text/plain": [
              "<Figure size 432x288 with 2 Axes>"
            ]
          },
          "metadata": {
            "needs_background": "light"
          },
          "output_type": "display_data"
        }
      ],
      "source": [
        "p = model01.predict(testing_image_datagen)\n",
        "predicted_lab = p.argmax(axis=-1)\n",
        "true_lab = testing_image_datagen.classes\n",
        "plot_confusion_matrix(true_lab, predicted_lab, testing_image_datagen.class_indices.keys(),savepath)\n",
        "report = classification_report(true_lab, predicted_lab, target_names=testing_image_datagen.class_indices.keys())\n",
        "print(report)\n",
        "dump_text(report,f'{savepath}classification_report.txt')"
      ]
    },
    {
      "cell_type": "markdown",
      "metadata": {
        "id": "9dvVuzvmIKaC"
      },
      "source": [
        "### learning_rate=10E-5"
      ]
    },
    {
      "cell_type": "code",
      "execution_count": null,
      "metadata": {
        "colab": {
          "base_uri": "https://localhost:8080/"
        },
        "id": "LmLUs96kB7JQ",
        "outputId": "e31226a1-0487-4e49-aba2-8c3ccae5ebc9"
      },
      "outputs": [
        {
          "name": "stdout",
          "output_type": "stream",
          "text": [
            "Epoch 1/50\n",
            "698/698 [==============================] - 59s 79ms/step - loss: 7.0761 - Accuracy: 0.5707 - AD_Precision: 0.4087 - CN_Precision: 0.5239 - MCI_Precision: 0.6551 - AD_Recall: 0.3991 - CN_Recall: 0.5200 - MCI_Recall: 0.6602 - val_loss: 4.2220 - val_Accuracy: 0.4298 - val_AD_Precision: 0.2551 - val_CN_Precision: 0.7087 - val_MCI_Precision: 0.7655 - val_AD_Recall: 0.8898 - val_CN_Recall: 0.3706 - val_MCI_Recall: 0.2968\n",
            "Epoch 2/50\n",
            "698/698 [==============================] - 55s 78ms/step - loss: 3.4269 - Accuracy: 0.6052 - AD_Precision: 0.4687 - CN_Precision: 0.5794 - MCI_Precision: 0.6716 - AD_Recall: 0.4576 - CN_Recall: 0.5801 - MCI_Recall: 0.6692 - val_loss: 4.2318 - val_Accuracy: 0.4169 - val_AD_Precision: 0.2532 - val_CN_Precision: 0.9545 - val_MCI_Precision: 0.7260 - val_AD_Recall: 0.9291 - val_CN_Recall: 0.1066 - val_MCI_Recall: 0.4037\n",
            "Epoch 3/50\n",
            "698/698 [==============================] - 54s 78ms/step - loss: 2.2227 - Accuracy: 0.6737 - AD_Precision: 0.5582 - CN_Precision: 0.6627 - MCI_Precision: 0.7264 - AD_Recall: 0.5582 - CN_Recall: 0.6550 - MCI_Recall: 0.7218 - val_loss: 1.2202 - val_Accuracy: 0.6977 - val_AD_Precision: 0.6475 - val_CN_Precision: 0.5953 - val_MCI_Precision: 0.8507 - val_AD_Recall: 0.6220 - val_CN_Recall: 0.9036 - val_MCI_Recall: 0.6096\n",
            "Epoch 4/50\n",
            "698/698 [==============================] - 54s 78ms/step - loss: 1.5193 - Accuracy: 0.7250 - AD_Precision: 0.6333 - CN_Precision: 0.7015 - MCI_Precision: 0.7707 - AD_Recall: 0.6233 - CN_Recall: 0.6982 - MCI_Recall: 0.7701 - val_loss: 3.9003 - val_Accuracy: 0.7006 - val_AD_Precision: 1.0000 - val_CN_Precision: 0.8221 - val_MCI_Precision: 0.6629 - val_AD_Recall: 0.0079 - val_CN_Recall: 0.6802 - val_MCI_Recall: 0.9465\n",
            "Epoch 5/50\n",
            "698/698 [==============================] - 54s 78ms/step - loss: 0.9801 - Accuracy: 0.7691 - AD_Precision: 0.6918 - CN_Precision: 0.7485 - MCI_Precision: 0.8134 - AD_Recall: 0.6864 - CN_Recall: 0.7485 - MCI_Recall: 0.8066 - val_loss: 0.5219 - val_Accuracy: 0.8309 - val_AD_Precision: 0.7313 - val_CN_Precision: 0.8186 - val_MCI_Precision: 0.8817 - val_AD_Recall: 0.7717 - val_CN_Recall: 0.8477 - val_MCI_Recall: 0.8369\n",
            "Epoch 6/50\n",
            "698/698 [==============================] - 54s 78ms/step - loss: 0.7666 - Accuracy: 0.7974 - AD_Precision: 0.7355 - CN_Precision: 0.7976 - MCI_Precision: 0.8240 - AD_Recall: 0.7022 - CN_Recall: 0.7836 - MCI_Recall: 0.8332 - val_loss: 0.6047 - val_Accuracy: 0.7880 - val_AD_Precision: 0.7917 - val_CN_Precision: 0.6790 - val_MCI_Precision: 0.9103 - val_AD_Recall: 0.7480 - val_CN_Recall: 0.9340 - val_MCI_Recall: 0.7059\n",
            "Epoch 7/50\n",
            "698/698 [==============================] - 54s 78ms/step - loss: 0.5837 - Accuracy: 0.8222 - AD_Precision: 0.7951 - CN_Precision: 0.8050 - MCI_Precision: 0.8485 - AD_Recall: 0.7732 - CN_Recall: 0.7871 - MCI_Recall: 0.8556 - val_loss: 0.5647 - val_Accuracy: 0.8052 - val_AD_Precision: 0.5736 - val_CN_Precision: 0.9250 - val_MCI_Precision: 0.8939 - val_AD_Recall: 0.8898 - val_CN_Recall: 0.7513 - val_MCI_Recall: 0.7888\n",
            "Epoch 8/50\n",
            "698/698 [==============================] - 54s 78ms/step - loss: 0.4750 - Accuracy: 0.8379 - AD_Precision: 0.8016 - CN_Precision: 0.8284 - MCI_Precision: 0.8619 - AD_Recall: 0.7732 - CN_Recall: 0.8187 - MCI_Recall: 0.8662 - val_loss: 1.0972 - val_Accuracy: 0.6074 - val_AD_Precision: 0.8500 - val_CN_Precision: 0.4495 - val_MCI_Precision: 0.9517 - val_AD_Recall: 0.6693 - val_CN_Recall: 0.9949 - val_MCI_Recall: 0.3690\n",
            "Epoch 9/50\n",
            "698/698 [==============================] - 54s 78ms/step - loss: 0.3473 - Accuracy: 0.8770 - AD_Precision: 0.8360 - CN_Precision: 0.8808 - MCI_Precision: 0.9006 - AD_Recall: 0.8146 - CN_Recall: 0.8725 - MCI_Recall: 0.8956 - val_loss: 1.3592 - val_Accuracy: 0.6433 - val_AD_Precision: 0.9767 - val_CN_Precision: 1.0000 - val_MCI_Precision: 0.6023 - val_AD_Recall: 0.3307 - val_CN_Recall: 0.1675 - val_MCI_Recall: 1.0000\n",
            "Epoch 10/50\n",
            "698/698 [==============================] - 54s 77ms/step - loss: 0.4206 - Accuracy: 0.8591 - AD_Precision: 0.8376 - CN_Precision: 0.8726 - MCI_Precision: 0.8673 - AD_Recall: 0.7830 - CN_Recall: 0.8491 - MCI_Recall: 0.8837 - val_loss: 0.6607 - val_Accuracy: 0.7722 - val_AD_Precision: 0.9811 - val_CN_Precision: 0.9739 - val_MCI_Precision: 0.7126 - val_AD_Recall: 0.4094 - val_CN_Recall: 0.5685 - val_MCI_Recall: 0.9947\n",
            "Epoch 11/50\n",
            "698/698 [==============================] - 54s 78ms/step - loss: 0.3474 - Accuracy: 0.8706 - AD_Precision: 0.8562 - CN_Precision: 0.8681 - MCI_Precision: 0.8847 - AD_Recall: 0.8107 - CN_Recall: 0.8620 - MCI_Recall: 0.8872 - val_loss: 1.0286 - val_Accuracy: 0.6476 - val_AD_Precision: 0.8966 - val_CN_Precision: 0.4770 - val_MCI_Precision: 0.9296 - val_AD_Recall: 0.4094 - val_CN_Recall: 1.0000 - val_MCI_Recall: 0.5294\n",
            "Epoch 12/50\n",
            "698/698 [==============================] - 54s 78ms/step - loss: 0.3123 - Accuracy: 0.8885 - AD_Precision: 0.8565 - CN_Precision: 0.8969 - MCI_Precision: 0.9009 - AD_Recall: 0.8008 - CN_Recall: 0.8854 - MCI_Recall: 0.9110 - val_loss: 1.5138 - val_Accuracy: 0.5229 - val_AD_Precision: 0.3056 - val_CN_Precision: 0.9783 - val_MCI_Precision: 0.8341 - val_AD_Recall: 0.9843 - val_CN_Recall: 0.2284 - val_MCI_Recall: 0.5107\n",
            "Epoch 13/50\n",
            "698/698 [==============================] - 54s 78ms/step - loss: 0.2825 - Accuracy: 0.9014 - AD_Precision: 0.8758 - CN_Precision: 0.9040 - MCI_Precision: 0.9184 - AD_Recall: 0.8481 - CN_Recall: 0.8807 - MCI_Recall: 0.9229 - val_loss: 0.8214 - val_Accuracy: 0.7264 - val_AD_Precision: 0.9048 - val_CN_Precision: 0.9683 - val_MCI_Precision: 0.6740 - val_AD_Recall: 0.5984 - val_CN_Recall: 0.3096 - val_MCI_Recall: 0.9893\n",
            "Epoch 14/50\n",
            "698/698 [==============================] - 55s 78ms/step - loss: 0.2675 - Accuracy: 0.8975 - AD_Precision: 0.8724 - CN_Precision: 0.9031 - MCI_Precision: 0.9107 - AD_Recall: 0.8363 - CN_Recall: 0.8936 - MCI_Recall: 0.9152 - val_loss: 0.6780 - val_Accuracy: 0.7335 - val_AD_Precision: 0.6629 - val_CN_Precision: 0.6481 - val_MCI_Precision: 0.9797 - val_AD_Recall: 0.9291 - val_CN_Recall: 0.9442 - val_MCI_Recall: 0.5160\n",
            "Epoch 15/50\n",
            "698/698 [==============================] - 54s 77ms/step - loss: 0.2340 - Accuracy: 0.9139 - AD_Precision: 0.8697 - CN_Precision: 0.9342 - MCI_Precision: 0.9250 - AD_Recall: 0.8422 - CN_Recall: 0.9135 - MCI_Recall: 0.9334 - val_loss: 0.5015 - val_Accuracy: 0.8166 - val_AD_Precision: 0.9487 - val_CN_Precision: 0.7030 - val_MCI_Precision: 0.8964 - val_AD_Recall: 0.5827 - val_CN_Recall: 0.9492 - val_MCI_Recall: 0.8102\n",
            "Epoch 16/50\n",
            "698/698 [==============================] - 58s 83ms/step - loss: 0.2183 - Accuracy: 0.9186 - AD_Precision: 0.9115 - CN_Precision: 0.9265 - MCI_Precision: 0.9205 - AD_Recall: 0.8738 - CN_Recall: 0.8994 - MCI_Recall: 0.9334 - val_loss: 0.3533 - val_Accuracy: 0.8983 - val_AD_Precision: 0.9320 - val_CN_Precision: 0.9153 - val_MCI_Precision: 0.8856 - val_AD_Recall: 0.7559 - val_CN_Recall: 0.8782 - val_MCI_Recall: 0.9519\n",
            "Epoch 17/50\n",
            "698/698 [==============================] - 55s 79ms/step - loss: 0.2465 - Accuracy: 0.9093 - AD_Precision: 0.8966 - CN_Precision: 0.9099 - MCI_Precision: 0.9186 - AD_Recall: 0.8718 - CN_Recall: 0.9099 - MCI_Recall: 0.9173 - val_loss: 0.3400 - val_Accuracy: 0.8954 - val_AD_Precision: 0.9485 - val_CN_Precision: 0.8732 - val_MCI_Precision: 0.8934 - val_AD_Recall: 0.7244 - val_CN_Recall: 0.9086 - val_MCI_Recall: 0.9412\n",
            "Epoch 18/50\n",
            "698/698 [==============================] - 57s 82ms/step - loss: 0.2050 - Accuracy: 0.9200 - AD_Precision: 0.9037 - CN_Precision: 0.9277 - MCI_Precision: 0.9281 - AD_Recall: 0.8698 - CN_Recall: 0.9158 - MCI_Recall: 0.9313 - val_loss: 0.3175 - val_Accuracy: 0.9083 - val_AD_Precision: 0.8824 - val_CN_Precision: 0.9086 - val_MCI_Precision: 0.9158 - val_AD_Recall: 0.8268 - val_CN_Recall: 0.9086 - val_MCI_Recall: 0.9305\n",
            "Epoch 19/50\n",
            "698/698 [==============================] - 54s 78ms/step - loss: 0.2105 - Accuracy: 0.9233 - AD_Precision: 0.9045 - CN_Precision: 0.9304 - MCI_Precision: 0.9309 - AD_Recall: 0.8777 - CN_Recall: 0.9228 - MCI_Recall: 0.9341 - val_loss: 0.4573 - val_Accuracy: 0.8596 - val_AD_Precision: 0.9512 - val_CN_Precision: 0.8691 - val_MCI_Precision: 0.8534 - val_AD_Recall: 0.6142 - val_CN_Recall: 0.8426 - val_MCI_Recall: 0.9492\n",
            "Epoch 20/50\n",
            "698/698 [==============================] - 54s 77ms/step - loss: 0.2035 - Accuracy: 0.9226 - AD_Precision: 0.9165 - CN_Precision: 0.9264 - MCI_Precision: 0.9315 - AD_Recall: 0.8876 - CN_Recall: 0.9123 - MCI_Recall: 0.9341 - val_loss: 0.4440 - val_Accuracy: 0.8553 - val_AD_Precision: 0.9318 - val_CN_Precision: 0.9732 - val_MCI_Precision: 0.8053 - val_AD_Recall: 0.6457 - val_CN_Recall: 0.7360 - val_MCI_Recall: 0.9840\n",
            "Epoch 21/50\n",
            "698/698 [==============================] - 54s 77ms/step - loss: 0.2211 - Accuracy: 0.9211 - AD_Precision: 0.9270 - CN_Precision: 0.9190 - MCI_Precision: 0.9296 - AD_Recall: 0.9014 - CN_Recall: 0.9018 - MCI_Recall: 0.9348 - val_loss: 1.2752 - val_Accuracy: 0.7106 - val_AD_Precision: 0.9057 - val_CN_Precision: 1.0000 - val_MCI_Precision: 0.6578 - val_AD_Recall: 0.7559 - val_CN_Recall: 0.1472 - val_MCI_Recall: 0.9866\n",
            "Epoch 22/50\n",
            "698/698 [==============================] - 54s 78ms/step - loss: 0.1629 - Accuracy: 0.9426 - AD_Precision: 0.9328 - CN_Precision: 0.9417 - MCI_Precision: 0.9502 - AD_Recall: 0.9034 - CN_Recall: 0.9439 - MCI_Recall: 0.9502 - val_loss: 0.3845 - val_Accuracy: 0.8854 - val_AD_Precision: 0.8413 - val_CN_Precision: 0.8341 - val_MCI_Precision: 0.9415 - val_AD_Recall: 0.8346 - val_CN_Recall: 0.9442 - val_MCI_Recall: 0.8610\n",
            "Epoch 23/50\n",
            "698/698 [==============================] - 54s 78ms/step - loss: 0.1756 - Accuracy: 0.9416 - AD_Precision: 0.9231 - CN_Precision: 0.9492 - MCI_Precision: 0.9458 - AD_Recall: 0.8994 - CN_Recall: 0.9404 - MCI_Recall: 0.9530 - val_loss: 0.5262 - val_Accuracy: 0.8438 - val_AD_Precision: 0.9615 - val_CN_Precision: 0.8531 - val_MCI_Precision: 0.8318 - val_AD_Recall: 0.3937 - val_CN_Recall: 0.9137 - val_MCI_Recall: 0.9519\n",
            "Epoch 24/50\n",
            "698/698 [==============================] - 54s 77ms/step - loss: 0.1415 - Accuracy: 0.9505 - AD_Precision: 0.9437 - CN_Precision: 0.9522 - MCI_Precision: 0.9544 - AD_Recall: 0.9250 - CN_Recall: 0.9556 - MCI_Recall: 0.9530 - val_loss: 0.3405 - val_Accuracy: 0.8868 - val_AD_Precision: 0.7708 - val_CN_Precision: 0.8846 - val_MCI_Precision: 0.9493 - val_AD_Recall: 0.8740 - val_CN_Recall: 0.9340 - val_MCI_Recall: 0.8503\n",
            "Epoch 25/50\n",
            "698/698 [==============================] - 54s 77ms/step - loss: 0.1285 - Accuracy: 0.9548 - AD_Precision: 0.9399 - CN_Precision: 0.9612 - MCI_Precision: 0.9588 - AD_Recall: 0.9250 - CN_Recall: 0.9556 - MCI_Recall: 0.9629 - val_loss: 0.3486 - val_Accuracy: 0.8897 - val_AD_Precision: 0.8942 - val_CN_Precision: 0.8296 - val_MCI_Precision: 0.9290 - val_AD_Recall: 0.7323 - val_CN_Recall: 0.9391 - val_MCI_Recall: 0.9091\n",
            "Epoch 26/50\n",
            "698/698 [==============================] - 54s 77ms/step - loss: 0.1558 - Accuracy: 0.9412 - AD_Precision: 0.9357 - CN_Precision: 0.9364 - MCI_Precision: 0.9490 - AD_Recall: 0.9191 - CN_Recall: 0.9298 - MCI_Recall: 0.9516 - val_loss: 0.3454 - val_Accuracy: 0.8983 - val_AD_Precision: 0.8231 - val_CN_Precision: 0.9448 - val_MCI_Precision: 0.9062 - val_AD_Recall: 0.8425 - val_CN_Recall: 0.8680 - val_MCI_Recall: 0.9305\n",
            "Epoch 27/50\n",
            "698/698 [==============================] - 54s 77ms/step - loss: 0.1479 - Accuracy: 0.9426 - AD_Precision: 0.9178 - CN_Precision: 0.9542 - MCI_Precision: 0.9475 - AD_Recall: 0.9034 - CN_Recall: 0.9497 - MCI_Recall: 0.9488 - val_loss: 0.5398 - val_Accuracy: 0.8610 - val_AD_Precision: 0.9692 - val_CN_Precision: 0.8230 - val_MCI_Precision: 0.8688 - val_AD_Recall: 0.4961 - val_CN_Recall: 0.9442 - val_MCI_Recall: 0.9385\n",
            "Epoch 28/50\n",
            "698/698 [==============================] - 54s 77ms/step - loss: 0.1075 - Accuracy: 0.9652 - AD_Precision: 0.9718 - CN_Precision: 0.9578 - MCI_Precision: 0.9678 - AD_Recall: 0.9527 - CN_Recall: 0.9567 - MCI_Recall: 0.9699 - val_loss: 0.5493 - val_Accuracy: 0.8424 - val_AD_Precision: 0.9423 - val_CN_Precision: 0.9754 - val_MCI_Precision: 0.7872 - val_AD_Recall: 0.7717 - val_CN_Recall: 0.6041 - val_MCI_Recall: 0.9893\n",
            "Epoch 29/50\n",
            "698/698 [==============================] - 54s 78ms/step - loss: 0.1285 - Accuracy: 0.9570 - AD_Precision: 0.9287 - CN_Precision: 0.9659 - MCI_Precision: 0.9629 - AD_Recall: 0.9250 - CN_Recall: 0.9614 - MCI_Recall: 0.9643 - val_loss: 0.3369 - val_Accuracy: 0.9026 - val_AD_Precision: 0.9200 - val_CN_Precision: 0.9415 - val_MCI_Precision: 0.8867 - val_AD_Recall: 0.7244 - val_CN_Recall: 0.8985 - val_MCI_Recall: 0.9626\n",
            "Epoch 30/50\n",
            "698/698 [==============================] - 54s 77ms/step - loss: 0.1133 - Accuracy: 0.9598 - AD_Precision: 0.9461 - CN_Precision: 0.9591 - MCI_Precision: 0.9657 - AD_Recall: 0.9349 - CN_Recall: 0.9602 - MCI_Recall: 0.9657 - val_loss: 0.3820 - val_Accuracy: 0.8926 - val_AD_Precision: 0.9556 - val_CN_Precision: 0.8756 - val_MCI_Precision: 0.8886 - val_AD_Recall: 0.6772 - val_CN_Recall: 0.9289 - val_MCI_Recall: 0.9385\n",
            "Epoch 31/50\n",
            "698/698 [==============================] - 53s 77ms/step - loss: 0.1196 - Accuracy: 0.9570 - AD_Precision: 0.9401 - CN_Precision: 0.9534 - MCI_Precision: 0.9669 - AD_Recall: 0.9290 - CN_Recall: 0.9579 - MCI_Recall: 0.9636 - val_loss: 0.4647 - val_Accuracy: 0.8825 - val_AD_Precision: 0.9560 - val_CN_Precision: 0.9812 - val_MCI_Precision: 0.8348 - val_AD_Recall: 0.6850 - val_CN_Recall: 0.7970 - val_MCI_Recall: 0.9866\n",
            "Epoch 32/50\n",
            "698/698 [==============================] - 53s 76ms/step - loss: 0.0945 - Accuracy: 0.9652 - AD_Precision: 0.9563 - CN_Precision: 0.9636 - MCI_Precision: 0.9713 - AD_Recall: 0.9487 - CN_Recall: 0.9602 - MCI_Recall: 0.9720 - val_loss: 0.3983 - val_Accuracy: 0.8940 - val_AD_Precision: 0.8015 - val_CN_Precision: 0.9058 - val_MCI_Precision: 0.9241 - val_AD_Recall: 0.8583 - val_CN_Recall: 0.8782 - val_MCI_Recall: 0.9118\n",
            "Epoch 33/50\n",
            "698/698 [==============================] - 53s 76ms/step - loss: 0.1396 - Accuracy: 0.9512 - AD_Precision: 0.9440 - CN_Precision: 0.9484 - MCI_Precision: 0.9574 - AD_Recall: 0.9310 - CN_Recall: 0.9450 - MCI_Recall: 0.9615 - val_loss: 0.8364 - val_Accuracy: 0.7521 - val_AD_Precision: 0.5535 - val_CN_Precision: 0.7562 - val_MCI_Precision: 0.9682 - val_AD_Recall: 0.9370 - val_CN_Recall: 0.9289 - val_MCI_Recall: 0.5695\n",
            "Epoch 34/50\n",
            "698/698 [==============================] - 53s 77ms/step - loss: 0.1163 - Accuracy: 0.9570 - AD_Precision: 0.9365 - CN_Precision: 0.9625 - MCI_Precision: 0.9636 - AD_Recall: 0.9310 - CN_Recall: 0.9602 - MCI_Recall: 0.9636 - val_loss: 0.5615 - val_Accuracy: 0.8668 - val_AD_Precision: 0.9481 - val_CN_Precision: 0.9371 - val_MCI_Precision: 0.8299 - val_AD_Recall: 0.5748 - val_CN_Recall: 0.8325 - val_MCI_Recall: 0.9786\n",
            "Epoch 35/50\n",
            "698/698 [==============================] - 58s 83ms/step - loss: 0.0807 - Accuracy: 0.9753 - AD_Precision: 0.9662 - CN_Precision: 0.9765 - MCI_Precision: 0.9797 - AD_Recall: 0.9586 - CN_Recall: 0.9708 - MCI_Recall: 0.9818 - val_loss: 0.8583 - val_Accuracy: 0.8238 - val_AD_Precision: 1.0000 - val_CN_Precision: 0.8980 - val_MCI_Precision: 0.7876 - val_AD_Recall: 0.2441 - val_CN_Recall: 0.8934 - val_MCI_Recall: 0.9813\n",
            "Epoch 36/50\n",
            "698/698 [==============================] - 54s 77ms/step - loss: 0.1232 - Accuracy: 0.9534 - AD_Precision: 0.9384 - CN_Precision: 0.9610 - MCI_Precision: 0.9573 - AD_Recall: 0.9310 - CN_Recall: 0.9509 - MCI_Recall: 0.9594 - val_loss: 0.4486 - val_Accuracy: 0.8926 - val_AD_Precision: 0.9167 - val_CN_Precision: 0.9263 - val_MCI_Precision: 0.8821 - val_AD_Recall: 0.6929 - val_CN_Recall: 0.8934 - val_MCI_Recall: 0.9599\n",
            "Epoch 37/50\n",
            "698/698 [==============================] - 54s 77ms/step - loss: 0.0848 - Accuracy: 0.9674 - AD_Precision: 0.9618 - CN_Precision: 0.9728 - MCI_Precision: 0.9674 - AD_Recall: 0.9448 - CN_Recall: 0.9614 - MCI_Recall: 0.9769 - val_loss: 0.4246 - val_Accuracy: 0.8897 - val_AD_Precision: 0.8899 - val_CN_Precision: 0.8217 - val_MCI_Precision: 0.9435 - val_AD_Recall: 0.7638 - val_CN_Recall: 0.9594 - val_MCI_Recall: 0.8930\n",
            "Epoch 38/50\n",
            "698/698 [==============================] - 54s 77ms/step - loss: 0.1214 - Accuracy: 0.9552 - AD_Precision: 0.9398 - CN_Precision: 0.9567 - MCI_Precision: 0.9615 - AD_Recall: 0.9231 - CN_Recall: 0.9556 - MCI_Recall: 0.9629 - val_loss: 0.4195 - val_Accuracy: 0.8926 - val_AD_Precision: 0.8168 - val_CN_Precision: 0.8714 - val_MCI_Precision: 0.9432 - val_AD_Recall: 0.8425 - val_CN_Recall: 0.9289 - val_MCI_Recall: 0.8877\n",
            "Epoch 39/50\n",
            "698/698 [==============================] - 54s 78ms/step - loss: 0.0899 - Accuracy: 0.9688 - AD_Precision: 0.9683 - CN_Precision: 0.9648 - MCI_Precision: 0.9720 - AD_Recall: 0.9645 - CN_Recall: 0.9626 - MCI_Recall: 0.9741 - val_loss: 0.5110 - val_Accuracy: 0.8782 - val_AD_Precision: 0.9348 - val_CN_Precision: 0.9753 - val_MCI_Precision: 0.8326 - val_AD_Recall: 0.6772 - val_CN_Recall: 0.8020 - val_MCI_Recall: 0.9840\n",
            "Epoch 40/50\n",
            "698/698 [==============================] - 54s 78ms/step - loss: 0.0839 - Accuracy: 0.9735 - AD_Precision: 0.9626 - CN_Precision: 0.9730 - MCI_Precision: 0.9790 - AD_Recall: 0.9645 - CN_Recall: 0.9696 - MCI_Recall: 0.9783 - val_loss: 1.1929 - val_Accuracy: 0.7034 - val_AD_Precision: 0.7255 - val_CN_Precision: 0.5496 - val_MCI_Precision: 0.9889 - val_AD_Recall: 0.8740 - val_CN_Recall: 0.9848 - val_MCI_Recall: 0.4759\n",
            "Epoch 41/50\n",
            "698/698 [==============================] - 54s 78ms/step - loss: 0.0850 - Accuracy: 0.9684 - AD_Precision: 0.9742 - CN_Precision: 0.9592 - MCI_Precision: 0.9726 - AD_Recall: 0.9665 - CN_Recall: 0.9614 - MCI_Recall: 0.9713 - val_loss: 0.5498 - val_Accuracy: 0.8639 - val_AD_Precision: 0.9595 - val_CN_Precision: 0.9483 - val_MCI_Precision: 0.8156 - val_AD_Recall: 0.5591 - val_CN_Recall: 0.8376 - val_MCI_Recall: 0.9813\n",
            "Epoch 42/50\n",
            "698/698 [==============================] - 54s 77ms/step - loss: 0.1016 - Accuracy: 0.9667 - AD_Precision: 0.9582 - CN_Precision: 0.9717 - MCI_Precision: 0.9686 - AD_Recall: 0.9487 - CN_Recall: 0.9626 - MCI_Recall: 0.9741 - val_loss: 0.8825 - val_Accuracy: 0.7966 - val_AD_Precision: 0.9688 - val_CN_Precision: 0.6361 - val_MCI_Precision: 0.9169 - val_AD_Recall: 0.4882 - val_CN_Recall: 0.9848 - val_MCI_Recall: 0.7968\n",
            "Epoch 43/50\n",
            "698/698 [==============================] - 54s 77ms/step - loss: 0.0725 - Accuracy: 0.9763 - AD_Precision: 0.9641 - CN_Precision: 0.9813 - MCI_Precision: 0.9783 - AD_Recall: 0.9546 - CN_Recall: 0.9813 - MCI_Recall: 0.9797 - val_loss: 0.4465 - val_Accuracy: 0.8897 - val_AD_Precision: 0.7651 - val_CN_Precision: 0.8815 - val_MCI_Precision: 0.9580 - val_AD_Recall: 0.8976 - val_CN_Recall: 0.9442 - val_MCI_Recall: 0.8529\n",
            "Epoch 44/50\n",
            "698/698 [==============================] - 58s 83ms/step - loss: 0.0921 - Accuracy: 0.9681 - AD_Precision: 0.9564 - CN_Precision: 0.9670 - MCI_Precision: 0.9742 - AD_Recall: 0.9527 - CN_Recall: 0.9602 - MCI_Recall: 0.9776 - val_loss: 0.3412 - val_Accuracy: 0.9112 - val_AD_Precision: 0.8710 - val_CN_Precision: 0.9086 - val_MCI_Precision: 0.9253 - val_AD_Recall: 0.8504 - val_CN_Recall: 0.9086 - val_MCI_Recall: 0.9278\n",
            "Epoch 45/50\n",
            "698/698 [==============================] - 56s 80ms/step - loss: 0.0759 - Accuracy: 0.9720 - AD_Precision: 0.9585 - CN_Precision: 0.9765 - MCI_Precision: 0.9748 - AD_Recall: 0.9566 - CN_Recall: 0.9719 - MCI_Recall: 0.9769 - val_loss: 0.5193 - val_Accuracy: 0.8897 - val_AD_Precision: 0.7755 - val_CN_Precision: 0.9806 - val_MCI_Precision: 0.9005 - val_AD_Recall: 0.8976 - val_CN_Recall: 0.7716 - val_MCI_Recall: 0.9439\n",
            "Epoch 46/50\n",
            "698/698 [==============================] - 56s 80ms/step - loss: 0.0872 - Accuracy: 0.9663 - AD_Precision: 0.9701 - CN_Precision: 0.9626 - MCI_Precision: 0.9685 - AD_Recall: 0.9586 - CN_Recall: 0.9626 - MCI_Recall: 0.9699 - val_loss: 0.5312 - val_Accuracy: 0.8868 - val_AD_Precision: 0.9740 - val_CN_Precision: 0.9100 - val_MCI_Precision: 0.8599 - val_AD_Recall: 0.5906 - val_CN_Recall: 0.9239 - val_MCI_Recall: 0.9679\n",
            "Epoch 47/50\n",
            "698/698 [==============================] - 56s 80ms/step - loss: 0.0593 - Accuracy: 0.9817 - AD_Precision: 0.9782 - CN_Precision: 0.9825 - MCI_Precision: 0.9825 - AD_Recall: 0.9744 - CN_Recall: 0.9836 - MCI_Recall: 0.9818 - val_loss: 0.6105 - val_Accuracy: 0.8668 - val_AD_Precision: 0.9714 - val_CN_Precision: 0.9551 - val_MCI_Precision: 0.8210 - val_AD_Recall: 0.5354 - val_CN_Recall: 0.8629 - val_MCI_Recall: 0.9813\n",
            "Epoch 48/50\n",
            "698/698 [==============================] - 55s 79ms/step - loss: 0.1227 - Accuracy: 0.9606 - AD_Precision: 0.9564 - CN_Precision: 0.9543 - MCI_Precision: 0.9658 - AD_Recall: 0.9527 - CN_Recall: 0.9520 - MCI_Recall: 0.9685 - val_loss: 0.5146 - val_Accuracy: 0.8983 - val_AD_Precision: 0.9300 - val_CN_Precision: 0.9709 - val_MCI_Precision: 0.8656 - val_AD_Recall: 0.7323 - val_CN_Recall: 0.8477 - val_MCI_Recall: 0.9813\n",
            "Epoch 49/50\n",
            "698/698 [==============================] - 56s 80ms/step - loss: 0.0875 - Accuracy: 0.9681 - AD_Precision: 0.9529 - CN_Precision: 0.9706 - MCI_Precision: 0.9720 - AD_Recall: 0.9586 - CN_Recall: 0.9649 - MCI_Recall: 0.9720 - val_loss: 0.3847 - val_Accuracy: 0.9011 - val_AD_Precision: 0.8571 - val_CN_Precision: 0.8714 - val_MCI_Precision: 0.9415 - val_AD_Recall: 0.8504 - val_CN_Recall: 0.9289 - val_MCI_Recall: 0.9037\n",
            "Epoch 50/50\n",
            "698/698 [==============================] - 59s 85ms/step - loss: 0.0802 - Accuracy: 0.9717 - AD_Precision: 0.9741 - CN_Precision: 0.9639 - MCI_Precision: 0.9776 - AD_Recall: 0.9625 - CN_Recall: 0.9673 - MCI_Recall: 0.9769 - val_loss: 0.3780 - val_Accuracy: 0.9198 - val_AD_Precision: 0.9076 - val_CN_Precision: 0.9459 - val_MCI_Precision: 0.9203 - val_AD_Recall: 0.8504 - val_CN_Recall: 0.8883 - val_MCI_Recall: 0.9572\n"
          ]
        }
      ],
      "source": [
        "# learning_rate=10E-5\n",
        "savepath = '/content/drive/MyDrive/ADNI/resnet50_pretrained_10E-5/'\n",
        "lr=0.00001\n",
        "if not os.path.isdir(savepath):\n",
        "      os.makedirs(savepath)\n",
        "csvloger_callback = tf.keras.callbacks.CSVLogger(f'{savepath}history.csv', separator=',', append=False)\n",
        "\n",
        "modelcheckpoint_callback = tf.keras.callbacks.ModelCheckpoint(savepath+'resnet50_pretrained_10E-5_weights-epoch:{epoch:03d}-val_Accuracy:{val_Accuracy:.4f}.h5',monitor='val_Accuracy'\n",
        "    ,verbose=0,save_best_only=True,save_weights_only=True,mode='max',save_freq='epoch' , initial_value_threshold=0.85)\n",
        "\n",
        "OPT = tf.keras.optimizers.Adam(learning_rate=lr)\n",
        "model02 = resnet50_pretrained(OPT, LOOS,METRICS,image_Shape)\n",
        "history02 = model02.fit(training_image_datagen, epochs=EPOCH, validation_data=testing_image_datagen,callbacks=[csvloger_callback,modelcheckpoint_callback])\n",
        "model02 = resnet50_pretrained(OPT, LOOS,METRICS,image_Shape)\n",
        "model02.load_weights(glob.glob(f\"{savepath}resnet50_pretrained_10E-5_weights-epoch:*-val_Accuracy:{max(history02.history['val_Accuracy']):.4f}.h5\")[0])"
      ]
    },
    {
      "cell_type": "code",
      "execution_count": null,
      "metadata": {
        "colab": {
          "base_uri": "https://localhost:8080/",
          "height": 477
        },
        "id": "zXvq2LTMB9ou",
        "outputId": "be365ad3-b8be-4778-daa8-e9c55fd94fce"
      },
      "outputs": [
        {
          "name": "stdout",
          "output_type": "stream",
          "text": [
            "              precision    recall  f1-score   support\n",
            "\n",
            "          AD       0.90      0.85      0.87       127\n",
            "          CN       0.94      0.89      0.91       197\n",
            "         MCI       0.92      0.96      0.94       374\n",
            "\n",
            "    accuracy                           0.92       698\n",
            "   macro avg       0.92      0.90      0.91       698\n",
            "weighted avg       0.92      0.92      0.92       698\n",
            "\n"
          ]
        },
        {
          "data": {
            "image/png": "[encoded data removed]",
            "text/plain": [
              "<Figure size 432x288 with 2 Axes>"
            ]
          },
          "metadata": {
            "needs_background": "light"
          },
          "output_type": "display_data"
        }
      ],
      "source": [
        "p = model02.predict(testing_image_datagen)\n",
        "predicted_lab = p.argmax(axis=-1)\n",
        "true_lab = testing_image_datagen.classes\n",
        "plot_confusion_matrix(true_lab, predicted_lab, testing_image_datagen.class_indices.keys(),savepath)\n",
        "report = classification_report(true_lab, predicted_lab, target_names=testing_image_datagen.class_indices.keys())\n",
        "print(report)\n",
        "dump_text(report,f'{savepath}classification_report.txt')"
      ]
    },
    {
      "cell_type": "markdown",
      "metadata": {
        "id": "jIcC7H-pI82Y"
      },
      "source": [
        "### learning_rate=10E-6"
      ]
    },
    {
      "cell_type": "code",
      "execution_count": null,
      "metadata": {
        "colab": {
          "base_uri": "https://localhost:8080/"
        },
        "id": "wjUS7A9VCIWX",
        "outputId": "42b99232-404c-454a-e72e-7164c1dfede8"
      },
      "outputs": [
        {
          "name": "stdout",
          "output_type": "stream",
          "text": [
            "Epoch 1/50\n",
            "698/698 [==============================] - 61s 80ms/step - loss: 3.5724 - Accuracy: 0.5139 - AD_Precision: 0.3558 - CN_Precision: 0.4495 - MCI_Precision: 0.6105 - AD_Recall: 0.3407 - CN_Recall: 0.4354 - MCI_Recall: 0.6135 - val_loss: 2.0704 - val_Accuracy: 0.4585 - val_AD_Precision: 0.6000 - val_CN_Precision: 0.3526 - val_MCI_Precision: 0.7105 - val_AD_Recall: 0.1181 - val_CN_Recall: 0.8376 - val_MCI_Recall: 0.3610\n",
            "Epoch 2/50\n",
            "698/698 [==============================] - 54s 78ms/step - loss: 2.8304 - Accuracy: 0.5009 - AD_Precision: 0.3221 - CN_Precision: 0.4561 - MCI_Precision: 0.5924 - AD_Recall: 0.3018 - CN_Recall: 0.4433 - MCI_Recall: 0.5929 - val_loss: 1.2083 - val_Accuracy: 0.6218 - val_AD_Precision: 0.5625 - val_CN_Precision: 0.5273 - val_MCI_Precision: 0.6997 - val_AD_Recall: 0.1417 - val_CN_Recall: 0.6853 - val_MCI_Recall: 0.7166\n",
            "Epoch 3/50\n",
            "698/698 [==============================] - 55s 78ms/step - loss: 2.3611 - Accuracy: 0.5489 - AD_Precision: 0.4044 - CN_Precision: 0.5048 - MCI_Precision: 0.6366 - AD_Recall: 0.3964 - CN_Recall: 0.4936 - MCI_Recall: 0.6272 - val_loss: 1.0962 - val_Accuracy: 0.6662 - val_AD_Precision: 0.5060 - val_CN_Precision: 0.7068 - val_MCI_Precision: 0.7500 - val_AD_Recall: 0.6693 - val_CN_Recall: 0.4772 - val_MCI_Recall: 0.7380\n",
            "Epoch 4/50\n",
            "698/698 [==============================] - 54s 77ms/step - loss: 2.1233 - Accuracy: 0.5859 - AD_Precision: 0.4590 - CN_Precision: 0.5442 - MCI_Precision: 0.6579 - AD_Recall: 0.4418 - CN_Recall: 0.5251 - MCI_Recall: 0.6643 - val_loss: 1.1979 - val_Accuracy: 0.6676 - val_AD_Precision: 0.7778 - val_CN_Precision: 0.7808 - val_MCI_Precision: 0.6420 - val_AD_Recall: 0.3858 - val_CN_Recall: 0.2893 - val_MCI_Recall: 0.9492\n",
            "Epoch 5/50\n",
            "698/698 [==============================] - 54s 78ms/step - loss: 1.9165 - Accuracy: 0.6207 - AD_Precision: 0.4979 - CN_Precision: 0.5875 - MCI_Precision: 0.6896 - AD_Recall: 0.4773 - CN_Recall: 0.5813 - MCI_Recall: 0.6882 - val_loss: 1.1493 - val_Accuracy: 0.6934 - val_AD_Precision: 0.9118 - val_CN_Precision: 0.7949 - val_MCI_Precision: 0.6587 - val_AD_Recall: 0.2441 - val_CN_Recall: 0.4721 - val_MCI_Recall: 0.9545\n",
            "Epoch 6/50\n",
            "698/698 [==============================] - 54s 77ms/step - loss: 1.5849 - Accuracy: 0.6662 - AD_Precision: 0.5449 - CN_Precision: 0.6409 - MCI_Precision: 0.7298 - AD_Recall: 0.5266 - CN_Recall: 0.6199 - MCI_Recall: 0.7288 - val_loss: 1.0617 - val_Accuracy: 0.7335 - val_AD_Precision: 0.9118 - val_CN_Precision: 0.8433 - val_MCI_Precision: 0.6927 - val_AD_Recall: 0.2441 - val_CN_Recall: 0.5736 - val_MCI_Recall: 0.9706\n",
            "Epoch 7/50\n",
            "698/698 [==============================] - 55s 78ms/step - loss: 1.3874 - Accuracy: 0.7006 - AD_Precision: 0.5904 - CN_Precision: 0.6972 - MCI_Precision: 0.7484 - AD_Recall: 0.5799 - CN_Recall: 0.6760 - MCI_Recall: 0.7505 - val_loss: 0.7457 - val_Accuracy: 0.7564 - val_AD_Precision: 0.5799 - val_CN_Precision: 0.9252 - val_MCI_Precision: 0.8020 - val_AD_Recall: 0.7717 - val_CN_Recall: 0.5025 - val_MCI_Recall: 0.8770\n",
            "Epoch 8/50\n",
            "698/698 [==============================] - 54s 78ms/step - loss: 1.2133 - Accuracy: 0.7261 - AD_Precision: 0.6410 - CN_Precision: 0.7138 - MCI_Precision: 0.7684 - AD_Recall: 0.6233 - CN_Recall: 0.6971 - MCI_Recall: 0.7765 - val_loss: 1.6630 - val_Accuracy: 0.7278 - val_AD_Precision: 1.0000 - val_CN_Precision: 0.7290 - val_MCI_Precision: 0.7244 - val_AD_Recall: 0.0394 - val_CN_Recall: 0.7919 - val_MCI_Recall: 0.9278\n",
            "Epoch 9/50\n",
            "698/698 [==============================] - 54s 78ms/step - loss: 1.1789 - Accuracy: 0.7354 - AD_Precision: 0.6735 - CN_Precision: 0.6976 - MCI_Precision: 0.7827 - AD_Recall: 0.6509 - CN_Recall: 0.7041 - MCI_Recall: 0.7800 - val_loss: 0.5263 - val_Accuracy: 0.8338 - val_AD_Precision: 0.6923 - val_CN_Precision: 0.9114 - val_MCI_Precision: 0.8679 - val_AD_Recall: 0.7795 - val_CN_Recall: 0.7310 - val_MCI_Recall: 0.8957\n",
            "Epoch 10/50\n",
            "698/698 [==============================] - 54s 78ms/step - loss: 1.0005 - Accuracy: 0.7479 - AD_Precision: 0.6747 - CN_Precision: 0.7291 - MCI_Precision: 0.7932 - AD_Recall: 0.6627 - CN_Recall: 0.7240 - MCI_Recall: 0.7849 - val_loss: 0.8874 - val_Accuracy: 0.7249 - val_AD_Precision: 0.4412 - val_CN_Precision: 0.9097 - val_MCI_Precision: 0.9197 - val_AD_Recall: 0.9449 - val_CN_Recall: 0.6650 - val_MCI_Recall: 0.6738\n",
            "Epoch 11/50\n",
            "698/698 [==============================] - 54s 77ms/step - loss: 0.9311 - Accuracy: 0.7784 - AD_Precision: 0.7212 - CN_Precision: 0.7706 - MCI_Precision: 0.8082 - AD_Recall: 0.7041 - CN_Recall: 0.7544 - MCI_Recall: 0.8150 - val_loss: 0.5933 - val_Accuracy: 0.8195 - val_AD_Precision: 0.7734 - val_CN_Precision: 0.7206 - val_MCI_Precision: 0.9216 - val_AD_Recall: 0.7795 - val_CN_Recall: 0.9036 - val_MCI_Recall: 0.7861\n",
            "Epoch 12/50\n",
            "698/698 [==============================] - 54s 78ms/step - loss: 0.7626 - Accuracy: 0.8032 - AD_Precision: 0.7455 - CN_Precision: 0.7893 - MCI_Precision: 0.8365 - AD_Recall: 0.7278 - CN_Recall: 0.7801 - MCI_Recall: 0.8353 - val_loss: 0.5779 - val_Accuracy: 0.8195 - val_AD_Precision: 0.6750 - val_CN_Precision: 0.9124 - val_MCI_Precision: 0.8553 - val_AD_Recall: 0.8504 - val_CN_Recall: 0.6345 - val_MCI_Recall: 0.9011\n",
            "Epoch 13/50\n",
            "698/698 [==============================] - 54s 78ms/step - loss: 0.7024 - Accuracy: 0.8143 - AD_Precision: 0.7480 - CN_Precision: 0.8067 - MCI_Precision: 0.8510 - AD_Recall: 0.7377 - CN_Recall: 0.7906 - MCI_Recall: 0.8486 - val_loss: 0.6401 - val_Accuracy: 0.8367 - val_AD_Precision: 0.9268 - val_CN_Precision: 0.7500 - val_MCI_Precision: 0.8859 - val_AD_Recall: 0.5984 - val_CN_Recall: 0.9137 - val_MCI_Recall: 0.8717\n",
            "Epoch 14/50\n",
            "698/698 [==============================] - 55s 78ms/step - loss: 0.7266 - Accuracy: 0.8136 - AD_Precision: 0.7419 - CN_Precision: 0.8101 - MCI_Precision: 0.8484 - AD_Recall: 0.7258 - CN_Recall: 0.8035 - MCI_Recall: 0.8472 - val_loss: 0.7585 - val_Accuracy: 0.8123 - val_AD_Precision: 0.9492 - val_CN_Precision: 0.7023 - val_MCI_Precision: 0.8774 - val_AD_Recall: 0.4409 - val_CN_Recall: 0.9340 - val_MCI_Recall: 0.8610\n",
            "Epoch 15/50\n",
            "698/698 [==============================] - 54s 78ms/step - loss: 0.6092 - Accuracy: 0.8430 - AD_Precision: 0.8000 - CN_Precision: 0.8385 - MCI_Precision: 0.8638 - AD_Recall: 0.7811 - CN_Recall: 0.8257 - MCI_Recall: 0.8711 - val_loss: 0.7592 - val_Accuracy: 0.8309 - val_AD_Precision: 0.9804 - val_CN_Precision: 0.7902 - val_MCI_Precision: 0.8389 - val_AD_Recall: 0.3937 - val_CN_Recall: 0.8985 - val_MCI_Recall: 0.9332\n",
            "Epoch 16/50\n",
            "698/698 [==============================] - 54s 78ms/step - loss: 0.5344 - Accuracy: 0.8559 - AD_Precision: 0.8204 - CN_Precision: 0.8462 - MCI_Precision: 0.8800 - AD_Recall: 0.8107 - CN_Recall: 0.8491 - MCI_Recall: 0.8739 - val_loss: 0.7809 - val_Accuracy: 0.8223 - val_AD_Precision: 0.9437 - val_CN_Precision: 0.9448 - val_MCI_Precision: 0.7715 - val_AD_Recall: 0.5276 - val_CN_Recall: 0.6954 - val_MCI_Recall: 0.9840\n",
            "Epoch 17/50\n",
            "698/698 [==============================] - 58s 83ms/step - loss: 0.4769 - Accuracy: 0.8627 - AD_Precision: 0.8100 - CN_Precision: 0.8560 - MCI_Precision: 0.8890 - AD_Recall: 0.7988 - CN_Recall: 0.8480 - MCI_Recall: 0.8921 - val_loss: 0.5961 - val_Accuracy: 0.8668 - val_AD_Precision: 0.9091 - val_CN_Precision: 0.9310 - val_MCI_Precision: 0.8364 - val_AD_Recall: 0.6299 - val_CN_Recall: 0.8223 - val_MCI_Recall: 0.9706\n",
            "Epoch 18/50\n",
            "698/698 [==============================] - 58s 83ms/step - loss: 0.4712 - Accuracy: 0.8695 - AD_Precision: 0.8370 - CN_Precision: 0.8617 - MCI_Precision: 0.8893 - AD_Recall: 0.8304 - CN_Recall: 0.8456 - MCI_Recall: 0.8949 - val_loss: 0.4067 - val_Accuracy: 0.8911 - val_AD_Precision: 0.8649 - val_CN_Precision: 0.9053 - val_MCI_Precision: 0.9003 - val_AD_Recall: 0.7559 - val_CN_Recall: 0.8731 - val_MCI_Recall: 0.9412\n",
            "Epoch 19/50\n",
            "698/698 [==============================] - 55s 78ms/step - loss: 0.4096 - Accuracy: 0.8777 - AD_Precision: 0.8323 - CN_Precision: 0.8707 - MCI_Precision: 0.8987 - AD_Recall: 0.8323 - CN_Recall: 0.8585 - MCI_Recall: 0.9019 - val_loss: 0.4098 - val_Accuracy: 0.8840 - val_AD_Precision: 0.8421 - val_CN_Precision: 0.9171 - val_MCI_Precision: 0.8806 - val_AD_Recall: 0.7559 - val_CN_Recall: 0.8426 - val_MCI_Recall: 0.9465\n",
            "Epoch 20/50\n",
            "698/698 [==============================] - 54s 77ms/step - loss: 0.3842 - Accuracy: 0.8853 - AD_Precision: 0.8498 - CN_Precision: 0.8768 - MCI_Precision: 0.9048 - AD_Recall: 0.8481 - CN_Recall: 0.8655 - MCI_Recall: 0.9054 - val_loss: 0.5556 - val_Accuracy: 0.8438 - val_AD_Precision: 0.6723 - val_CN_Precision: 0.8157 - val_MCI_Precision: 0.9733 - val_AD_Recall: 0.9370 - val_CN_Recall: 0.8985 - val_MCI_Recall: 0.7807\n",
            "Epoch 21/50\n",
            "698/698 [==============================] - 57s 82ms/step - loss: 0.4267 - Accuracy: 0.8734 - AD_Precision: 0.8406 - CN_Precision: 0.8650 - MCI_Precision: 0.8922 - AD_Recall: 0.8323 - CN_Recall: 0.8620 - MCI_Recall: 0.8928 - val_loss: 0.4044 - val_Accuracy: 0.8926 - val_AD_Precision: 0.8045 - val_CN_Precision: 0.9330 - val_MCI_Precision: 0.9089 - val_AD_Recall: 0.8425 - val_CN_Recall: 0.8477 - val_MCI_Recall: 0.9332\n",
            "Epoch 22/50\n",
            "698/698 [==============================] - 55s 79ms/step - loss: 0.3465 - Accuracy: 0.8982 - AD_Precision: 0.8755 - CN_Precision: 0.8942 - MCI_Precision: 0.9126 - AD_Recall: 0.8600 - CN_Recall: 0.8795 - MCI_Recall: 0.9222 - val_loss: 0.7892 - val_Accuracy: 0.7708 - val_AD_Precision: 0.8509 - val_CN_Precision: 0.6038 - val_MCI_Precision: 0.9436 - val_AD_Recall: 0.7638 - val_CN_Recall: 0.9594 - val_MCI_Recall: 0.6711\n",
            "Epoch 23/50\n",
            "698/698 [==============================] - 58s 83ms/step - loss: 0.3337 - Accuracy: 0.8982 - AD_Precision: 0.8617 - CN_Precision: 0.9054 - MCI_Precision: 0.9113 - AD_Recall: 0.8481 - CN_Recall: 0.8959 - MCI_Recall: 0.9138 - val_loss: 0.3995 - val_Accuracy: 0.9026 - val_AD_Precision: 0.8296 - val_CN_Precision: 0.9382 - val_MCI_Precision: 0.9186 - val_AD_Recall: 0.8819 - val_CN_Recall: 0.8477 - val_MCI_Recall: 0.9358\n",
            "Epoch 24/50\n",
            "698/698 [==============================] - 55s 79ms/step - loss: 0.2635 - Accuracy: 0.9107 - AD_Precision: 0.8902 - CN_Precision: 0.9022 - MCI_Precision: 0.9256 - AD_Recall: 0.8955 - CN_Recall: 0.8959 - MCI_Recall: 0.9236 - val_loss: 0.5130 - val_Accuracy: 0.8768 - val_AD_Precision: 0.7107 - val_CN_Precision: 0.9244 - val_MCI_Precision: 0.9288 - val_AD_Recall: 0.8898 - val_CN_Recall: 0.8071 - val_MCI_Recall: 0.9064\n",
            "Epoch 25/50\n",
            "698/698 [==============================] - 55s 79ms/step - loss: 0.2663 - Accuracy: 0.9179 - AD_Precision: 0.9093 - CN_Precision: 0.9096 - MCI_Precision: 0.9289 - AD_Recall: 0.9093 - CN_Recall: 0.8947 - MCI_Recall: 0.9334 - val_loss: 1.0639 - val_Accuracy: 0.7278 - val_AD_Precision: 0.5484 - val_CN_Precision: 0.6860 - val_MCI_Precision: 0.9720 - val_AD_Recall: 0.9370 - val_CN_Recall: 0.8985 - val_MCI_Recall: 0.5561\n",
            "Epoch 26/50\n",
            "698/698 [==============================] - 55s 79ms/step - loss: 0.2941 - Accuracy: 0.9161 - AD_Precision: 0.8815 - CN_Precision: 0.9167 - MCI_Precision: 0.9308 - AD_Recall: 0.8659 - CN_Recall: 0.9135 - MCI_Recall: 0.9327 - val_loss: 0.5745 - val_Accuracy: 0.8696 - val_AD_Precision: 0.8584 - val_CN_Precision: 0.9608 - val_MCI_Precision: 0.8415 - val_AD_Recall: 0.7638 - val_CN_Recall: 0.7462 - val_MCI_Recall: 0.9652\n",
            "Epoch 27/50\n",
            "698/698 [==============================] - 55s 79ms/step - loss: 0.2418 - Accuracy: 0.9254 - AD_Precision: 0.9096 - CN_Precision: 0.9220 - MCI_Precision: 0.9357 - AD_Recall: 0.9132 - CN_Recall: 0.9123 - MCI_Recall: 0.9376 - val_loss: 0.7314 - val_Accuracy: 0.8438 - val_AD_Precision: 0.9733 - val_CN_Precision: 0.7262 - val_MCI_Precision: 0.9048 - val_AD_Recall: 0.5748 - val_CN_Recall: 0.9695 - val_MCI_Recall: 0.8636\n",
            "Epoch 28/50\n",
            "698/698 [==============================] - 56s 80ms/step - loss: 0.2547 - Accuracy: 0.9229 - AD_Precision: 0.9040 - CN_Precision: 0.9232 - MCI_Precision: 0.9318 - AD_Recall: 0.8915 - CN_Recall: 0.9135 - MCI_Recall: 0.9383 - val_loss: 0.4667 - val_Accuracy: 0.8911 - val_AD_Precision: 0.7762 - val_CN_Precision: 0.8812 - val_MCI_Precision: 0.9430 - val_AD_Recall: 0.8740 - val_CN_Recall: 0.9036 - val_MCI_Recall: 0.8850\n",
            "Epoch 29/50\n",
            "698/698 [==============================] - 54s 78ms/step - loss: 0.2145 - Accuracy: 0.9347 - AD_Precision: 0.9281 - CN_Precision: 0.9220 - MCI_Precision: 0.9459 - AD_Recall: 0.9172 - CN_Recall: 0.9263 - MCI_Recall: 0.9425 - val_loss: 0.9323 - val_Accuracy: 0.7507 - val_AD_Precision: 0.6962 - val_CN_Precision: 0.6246 - val_MCI_Precision: 0.9496 - val_AD_Recall: 0.8661 - val_CN_Recall: 0.9289 - val_MCI_Recall: 0.6043\n",
            "Epoch 30/50\n",
            "698/698 [==============================] - 55s 78ms/step - loss: 0.1772 - Accuracy: 0.9405 - AD_Precision: 0.9165 - CN_Precision: 0.9436 - MCI_Precision: 0.9490 - AD_Recall: 0.9093 - CN_Recall: 0.9392 - MCI_Recall: 0.9509 - val_loss: 0.5369 - val_Accuracy: 0.8954 - val_AD_Precision: 0.9192 - val_CN_Precision: 0.9399 - val_MCI_Precision: 0.8699 - val_AD_Recall: 0.7165 - val_CN_Recall: 0.8731 - val_MCI_Recall: 0.9652\n",
            "Epoch 31/50\n",
            "698/698 [==============================] - 54s 78ms/step - loss: 0.1919 - Accuracy: 0.9390 - AD_Precision: 0.9149 - CN_Precision: 0.9402 - MCI_Precision: 0.9481 - AD_Recall: 0.9112 - CN_Recall: 0.9380 - MCI_Recall: 0.9467 - val_loss: 0.6232 - val_Accuracy: 0.8754 - val_AD_Precision: 0.9348 - val_CN_Precision: 0.9871 - val_MCI_Precision: 0.8248 - val_AD_Recall: 0.6772 - val_CN_Recall: 0.7766 - val_MCI_Recall: 0.9947\n",
            "Epoch 32/50\n",
            "698/698 [==============================] - 55s 79ms/step - loss: 0.2187 - Accuracy: 0.9283 - AD_Precision: 0.8955 - CN_Precision: 0.9382 - MCI_Precision: 0.9398 - AD_Recall: 0.8955 - CN_Recall: 0.9240 - MCI_Recall: 0.9411 - val_loss: 0.5057 - val_Accuracy: 0.8983 - val_AD_Precision: 0.9474 - val_CN_Precision: 0.9492 - val_MCI_Precision: 0.8670 - val_AD_Recall: 0.7087 - val_CN_Recall: 0.8528 - val_MCI_Recall: 0.9759\n",
            "Epoch 33/50\n",
            "698/698 [==============================] - 55s 79ms/step - loss: 0.2151 - Accuracy: 0.9416 - AD_Precision: 0.9118 - CN_Precision: 0.9485 - MCI_Precision: 0.9483 - AD_Recall: 0.8974 - CN_Recall: 0.9485 - MCI_Recall: 0.9502 - val_loss: 0.4541 - val_Accuracy: 0.8983 - val_AD_Precision: 0.9020 - val_CN_Precision: 0.8792 - val_MCI_Precision: 0.9096 - val_AD_Recall: 0.7244 - val_CN_Recall: 0.9239 - val_MCI_Recall: 0.9412\n",
            "Epoch 34/50\n",
            "698/698 [==============================] - 55s 79ms/step - loss: 0.1912 - Accuracy: 0.9437 - AD_Precision: 0.9274 - CN_Precision: 0.9397 - MCI_Precision: 0.9531 - AD_Recall: 0.9073 - CN_Recall: 0.9474 - MCI_Recall: 0.9537 - val_loss: 0.6543 - val_Accuracy: 0.8395 - val_AD_Precision: 0.5951 - val_CN_Precision: 0.9027 - val_MCI_Precision: 0.9704 - val_AD_Recall: 0.9606 - val_CN_Recall: 0.8477 - val_MCI_Recall: 0.7888\n",
            "Epoch 35/50\n",
            "698/698 [==============================] - 55s 79ms/step - loss: 0.1674 - Accuracy: 0.9484 - AD_Precision: 0.9308 - CN_Precision: 0.9527 - MCI_Precision: 0.9533 - AD_Recall: 0.9290 - CN_Recall: 0.9427 - MCI_Recall: 0.9580 - val_loss: 0.8673 - val_Accuracy: 0.8453 - val_AD_Precision: 0.9844 - val_CN_Precision: 0.7393 - val_MCI_Precision: 0.8987 - val_AD_Recall: 0.4961 - val_CN_Recall: 0.9645 - val_MCI_Recall: 0.9011\n",
            "Epoch 36/50\n",
            "698/698 [==============================] - 59s 84ms/step - loss: 0.1672 - Accuracy: 0.9408 - AD_Precision: 0.9360 - CN_Precision: 0.9331 - MCI_Precision: 0.9470 - AD_Recall: 0.9231 - CN_Recall: 0.9298 - MCI_Recall: 0.9523 - val_loss: 0.3753 - val_Accuracy: 0.9112 - val_AD_Precision: 0.8947 - val_CN_Precision: 0.9355 - val_MCI_Precision: 0.9040 - val_AD_Recall: 0.8031 - val_CN_Recall: 0.8832 - val_MCI_Recall: 0.9572\n",
            "Epoch 37/50\n",
            "698/698 [==============================] - 55s 79ms/step - loss: 0.1630 - Accuracy: 0.9491 - AD_Precision: 0.9347 - CN_Precision: 0.9483 - MCI_Precision: 0.9579 - AD_Recall: 0.9310 - CN_Recall: 0.9439 - MCI_Recall: 0.9573 - val_loss: 0.4684 - val_Accuracy: 0.8868 - val_AD_Precision: 0.7467 - val_CN_Precision: 0.8867 - val_MCI_Precision: 0.9504 - val_AD_Recall: 0.8819 - val_CN_Recall: 0.9137 - val_MCI_Recall: 0.8717\n",
            "Epoch 38/50\n",
            "698/698 [==============================] - 55s 79ms/step - loss: 0.1296 - Accuracy: 0.9555 - AD_Precision: 0.9428 - CN_Precision: 0.9554 - MCI_Precision: 0.9601 - AD_Recall: 0.9428 - CN_Recall: 0.9520 - MCI_Recall: 0.9615 - val_loss: 0.5253 - val_Accuracy: 0.8926 - val_AD_Precision: 0.9074 - val_CN_Precision: 0.8267 - val_MCI_Precision: 0.9311 - val_AD_Recall: 0.7717 - val_CN_Recall: 0.9442 - val_MCI_Recall: 0.9037\n",
            "Epoch 39/50\n",
            "698/698 [==============================] - 54s 78ms/step - loss: 0.1981 - Accuracy: 0.9426 - AD_Precision: 0.9051 - CN_Precision: 0.9532 - MCI_Precision: 0.9509 - AD_Recall: 0.9034 - CN_Recall: 0.9520 - MCI_Recall: 0.9502 - val_loss: 0.4709 - val_Accuracy: 0.8968 - val_AD_Precision: 0.7986 - val_CN_Precision: 0.9110 - val_MCI_Precision: 0.9292 - val_AD_Recall: 0.8740 - val_CN_Recall: 0.8832 - val_MCI_Recall: 0.9118\n",
            "Epoch 40/50\n",
            "698/698 [==============================] - 55s 78ms/step - loss: 0.1224 - Accuracy: 0.9638 - AD_Precision: 0.9447 - CN_Precision: 0.9693 - MCI_Precision: 0.9686 - AD_Recall: 0.9428 - CN_Recall: 0.9614 - MCI_Recall: 0.9727 - val_loss: 0.5881 - val_Accuracy: 0.8926 - val_AD_Precision: 0.9451 - val_CN_Precision: 0.9551 - val_MCI_Precision: 0.8571 - val_AD_Recall: 0.6772 - val_CN_Recall: 0.8629 - val_MCI_Recall: 0.9786\n",
            "Epoch 41/50\n",
            "698/698 [==============================] - 58s 84ms/step - loss: 0.1579 - Accuracy: 0.9512 - AD_Precision: 0.9310 - CN_Precision: 0.9485 - MCI_Precision: 0.9600 - AD_Recall: 0.9310 - CN_Recall: 0.9485 - MCI_Recall: 0.9594 - val_loss: 0.4320 - val_Accuracy: 0.9140 - val_AD_Precision: 0.9434 - val_CN_Precision: 0.8894 - val_MCI_Precision: 0.9241 - val_AD_Recall: 0.7874 - val_CN_Recall: 0.9391 - val_MCI_Recall: 0.9439\n",
            "Epoch 42/50\n",
            "698/698 [==============================] - 57s 81ms/step - loss: 0.1567 - Accuracy: 0.9541 - AD_Precision: 0.9333 - CN_Precision: 0.9541 - MCI_Precision: 0.9621 - AD_Recall: 0.9389 - CN_Recall: 0.9485 - MCI_Recall: 0.9615 - val_loss: 0.5229 - val_Accuracy: 0.8968 - val_AD_Precision: 0.8803 - val_CN_Precision: 0.9581 - val_MCI_Precision: 0.8783 - val_AD_Recall: 0.8110 - val_CN_Recall: 0.8122 - val_MCI_Recall: 0.9652\n",
            "Epoch 43/50\n",
            "698/698 [==============================] - 55s 78ms/step - loss: 0.1213 - Accuracy: 0.9591 - AD_Precision: 0.9446 - CN_Precision: 0.9578 - MCI_Precision: 0.9664 - AD_Recall: 0.9408 - CN_Recall: 0.9567 - MCI_Recall: 0.9671 - val_loss: 0.5703 - val_Accuracy: 0.8625 - val_AD_Precision: 0.8261 - val_CN_Precision: 0.7621 - val_MCI_Precision: 0.9644 - val_AD_Recall: 0.8976 - val_CN_Recall: 0.9594 - val_MCI_Recall: 0.7968\n",
            "Epoch 44/50\n",
            "698/698 [==============================] - 55s 79ms/step - loss: 0.1246 - Accuracy: 0.9591 - AD_Precision: 0.9562 - CN_Precision: 0.9511 - MCI_Precision: 0.9656 - AD_Recall: 0.9467 - CN_Recall: 0.9556 - MCI_Recall: 0.9650 - val_loss: 0.4643 - val_Accuracy: 0.9083 - val_AD_Precision: 0.8689 - val_CN_Precision: 0.8995 - val_MCI_Precision: 0.9253 - val_AD_Recall: 0.8346 - val_CN_Recall: 0.9086 - val_MCI_Recall: 0.9278\n",
            "Epoch 45/50\n",
            "698/698 [==============================] - 55s 79ms/step - loss: 0.1691 - Accuracy: 0.9520 - AD_Precision: 0.9347 - CN_Precision: 0.9508 - MCI_Precision: 0.9587 - AD_Recall: 0.9310 - CN_Recall: 0.9497 - MCI_Recall: 0.9608 - val_loss: 0.6793 - val_Accuracy: 0.8825 - val_AD_Precision: 0.9747 - val_CN_Precision: 0.9215 - val_MCI_Precision: 0.8501 - val_AD_Recall: 0.6063 - val_CN_Recall: 0.8934 - val_MCI_Recall: 0.9706\n",
            "Epoch 46/50\n",
            "698/698 [==============================] - 55s 79ms/step - loss: 0.1584 - Accuracy: 0.9559 - AD_Precision: 0.9332 - CN_Precision: 0.9588 - MCI_Precision: 0.9636 - AD_Recall: 0.9369 - CN_Recall: 0.9532 - MCI_Recall: 0.9636 - val_loss: 0.4967 - val_Accuracy: 0.8940 - val_AD_Precision: 0.8790 - val_CN_Precision: 0.8182 - val_MCI_Precision: 0.9559 - val_AD_Recall: 0.8583 - val_CN_Recall: 0.9594 - val_MCI_Recall: 0.8690\n",
            "Epoch 47/50\n",
            "698/698 [==============================] - 59s 84ms/step - loss: 0.1199 - Accuracy: 0.9627 - AD_Precision: 0.9446 - CN_Precision: 0.9682 - MCI_Precision: 0.9672 - AD_Recall: 0.9408 - CN_Recall: 0.9626 - MCI_Recall: 0.9699 - val_loss: 0.4199 - val_Accuracy: 0.9284 - val_AD_Precision: 0.8880 - val_CN_Precision: 0.9565 - val_MCI_Precision: 0.9304 - val_AD_Recall: 0.8740 - val_CN_Recall: 0.8934 - val_MCI_Recall: 0.9652\n",
            "Epoch 48/50\n",
            "698/698 [==============================] - 55s 79ms/step - loss: 0.1205 - Accuracy: 0.9598 - AD_Precision: 0.9508 - CN_Precision: 0.9612 - MCI_Precision: 0.9643 - AD_Recall: 0.9527 - CN_Recall: 0.9556 - MCI_Recall: 0.9643 - val_loss: 0.3871 - val_Accuracy: 0.9183 - val_AD_Precision: 0.9000 - val_CN_Precision: 0.8889 - val_MCI_Precision: 0.9458 - val_AD_Recall: 0.8504 - val_CN_Recall: 0.9340 - val_MCI_Recall: 0.9332\n",
            "Epoch 49/50\n",
            "698/698 [==============================] - 55s 79ms/step - loss: 0.1072 - Accuracy: 0.9652 - AD_Precision: 0.9601 - CN_Precision: 0.9660 - MCI_Precision: 0.9693 - AD_Recall: 0.9487 - CN_Recall: 0.9626 - MCI_Recall: 0.9720 - val_loss: 0.3894 - val_Accuracy: 0.9183 - val_AD_Precision: 0.8444 - val_CN_Precision: 0.9219 - val_MCI_Precision: 0.9511 - val_AD_Recall: 0.8976 - val_CN_Recall: 0.8985 - val_MCI_Recall: 0.9358\n",
            "Epoch 50/50\n",
            "698/698 [==============================] - 56s 80ms/step - loss: 0.0842 - Accuracy: 0.9738 - AD_Precision: 0.9507 - CN_Precision: 0.9801 - MCI_Precision: 0.9797 - AD_Recall: 0.9507 - CN_Recall: 0.9778 - MCI_Recall: 0.9797 - val_loss: 0.4605 - val_Accuracy: 0.9183 - val_AD_Precision: 0.9231 - val_CN_Precision: 0.9653 - val_MCI_Precision: 0.8993 - val_AD_Recall: 0.8504 - val_CN_Recall: 0.8477 - val_MCI_Recall: 0.9786\n"
          ]
        }
      ],
      "source": [
        "# learning_rate=10E-6\n",
        "savepath = '/content/drive/MyDrive/ADNI/resnet50_pretrained_10E-6/'\n",
        "lr=0.000001\n",
        "if not os.path.isdir(savepath):\n",
        "      os.makedirs(savepath)\n",
        "csvloger_callback = tf.keras.callbacks.CSVLogger(f'{savepath}history.csv', separator=',', append=False)\n",
        "\n",
        "modelcheckpoint_callback = tf.keras.callbacks.ModelCheckpoint(savepath+'resnet50_pretrained_10E-6_weights-epoch:{epoch:03d}-val_Accuracy:{val_Accuracy:.4f}.h5',monitor='val_Accuracy'\n",
        "    ,verbose=0,save_best_only=True,save_weights_only=True,mode='max',save_freq='epoch' , initial_value_threshold=0.85)\n",
        "\n",
        "OPT = tf.keras.optimizers.Adam(learning_rate=lr)\n",
        "model03 = resnet50_pretrained(OPT, LOOS,METRICS,image_Shape)\n",
        "history03 = model03.fit(training_image_datagen, epochs=EPOCH, validation_data=testing_image_datagen,callbacks=[csvloger_callback,modelcheckpoint_callback])\n",
        "model03 = resnet50_pretrained(OPT, LOOS,METRICS,image_Shape)\n",
        "model03.load_weights(glob.glob(f\"{savepath}resnet50_pretrained_10E-6_weights-epoch:*-val_Accuracy:{max(history03.history['val_Accuracy']):.4f}.h5\")[0])"
      ]
    },
    {
      "cell_type": "code",
      "execution_count": null,
      "metadata": {
        "colab": {
          "base_uri": "https://localhost:8080/",
          "height": 477
        },
        "id": "ojk7VwObCM2S",
        "outputId": "e825788b-49d3-42ba-99db-8d99d85e8bad"
      },
      "outputs": [
        {
          "name": "stdout",
          "output_type": "stream",
          "text": [
            "              precision    recall  f1-score   support\n",
            "\n",
            "          AD       0.89      0.87      0.88       127\n",
            "          CN       0.96      0.89      0.92       197\n",
            "         MCI       0.93      0.97      0.95       374\n",
            "\n",
            "    accuracy                           0.93       698\n",
            "   macro avg       0.92      0.91      0.92       698\n",
            "weighted avg       0.93      0.93      0.93       698\n",
            "\n"
          ]
        },
        {
          "data": {
            "image/png": "[encoded data removed]",
            "text/plain": [
              "<Figure size 432x288 with 2 Axes>"
            ]
          },
          "metadata": {
            "needs_background": "light"
          },
          "output_type": "display_data"
        }
      ],
      "source": [
        "p = model03.predict(testing_image_datagen)\n",
        "predicted_lab = p.argmax(axis=-1)\n",
        "true_lab = testing_image_datagen.classes\n",
        "plot_confusion_matrix(true_lab, predicted_lab, testing_image_datagen.class_indices.keys(),savepath)\n",
        "report = classification_report(true_lab, predicted_lab, target_names=testing_image_datagen.class_indices.keys())\n",
        "print(report)\n",
        "dump_text(report,f'{savepath}classification_report.txt')"
      ]
    },
    {
      "cell_type": "markdown",
      "metadata": {
        "id": "uZl2hcpBCve8"
      },
      "source": [
        "**Resnet 50 Row**"
      ]
    },
    {
      "cell_type": "code",
      "execution_count": null,
      "metadata": {
        "colab": {
          "base_uri": "https://localhost:8080/"
        },
        "id": "U0LtUfIkC3ku",
        "outputId": "b4991222-8680-4fdc-9ad6-c7f852c3d2e2"
      },
      "outputs": [
        {
          "name": "stdout",
          "output_type": "stream",
          "text": [
            "Downloading data from https://storage.googleapis.com/tensorflow/keras-applications/resnet/resnet50_weights_tf_dim_ordering_tf_kernels_notop.h5\n",
            "94773248/94765736 [==============================] - 1s 0us/step\n",
            "94781440/94765736 [==============================] - 1s 0us/step\n",
            "Epoch 1/50\n",
            "698/698 [==============================] - 118s 141ms/step - loss: 5.3829 - Accuracy: 0.4991 - AD_Precision: 0.3287 - CN_Precision: 0.4642 - MCI_Precision: 0.5838 - AD_Recall: 0.2821 - CN_Recall: 0.4316 - MCI_Recall: 0.5711 - val_loss: 1.0405 - val_Accuracy: 0.5258 - val_AD_Precision: 0.3484 - val_CN_Precision: 0.7125 - val_MCI_Precision: 0.7100 - val_AD_Recall: 0.7874 - val_CN_Recall: 0.2893 - val_MCI_Recall: 0.5107\n",
            "Epoch 2/50\n",
            "698/698 [==============================] - 96s 138ms/step - loss: 0.9363 - Accuracy: 0.6977 - AD_Precision: 0.6302 - CN_Precision: 0.6880 - MCI_Precision: 0.7481 - AD_Recall: 0.5680 - CN_Recall: 0.6678 - MCI_Recall: 0.7428 - val_loss: 1.2953 - val_Accuracy: 0.5874 - val_AD_Precision: 0.8723 - val_CN_Precision: 0.4463 - val_MCI_Precision: 0.8194 - val_AD_Recall: 0.3228 - val_CN_Recall: 0.9492 - val_MCI_Recall: 0.4733\n",
            "Epoch 3/50\n",
            "698/698 [==============================] - 96s 137ms/step - loss: 0.9512 - Accuracy: 0.7200 - AD_Precision: 0.6477 - CN_Precision: 0.7114 - MCI_Precision: 0.7610 - AD_Recall: 0.5838 - CN_Recall: 0.6947 - MCI_Recall: 0.7610 - val_loss: 0.9160 - val_Accuracy: 0.6805 - val_AD_Precision: 0.5238 - val_CN_Precision: 0.6748 - val_MCI_Precision: 0.8868 - val_AD_Recall: 0.8661 - val_CN_Recall: 0.8426 - val_MCI_Recall: 0.5027\n",
            "Epoch 4/50\n",
            "698/698 [==============================] - 96s 138ms/step - loss: 0.6541 - Accuracy: 0.7831 - AD_Precision: 0.7173 - CN_Precision: 0.7943 - MCI_Precision: 0.8120 - AD_Recall: 0.6805 - CN_Recall: 0.7766 - MCI_Recall: 0.8080 - val_loss: 1.1091 - val_Accuracy: 0.6691 - val_AD_Precision: 0.9565 - val_CN_Precision: 0.8667 - val_MCI_Precision: 0.6282 - val_AD_Recall: 0.1732 - val_CN_Recall: 0.3959 - val_MCI_Recall: 0.9759\n",
            "Epoch 5/50\n",
            "698/698 [==============================] - 97s 139ms/step - loss: 0.5985 - Accuracy: 0.8093 - AD_Precision: 0.7531 - CN_Precision: 0.8100 - MCI_Precision: 0.8380 - AD_Recall: 0.7219 - CN_Recall: 0.7977 - MCI_Recall: 0.8374 - val_loss: 0.6838 - val_Accuracy: 0.7650 - val_AD_Precision: 0.7238 - val_CN_Precision: 0.9596 - val_MCI_Precision: 0.7433 - val_AD_Recall: 0.5984 - val_CN_Recall: 0.4822 - val_MCI_Recall: 0.9599\n",
            "Epoch 6/50\n",
            "698/698 [==============================] - 97s 139ms/step - loss: 0.4777 - Accuracy: 0.8329 - AD_Precision: 0.7707 - CN_Precision: 0.8503 - MCI_Precision: 0.8582 - AD_Recall: 0.7357 - CN_Recall: 0.8304 - MCI_Recall: 0.8612 - val_loss: 0.7242 - val_Accuracy: 0.7536 - val_AD_Precision: 0.4852 - val_CN_Precision: 0.9384 - val_MCI_Precision: 0.8993 - val_AD_Recall: 0.9055 - val_CN_Recall: 0.6954 - val_MCI_Recall: 0.7166\n",
            "Epoch 7/50\n",
            "698/698 [==============================] - 96s 137ms/step - loss: 0.5017 - Accuracy: 0.8387 - AD_Precision: 0.7984 - CN_Precision: 0.8289 - MCI_Precision: 0.8636 - AD_Recall: 0.7653 - CN_Recall: 0.8105 - MCI_Recall: 0.8739 - val_loss: 1.2390 - val_Accuracy: 0.6934 - val_AD_Precision: 0.4953 - val_CN_Precision: 0.9438 - val_MCI_Precision: 0.7405 - val_AD_Recall: 0.8268 - val_CN_Recall: 0.4264 - val_MCI_Recall: 0.7781\n",
            "Epoch 8/50\n",
            "698/698 [==============================] - 96s 137ms/step - loss: 0.4599 - Accuracy: 0.8569 - AD_Precision: 0.8122 - CN_Precision: 0.8568 - MCI_Precision: 0.8787 - AD_Recall: 0.7850 - CN_Recall: 0.8398 - MCI_Recall: 0.8830 - val_loss: 0.6881 - val_Accuracy: 0.7794 - val_AD_Precision: 0.6861 - val_CN_Precision: 0.9444 - val_MCI_Precision: 0.7815 - val_AD_Recall: 0.7402 - val_CN_Recall: 0.5178 - val_MCI_Recall: 0.9278\n",
            "Epoch 9/50\n",
            "698/698 [==============================] - 97s 138ms/step - loss: 0.4062 - Accuracy: 0.8677 - AD_Precision: 0.8100 - CN_Precision: 0.8710 - MCI_Precision: 0.8906 - AD_Recall: 0.7988 - CN_Recall: 0.8526 - MCI_Recall: 0.8956 - val_loss: 1.7329 - val_Accuracy: 0.7221 - val_AD_Precision: 1.0000 - val_CN_Precision: 0.7337 - val_MCI_Precision: 0.7140 - val_AD_Recall: 0.0472 - val_CN_Recall: 0.7411 - val_MCI_Recall: 0.9412\n",
            "Epoch 10/50\n",
            "698/698 [==============================] - 101s 144ms/step - loss: 0.4077 - Accuracy: 0.8688 - AD_Precision: 0.8151 - CN_Precision: 0.8749 - MCI_Precision: 0.8896 - AD_Recall: 0.8087 - CN_Recall: 0.8585 - MCI_Recall: 0.8921 - val_loss: 0.4839 - val_Accuracy: 0.8582 - val_AD_Precision: 0.8681 - val_CN_Precision: 0.8246 - val_MCI_Precision: 0.8903 - val_AD_Recall: 0.6220 - val_CN_Recall: 0.8832 - val_MCI_Recall: 0.9118\n",
            "Epoch 11/50\n",
            "698/698 [==============================] - 96s 138ms/step - loss: 0.3499 - Accuracy: 0.8878 - AD_Precision: 0.8491 - CN_Precision: 0.8859 - MCI_Precision: 0.9081 - AD_Recall: 0.8323 - CN_Recall: 0.8807 - MCI_Recall: 0.9075 - val_loss: 0.9916 - val_Accuracy: 0.7450 - val_AD_Precision: 0.4768 - val_CN_Precision: 0.9683 - val_MCI_Precision: 0.8537 - val_AD_Recall: 0.8898 - val_CN_Recall: 0.6193 - val_MCI_Recall: 0.7487\n",
            "Epoch 12/50\n",
            "698/698 [==============================] - 96s 138ms/step - loss: 0.2737 - Accuracy: 0.9132 - AD_Precision: 0.8998 - CN_Precision: 0.9122 - MCI_Precision: 0.9266 - AD_Recall: 0.8856 - CN_Recall: 0.8994 - MCI_Recall: 0.9292 - val_loss: 0.6905 - val_Accuracy: 0.8281 - val_AD_Precision: 1.0000 - val_CN_Precision: 0.8142 - val_MCI_Precision: 0.8254 - val_AD_Recall: 0.3858 - val_CN_Recall: 0.9340 - val_MCI_Recall: 0.9225\n",
            "Epoch 13/50\n",
            "698/698 [==============================] - 97s 139ms/step - loss: 0.2858 - Accuracy: 0.9143 - AD_Precision: 0.8831 - CN_Precision: 0.9111 - MCI_Precision: 0.9333 - AD_Recall: 0.8639 - CN_Recall: 0.9111 - MCI_Recall: 0.9320 - val_loss: 1.8546 - val_Accuracy: 0.6032 - val_AD_Precision: 0.5209 - val_CN_Precision: 0.5424 - val_MCI_Precision: 0.9828 - val_AD_Recall: 0.8819 - val_CN_Recall: 0.9746 - val_MCI_Recall: 0.3048\n",
            "Epoch 14/50\n",
            "698/698 [==============================] - 97s 138ms/step - loss: 0.2692 - Accuracy: 0.9186 - AD_Precision: 0.8788 - CN_Precision: 0.9249 - MCI_Precision: 0.9336 - AD_Recall: 0.8580 - CN_Recall: 0.9216 - MCI_Recall: 0.9362 - val_loss: 0.8102 - val_Accuracy: 0.7120 - val_AD_Precision: 0.4627 - val_CN_Precision: 0.8272 - val_MCI_Precision: 0.9270 - val_AD_Recall: 0.9291 - val_CN_Recall: 0.8020 - val_MCI_Recall: 0.5775\n",
            "Epoch 15/50\n",
            "698/698 [==============================] - 97s 139ms/step - loss: 0.2957 - Accuracy: 0.9139 - AD_Precision: 0.8667 - CN_Precision: 0.9281 - MCI_Precision: 0.9268 - AD_Recall: 0.8718 - CN_Recall: 0.9205 - MCI_Recall: 0.9229 - val_loss: 0.8463 - val_Accuracy: 0.7464 - val_AD_Precision: 0.4539 - val_CN_Precision: 0.9632 - val_MCI_Precision: 0.9266 - val_AD_Recall: 0.9685 - val_CN_Recall: 0.6650 - val_MCI_Recall: 0.7086\n",
            "Epoch 16/50\n",
            "698/698 [==============================] - 97s 139ms/step - loss: 0.2087 - Accuracy: 0.9355 - AD_Precision: 0.9032 - CN_Precision: 0.9420 - MCI_Precision: 0.9449 - AD_Recall: 0.9014 - CN_Recall: 0.9310 - MCI_Recall: 0.9495 - val_loss: 1.3610 - val_Accuracy: 0.7278 - val_AD_Precision: 0.8824 - val_CN_Precision: 0.5374 - val_MCI_Precision: 0.9610 - val_AD_Recall: 0.7087 - val_CN_Recall: 0.9848 - val_MCI_Recall: 0.5936\n",
            "Epoch 17/50\n",
            "698/698 [==============================] - 97s 140ms/step - loss: 0.2386 - Accuracy: 0.9387 - AD_Precision: 0.9208 - CN_Precision: 0.9385 - MCI_Precision: 0.9456 - AD_Recall: 0.9172 - CN_Recall: 0.9287 - MCI_Recall: 0.9509 - val_loss: 0.5269 - val_Accuracy: 0.8453 - val_AD_Precision: 0.8060 - val_CN_Precision: 0.7266 - val_MCI_Precision: 0.9696 - val_AD_Recall: 0.8504 - val_CN_Recall: 0.9848 - val_MCI_Recall: 0.7674\n",
            "Epoch 18/50\n",
            "698/698 [==============================] - 97s 138ms/step - loss: 0.2483 - Accuracy: 0.9286 - AD_Precision: 0.9078 - CN_Precision: 0.9208 - MCI_Precision: 0.9423 - AD_Recall: 0.8935 - CN_Recall: 0.9251 - MCI_Recall: 0.9390 - val_loss: 0.6070 - val_Accuracy: 0.8295 - val_AD_Precision: 0.9126 - val_CN_Precision: 0.9835 - val_MCI_Precision: 0.7733 - val_AD_Recall: 0.7402 - val_CN_Recall: 0.6041 - val_MCI_Recall: 0.9759\n",
            "Epoch 19/50\n",
            "698/698 [==============================] - 104s 149ms/step - loss: 0.1394 - Accuracy: 0.9555 - AD_Precision: 0.9442 - CN_Precision: 0.9544 - MCI_Precision: 0.9608 - AD_Recall: 0.9349 - CN_Recall: 0.9556 - MCI_Recall: 0.9622 - val_loss: 0.9914 - val_Accuracy: 0.7994 - val_AD_Precision: 0.9342 - val_CN_Precision: 0.6328 - val_MCI_Precision: 0.9272 - val_AD_Recall: 0.5591 - val_CN_Recall: 0.9797 - val_MCI_Recall: 0.7834\n",
            "Epoch 20/50\n",
            "698/698 [==============================] - 97s 139ms/step - loss: 0.2364 - Accuracy: 0.9365 - AD_Precision: 0.9195 - CN_Precision: 0.9312 - MCI_Precision: 0.9487 - AD_Recall: 0.9014 - CN_Recall: 0.9345 - MCI_Recall: 0.9467 - val_loss: 1.8058 - val_Accuracy: 0.6777 - val_AD_Precision: 1.0000 - val_CN_Precision: 0.4852 - val_MCI_Precision: 0.9442 - val_AD_Recall: 0.4331 - val_CN_Recall: 1.0000 - val_MCI_Recall: 0.5882\n",
            "Epoch 21/50\n",
            "698/698 [==============================] - 101s 145ms/step - loss: 0.1825 - Accuracy: 0.9444 - AD_Precision: 0.9414 - CN_Precision: 0.9340 - MCI_Precision: 0.9530 - AD_Recall: 0.9507 - CN_Recall: 0.9275 - MCI_Recall: 0.9516 - val_loss: 0.6041 - val_Accuracy: 0.8653 - val_AD_Precision: 0.7744 - val_CN_Precision: 0.7959 - val_MCI_Precision: 0.9590 - val_AD_Recall: 0.8110 - val_CN_Recall: 0.9898 - val_MCI_Recall: 0.8128\n",
            "Epoch 22/50\n",
            "698/698 [==============================] - 98s 140ms/step - loss: 0.1836 - Accuracy: 0.9477 - AD_Precision: 0.9193 - CN_Precision: 0.9543 - MCI_Precision: 0.9544 - AD_Recall: 0.9211 - CN_Recall: 0.9520 - MCI_Recall: 0.9530 - val_loss: 0.7317 - val_Accuracy: 0.8352 - val_AD_Precision: 0.7181 - val_CN_Precision: 0.9701 - val_MCI_Precision: 0.8390 - val_AD_Recall: 0.8425 - val_CN_Recall: 0.6599 - val_MCI_Recall: 0.9198\n",
            "Epoch 23/50\n",
            "698/698 [==============================] - 97s 139ms/step - loss: 0.1350 - Accuracy: 0.9609 - AD_Precision: 0.9418 - CN_Precision: 0.9639 - MCI_Precision: 0.9677 - AD_Recall: 0.9250 - CN_Recall: 0.9684 - MCI_Recall: 0.9671 - val_loss: 1.2958 - val_Accuracy: 0.8166 - val_AD_Precision: 1.0000 - val_CN_Precision: 0.8953 - val_MCI_Precision: 0.7712 - val_AD_Recall: 0.2756 - val_CN_Recall: 0.8680 - val_MCI_Recall: 0.9733\n",
            "Epoch 24/50\n",
            "698/698 [==============================] - 98s 140ms/step - loss: 0.1775 - Accuracy: 0.9512 - AD_Precision: 0.9364 - CN_Precision: 0.9519 - MCI_Precision: 0.9587 - AD_Recall: 0.9290 - CN_Recall: 0.9485 - MCI_Recall: 0.9608 - val_loss: 1.1366 - val_Accuracy: 0.7536 - val_AD_Precision: 0.7801 - val_CN_Precision: 0.5913 - val_MCI_Precision: 0.9780 - val_AD_Recall: 0.8661 - val_CN_Recall: 0.9695 - val_MCI_Recall: 0.5936\n",
            "Epoch 25/50\n",
            "698/698 [==============================] - 96s 138ms/step - loss: 0.1390 - Accuracy: 0.9620 - AD_Precision: 0.9489 - CN_Precision: 0.9635 - MCI_Precision: 0.9664 - AD_Recall: 0.9527 - CN_Recall: 0.9579 - MCI_Recall: 0.9678 - val_loss: 0.7980 - val_Accuracy: 0.8152 - val_AD_Precision: 0.8919 - val_CN_Precision: 0.7469 - val_MCI_Precision: 0.8519 - val_AD_Recall: 0.5197 - val_CN_Recall: 0.9137 - val_MCI_Recall: 0.8610\n",
            "Epoch 26/50\n",
            "698/698 [==============================] - 98s 140ms/step - loss: 0.2225 - Accuracy: 0.9380 - AD_Precision: 0.9124 - CN_Precision: 0.9384 - MCI_Precision: 0.9480 - AD_Recall: 0.9034 - CN_Recall: 0.9439 - MCI_Recall: 0.9460 - val_loss: 0.6265 - val_Accuracy: 0.8281 - val_AD_Precision: 0.8602 - val_CN_Precision: 0.6940 - val_MCI_Precision: 0.9495 - val_AD_Recall: 0.6299 - val_CN_Recall: 0.9898 - val_MCI_Recall: 0.8048\n",
            "Epoch 27/50\n",
            "698/698 [==============================] - 98s 140ms/step - loss: 0.1380 - Accuracy: 0.9566 - AD_Precision: 0.9328 - CN_Precision: 0.9612 - MCI_Precision: 0.9636 - AD_Recall: 0.9310 - CN_Recall: 0.9567 - MCI_Recall: 0.9650 - val_loss: 0.9986 - val_Accuracy: 0.8223 - val_AD_Precision: 0.9326 - val_CN_Precision: 0.9209 - val_MCI_Precision: 0.7730 - val_AD_Recall: 0.6535 - val_CN_Recall: 0.6497 - val_MCI_Recall: 0.9652\n",
            "Epoch 28/50\n",
            "698/698 [==============================] - 101s 145ms/step - loss: 0.1537 - Accuracy: 0.9613 - AD_Precision: 0.9411 - CN_Precision: 0.9626 - MCI_Precision: 0.9677 - AD_Recall: 0.9448 - CN_Recall: 0.9637 - MCI_Recall: 0.9650 - val_loss: 0.6831 - val_Accuracy: 0.8911 - val_AD_Precision: 0.9060 - val_CN_Precision: 0.9565 - val_MCI_Precision: 0.8640 - val_AD_Recall: 0.8346 - val_CN_Recall: 0.7817 - val_MCI_Recall: 0.9679\n",
            "Epoch 29/50\n",
            "698/698 [==============================] - 101s 145ms/step - loss: 0.1303 - Accuracy: 0.9641 - AD_Precision: 0.9502 - CN_Precision: 0.9614 - MCI_Precision: 0.9713 - AD_Recall: 0.9408 - CN_Recall: 0.9614 - MCI_Recall: 0.9734 - val_loss: 0.4449 - val_Accuracy: 0.8940 - val_AD_Precision: 0.8264 - val_CN_Precision: 0.9010 - val_MCI_Precision: 0.9140 - val_AD_Recall: 0.7874 - val_CN_Recall: 0.9239 - val_MCI_Recall: 0.9091\n",
            "Epoch 30/50\n",
            "698/698 [==============================] - 103s 147ms/step - loss: 0.1592 - Accuracy: 0.9566 - AD_Precision: 0.9421 - CN_Precision: 0.9532 - MCI_Precision: 0.9644 - AD_Recall: 0.9310 - CN_Recall: 0.9532 - MCI_Recall: 0.9678 - val_loss: 0.6264 - val_Accuracy: 0.9054 - val_AD_Precision: 0.8626 - val_CN_Precision: 0.8714 - val_MCI_Precision: 0.9412 - val_AD_Recall: 0.8898 - val_CN_Recall: 0.9289 - val_MCI_Recall: 0.8984\n",
            "Epoch 31/50\n",
            "698/698 [==============================] - 99s 142ms/step - loss: 0.1833 - Accuracy: 0.9566 - AD_Precision: 0.9450 - CN_Precision: 0.9508 - MCI_Precision: 0.9649 - AD_Recall: 0.9487 - CN_Recall: 0.9497 - MCI_Recall: 0.9629 - val_loss: 2.2522 - val_Accuracy: 0.7020 - val_AD_Precision: 0.6688 - val_CN_Precision: 0.5621 - val_MCI_Precision: 0.9701 - val_AD_Recall: 0.8268 - val_CN_Recall: 0.9645 - val_MCI_Recall: 0.5214\n",
            "Epoch 32/50\n",
            "698/698 [==============================] - 98s 140ms/step - loss: 0.1803 - Accuracy: 0.9588 - AD_Precision: 0.9303 - CN_Precision: 0.9640 - MCI_Precision: 0.9669 - AD_Recall: 0.9211 - CN_Recall: 0.9696 - MCI_Recall: 0.9636 - val_loss: 0.4507 - val_Accuracy: 0.9011 - val_AD_Precision: 0.8102 - val_CN_Precision: 0.9514 - val_MCI_Precision: 0.9096 - val_AD_Recall: 0.8740 - val_CN_Recall: 0.8934 - val_MCI_Recall: 0.9144\n",
            "Epoch 33/50\n",
            "698/698 [==============================] - 98s 141ms/step - loss: 0.0989 - Accuracy: 0.9735 - AD_Precision: 0.9583 - CN_Precision: 0.9789 - MCI_Precision: 0.9755 - AD_Recall: 0.9507 - CN_Recall: 0.9789 - MCI_Recall: 0.9776 - val_loss: 0.5986 - val_Accuracy: 0.8782 - val_AD_Precision: 0.8972 - val_CN_Precision: 0.7810 - val_MCI_Precision: 0.9398 - val_AD_Recall: 0.7559 - val_CN_Recall: 0.9594 - val_MCI_Recall: 0.8770\n",
            "Epoch 34/50\n",
            "698/698 [==============================] - 98s 140ms/step - loss: 0.1379 - Accuracy: 0.9674 - AD_Precision: 0.9604 - CN_Precision: 0.9672 - MCI_Precision: 0.9699 - AD_Recall: 0.9566 - CN_Recall: 0.9649 - MCI_Recall: 0.9720 - val_loss: 1.7570 - val_Accuracy: 0.7966 - val_AD_Precision: 1.0000 - val_CN_Precision: 0.6340 - val_MCI_Precision: 0.9150 - val_AD_Recall: 0.2913 - val_CN_Recall: 0.9848 - val_MCI_Recall: 0.8636\n",
            "Epoch 35/50\n",
            "698/698 [==============================] - 98s 141ms/step - loss: 0.0983 - Accuracy: 0.9710 - AD_Precision: 0.9587 - CN_Precision: 0.9718 - MCI_Precision: 0.9762 - AD_Recall: 0.9606 - CN_Recall: 0.9684 - MCI_Recall: 0.9762 - val_loss: 0.7109 - val_Accuracy: 0.8825 - val_AD_Precision: 0.7041 - val_CN_Precision: 0.9055 - val_MCI_Precision: 0.9604 - val_AD_Recall: 0.9370 - val_CN_Recall: 0.9239 - val_MCI_Recall: 0.8422\n",
            "Epoch 36/50\n",
            "698/698 [==============================] - 97s 139ms/step - loss: 0.1415 - Accuracy: 0.9670 - AD_Precision: 0.9605 - CN_Precision: 0.9588 - MCI_Precision: 0.9748 - AD_Recall: 0.9586 - CN_Recall: 0.9532 - MCI_Recall: 0.9769 - val_loss: 1.1121 - val_Accuracy: 0.8553 - val_AD_Precision: 0.9524 - val_CN_Precision: 0.9207 - val_MCI_Precision: 0.8133 - val_AD_Recall: 0.6299 - val_CN_Recall: 0.7665 - val_MCI_Recall: 0.9786\n",
            "Epoch 37/50\n",
            "698/698 [==============================] - 102s 146ms/step - loss: 0.1308 - Accuracy: 0.9681 - AD_Precision: 0.9602 - CN_Precision: 0.9627 - MCI_Precision: 0.9741 - AD_Recall: 0.9527 - CN_Recall: 0.9649 - MCI_Recall: 0.9748 - val_loss: 0.5904 - val_Accuracy: 0.9069 - val_AD_Precision: 0.9545 - val_CN_Precision: 0.8832 - val_MCI_Precision: 0.9089 - val_AD_Recall: 0.6614 - val_CN_Recall: 0.9594 - val_MCI_Recall: 0.9599\n",
            "Epoch 38/50\n",
            "698/698 [==============================] - 97s 139ms/step - loss: 0.1402 - Accuracy: 0.9670 - AD_Precision: 0.9524 - CN_Precision: 0.9650 - MCI_Precision: 0.9734 - AD_Recall: 0.9467 - CN_Recall: 0.9661 - MCI_Recall: 0.9741 - val_loss: 0.8699 - val_Accuracy: 0.8854 - val_AD_Precision: 1.0000 - val_CN_Precision: 0.8900 - val_MCI_Precision: 0.8667 - val_AD_Recall: 0.5354 - val_CN_Recall: 0.9442 - val_MCI_Recall: 0.9733\n",
            "Epoch 39/50\n",
            "698/698 [==============================] - 98s 140ms/step - loss: 0.0978 - Accuracy: 0.9767 - AD_Precision: 0.9586 - CN_Precision: 0.9836 - MCI_Precision: 0.9797 - AD_Recall: 0.9586 - CN_Recall: 0.9825 - MCI_Recall: 0.9797 - val_loss: 0.9328 - val_Accuracy: 0.8381 - val_AD_Precision: 0.8738 - val_CN_Precision: 0.9200 - val_MCI_Precision: 0.8036 - val_AD_Recall: 0.7087 - val_CN_Recall: 0.7005 - val_MCI_Recall: 0.9519\n",
            "Epoch 40/50\n",
            "698/698 [==============================] - 97s 138ms/step - loss: 0.1413 - Accuracy: 0.9634 - AD_Precision: 0.9483 - CN_Precision: 0.9660 - MCI_Precision: 0.9692 - AD_Recall: 0.9408 - CN_Recall: 0.9649 - MCI_Recall: 0.9706 - val_loss: 0.6695 - val_Accuracy: 0.8954 - val_AD_Precision: 0.9691 - val_CN_Precision: 0.9333 - val_MCI_Precision: 0.8622 - val_AD_Recall: 0.7402 - val_CN_Recall: 0.8528 - val_MCI_Recall: 0.9706\n",
            "Epoch 41/50\n",
            "698/698 [==============================] - 97s 139ms/step - loss: 0.1114 - Accuracy: 0.9720 - AD_Precision: 0.9564 - CN_Precision: 0.9732 - MCI_Precision: 0.9775 - AD_Recall: 0.9527 - CN_Recall: 0.9754 - MCI_Recall: 0.9762 - val_loss: 0.5311 - val_Accuracy: 0.8883 - val_AD_Precision: 0.8154 - val_CN_Precision: 0.9382 - val_MCI_Precision: 0.8897 - val_AD_Recall: 0.8346 - val_CN_Recall: 0.8477 - val_MCI_Recall: 0.9278\n",
            "Epoch 42/50\n",
            "698/698 [==============================] - 97s 139ms/step - loss: 0.0762 - Accuracy: 0.9796 - AD_Precision: 0.9744 - CN_Precision: 0.9755 - MCI_Precision: 0.9846 - AD_Recall: 0.9763 - CN_Recall: 0.9766 - MCI_Recall: 0.9825 - val_loss: 1.0648 - val_Accuracy: 0.8768 - val_AD_Precision: 0.9610 - val_CN_Precision: 0.9194 - val_MCI_Precision: 0.8437 - val_AD_Recall: 0.5827 - val_CN_Recall: 0.8680 - val_MCI_Recall: 0.9813\n",
            "Epoch 43/50\n",
            "698/698 [==============================] - 98s 140ms/step - loss: 0.1946 - Accuracy: 0.9573 - AD_Precision: 0.9386 - CN_Precision: 0.9566 - MCI_Precision: 0.9657 - AD_Recall: 0.9349 - CN_Recall: 0.9544 - MCI_Recall: 0.9664 - val_loss: 0.7659 - val_Accuracy: 0.8711 - val_AD_Precision: 1.0000 - val_CN_Precision: 0.8348 - val_MCI_Precision: 0.8703 - val_AD_Recall: 0.5591 - val_CN_Recall: 0.9492 - val_MCI_Recall: 0.9332\n",
            "Epoch 44/50\n",
            "698/698 [==============================] - 101s 145ms/step - loss: 0.0796 - Accuracy: 0.9774 - AD_Precision: 0.9742 - CN_Precision: 0.9766 - MCI_Precision: 0.9804 - AD_Recall: 0.9665 - CN_Recall: 0.9754 - MCI_Recall: 0.9818 - val_loss: 0.5374 - val_Accuracy: 0.9112 - val_AD_Precision: 0.8507 - val_CN_Precision: 0.9759 - val_MCI_Precision: 0.9091 - val_AD_Recall: 0.8976 - val_CN_Recall: 0.8223 - val_MCI_Recall: 0.9626\n",
            "Epoch 45/50\n",
            "698/698 [==============================] - 98s 141ms/step - loss: 0.0887 - Accuracy: 0.9774 - AD_Precision: 0.9743 - CN_Precision: 0.9778 - MCI_Precision: 0.9790 - AD_Recall: 0.9724 - CN_Recall: 0.9766 - MCI_Recall: 0.9790 - val_loss: 0.5242 - val_Accuracy: 0.9083 - val_AD_Precision: 0.9273 - val_CN_Precision: 0.8514 - val_MCI_Precision: 0.9448 - val_AD_Recall: 0.8031 - val_CN_Recall: 0.9594 - val_MCI_Recall: 0.9144\n",
            "Epoch 46/50\n",
            "698/698 [==============================] - 98s 140ms/step - loss: 0.1115 - Accuracy: 0.9724 - AD_Precision: 0.9664 - CN_Precision: 0.9707 - MCI_Precision: 0.9755 - AD_Recall: 0.9645 - CN_Recall: 0.9696 - MCI_Recall: 0.9769 - val_loss: 0.5299 - val_Accuracy: 0.9040 - val_AD_Precision: 0.8525 - val_CN_Precision: 0.9716 - val_MCI_Precision: 0.8900 - val_AD_Recall: 0.8189 - val_CN_Recall: 0.8680 - val_MCI_Recall: 0.9519\n",
            "Epoch 47/50\n",
            "698/698 [==============================] - 98s 140ms/step - loss: 0.1396 - Accuracy: 0.9674 - AD_Precision: 0.9623 - CN_Precision: 0.9683 - MCI_Precision: 0.9693 - AD_Recall: 0.9566 - CN_Recall: 0.9661 - MCI_Recall: 0.9720 - val_loss: 1.2398 - val_Accuracy: 0.8754 - val_AD_Precision: 0.9620 - val_CN_Precision: 0.9194 - val_MCI_Precision: 0.8406 - val_AD_Recall: 0.5984 - val_CN_Recall: 0.8680 - val_MCI_Recall: 0.9733\n",
            "Epoch 48/50\n",
            "698/698 [==============================] - 98s 140ms/step - loss: 0.1378 - Accuracy: 0.9695 - AD_Precision: 0.9486 - CN_Precision: 0.9707 - MCI_Precision: 0.9762 - AD_Recall: 0.9467 - CN_Recall: 0.9696 - MCI_Recall: 0.9776 - val_loss: 0.8602 - val_Accuracy: 0.8295 - val_AD_Precision: 0.9438 - val_CN_Precision: 0.6844 - val_MCI_Precision: 0.9231 - val_AD_Recall: 0.6614 - val_CN_Recall: 0.9797 - val_MCI_Recall: 0.8021\n",
            "Epoch 49/50\n",
            "698/698 [==============================] - 102s 146ms/step - loss: 0.0432 - Accuracy: 0.9871 - AD_Precision: 0.9802 - CN_Precision: 0.9895 - MCI_Precision: 0.9881 - AD_Recall: 0.9783 - CN_Recall: 0.9918 - MCI_Recall: 0.9874 - val_loss: 0.4977 - val_Accuracy: 0.9140 - val_AD_Precision: 0.8492 - val_CN_Precision: 0.9721 - val_MCI_Precision: 0.9084 - val_AD_Recall: 0.8425 - val_CN_Recall: 0.8832 - val_MCI_Recall: 0.9545\n",
            "Epoch 50/50\n",
            "698/698 [==============================] - 99s 142ms/step - loss: 0.1432 - Accuracy: 0.9688 - AD_Precision: 0.9584 - CN_Precision: 0.9638 - MCI_Precision: 0.9768 - AD_Recall: 0.9546 - CN_Recall: 0.9661 - MCI_Recall: 0.9755 - val_loss: 0.8536 - val_Accuracy: 0.8797 - val_AD_Precision: 0.7586 - val_CN_Precision: 0.9684 - val_MCI_Precision: 0.8886 - val_AD_Recall: 0.8661 - val_CN_Recall: 0.7766 - val_MCI_Recall: 0.9385\n"
          ]
        }
      ],
      "source": [
        "# learning_rate=10E-4\n",
        "savepath = '/content/drive/MyDrive/ADNI/resnet50_row_10E-4/'\n",
        "lr=0.0001\n",
        "if not os.path.isdir(savepath):\n",
        "      os.makedirs(savepath)\n",
        "csvloger_callback = tf.keras.callbacks.CSVLogger(f'{savepath}history.csv', separator=',', append=False)\n",
        "\n",
        "modelcheckpoint_callback = tf.keras.callbacks.ModelCheckpoint(savepath+'resnet50_row_10E-4_weights-epoch:{epoch:03d}-val_Accuracy:{val_Accuracy:.4f}.h5',monitor='val_Accuracy'\n",
        "    ,verbose=0,save_best_only=True,save_weights_only=True,mode='max',save_freq='epoch' , initial_value_threshold=0.85)\n",
        "\n",
        "OPT = tf.keras.optimizers.Adam(learning_rate=lr)\n",
        "model04 = resnet50_row(OPT, LOOS,METRICS,image_Shape)\n",
        "history04 = model04.fit(training_image_datagen, epochs=EPOCH, validation_data=testing_image_datagen,callbacks=[csvloger_callback,modelcheckpoint_callback])\n",
        "model04 = resnet50_row(OPT, LOOS,METRICS,image_Shape)\n",
        "model04.load_weights(glob.glob(f\"{savepath}resnet50_row_10E-4_weights-epoch:*-val_Accuracy:{max(history04.history['val_Accuracy']):.4f}.h5\")[0])"
      ]
    },
    {
      "cell_type": "code",
      "execution_count": null,
      "metadata": {
        "colab": {
          "base_uri": "https://localhost:8080/",
          "height": 477
        },
        "id": "fwVOz_T8cuhY",
        "outputId": "22354376-3130-4067-cd04-6ba6cbae4d03"
      },
      "outputs": [
        {
          "name": "stdout",
          "output_type": "stream",
          "text": [
            "              precision    recall  f1-score   support\n",
            "\n",
            "          AD       0.85      0.84      0.85       127\n",
            "          CN       0.97      0.88      0.93       197\n",
            "         MCI       0.91      0.95      0.93       374\n",
            "\n",
            "    accuracy                           0.91       698\n",
            "   macro avg       0.91      0.89      0.90       698\n",
            "weighted avg       0.92      0.91      0.91       698\n",
            "\n"
          ]
        },
        {
          "data": {
            "image/png": "[encoded data removed]",
            "text/plain": [
              "<Figure size 432x288 with 2 Axes>"
            ]
          },
          "metadata": {
            "needs_background": "light"
          },
          "output_type": "display_data"
        }
      ],
      "source": [
        "p = model04.predict(testing_image_datagen)\n",
        "predicted_lab = p.argmax(axis=-1)\n",
        "true_lab = testing_image_datagen.classes\n",
        "plot_confusion_matrix(true_lab, predicted_lab, testing_image_datagen.class_indices.keys(),savepath)\n",
        "report = classification_report(true_lab, predicted_lab, target_names=testing_image_datagen.class_indices.keys())\n",
        "print(report)\n",
        "dump_text(report,f'{savepath}classification_report.txt')"
      ]
    },
    {
      "cell_type": "code",
      "execution_count": null,
      "metadata": {
        "colab": {
          "base_uri": "https://localhost:8080/"
        },
        "id": "J8fZytmUDIGL",
        "outputId": "2ced98e5-b6a6-4540-f5ac-8560ec69e4c0"
      },
      "outputs": [
        {
          "name": "stdout",
          "output_type": "stream",
          "text": [
            "Epoch 1/50\n",
            "698/698 [==============================] - 106s 142ms/step - loss: 6.6077 - Accuracy: 0.5971 - AD_Precision: 0.4219 - CN_Precision: 0.5789 - MCI_Precision: 0.6687 - AD_Recall: 0.4306 - CN_Recall: 0.5580 - MCI_Recall: 0.6757 - val_loss: 3.3094 - val_Accuracy: 0.6562 - val_AD_Precision: 0.5631 - val_CN_Precision: 0.5633 - val_MCI_Precision: 0.7438 - val_AD_Recall: 0.4567 - val_CN_Recall: 0.6548 - val_MCI_Recall: 0.7219\n",
            "Epoch 2/50\n",
            "698/698 [==============================] - 98s 141ms/step - loss: 2.4900 - Accuracy: 0.7580 - AD_Precision: 0.6833 - CN_Precision: 0.7388 - MCI_Precision: 0.7953 - AD_Recall: 0.6765 - CN_Recall: 0.7310 - MCI_Recall: 0.8031 - val_loss: 1.7916 - val_Accuracy: 0.7493 - val_AD_Precision: 0.5976 - val_CN_Precision: 0.6850 - val_MCI_Precision: 0.9011 - val_AD_Recall: 0.7953 - val_CN_Recall: 0.8832 - val_MCI_Recall: 0.6578\n",
            "Epoch 3/50\n",
            "698/698 [==============================] - 98s 140ms/step - loss: 1.4012 - Accuracy: 0.8347 - AD_Precision: 0.7737 - CN_Precision: 0.8328 - MCI_Precision: 0.8579 - AD_Recall: 0.7554 - CN_Recall: 0.8386 - MCI_Recall: 0.8591 - val_loss: 4.1153 - val_Accuracy: 0.5759 - val_AD_Precision: 0.3230 - val_CN_Precision: 0.8797 - val_MCI_Precision: 0.9040 - val_AD_Recall: 0.9843 - val_CN_Recall: 0.5939 - val_MCI_Recall: 0.4278\n",
            "Epoch 4/50\n",
            "698/698 [==============================] - 97s 139ms/step - loss: 0.9116 - Accuracy: 0.8627 - AD_Precision: 0.8066 - CN_Precision: 0.8625 - MCI_Precision: 0.8840 - AD_Recall: 0.8146 - CN_Recall: 0.8585 - MCI_Recall: 0.8816 - val_loss: 1.5607 - val_Accuracy: 0.8152 - val_AD_Precision: 0.9091 - val_CN_Precision: 0.7291 - val_MCI_Precision: 0.8556 - val_AD_Recall: 0.4724 - val_CN_Recall: 0.9289 - val_MCI_Recall: 0.8717\n",
            "Epoch 5/50\n",
            "698/698 [==============================] - 99s 141ms/step - loss: 0.5543 - Accuracy: 0.9061 - AD_Precision: 0.8668 - CN_Precision: 0.9170 - MCI_Precision: 0.9139 - AD_Recall: 0.8600 - CN_Recall: 0.9170 - MCI_Recall: 0.9145 - val_loss: 2.0253 - val_Accuracy: 0.7708 - val_AD_Precision: 0.8352 - val_CN_Precision: 0.9897 - val_MCI_Precision: 0.7191 - val_AD_Recall: 0.5984 - val_CN_Recall: 0.4873 - val_MCI_Recall: 0.9786\n",
            "Epoch 6/50\n",
            "698/698 [==============================] - 102s 147ms/step - loss: 0.5498 - Accuracy: 0.9068 - AD_Precision: 0.8802 - CN_Precision: 0.9081 - MCI_Precision: 0.9161 - AD_Recall: 0.8836 - CN_Recall: 0.9018 - MCI_Recall: 0.9180 - val_loss: 0.9897 - val_Accuracy: 0.8524 - val_AD_Precision: 0.9032 - val_CN_Precision: 0.8018 - val_MCI_Precision: 0.8691 - val_AD_Recall: 0.6614 - val_CN_Recall: 0.9036 - val_MCI_Recall: 0.8877\n",
            "Epoch 7/50\n",
            "698/698 [==============================] - 98s 140ms/step - loss: 0.3267 - Accuracy: 0.9326 - AD_Precision: 0.9098 - CN_Precision: 0.9413 - MCI_Precision: 0.9366 - AD_Recall: 0.8955 - CN_Recall: 0.9380 - MCI_Recall: 0.9425 - val_loss: 0.9410 - val_Accuracy: 0.8395 - val_AD_Precision: 0.6686 - val_CN_Precision: 0.8962 - val_MCI_Precision: 0.8957 - val_AD_Recall: 0.8898 - val_CN_Recall: 0.8325 - val_MCI_Recall: 0.8262\n",
            "Epoch 8/50\n",
            "698/698 [==============================] - 101s 145ms/step - loss: 0.2563 - Accuracy: 0.9441 - AD_Precision: 0.9250 - CN_Precision: 0.9405 - MCI_Precision: 0.9543 - AD_Recall: 0.9250 - CN_Recall: 0.9427 - MCI_Recall: 0.9516 - val_loss: 0.9529 - val_Accuracy: 0.8610 - val_AD_Precision: 0.8203 - val_CN_Precision: 0.9716 - val_MCI_Precision: 0.8364 - val_AD_Recall: 0.8268 - val_CN_Recall: 0.6954 - val_MCI_Recall: 0.9572\n",
            "Epoch 9/50\n",
            "698/698 [==============================] - 102s 146ms/step - loss: 0.2303 - Accuracy: 0.9487 - AD_Precision: 0.9211 - CN_Precision: 0.9544 - MCI_Precision: 0.9552 - AD_Recall: 0.9211 - CN_Recall: 0.9544 - MCI_Recall: 0.9552 - val_loss: 0.7171 - val_Accuracy: 0.8682 - val_AD_Precision: 0.7465 - val_CN_Precision: 0.8531 - val_MCI_Precision: 0.9271 - val_AD_Recall: 0.8346 - val_CN_Recall: 0.9137 - val_MCI_Recall: 0.8503\n",
            "Epoch 10/50\n",
            "698/698 [==============================] - 98s 141ms/step - loss: 0.2321 - Accuracy: 0.9477 - AD_Precision: 0.9267 - CN_Precision: 0.9474 - MCI_Precision: 0.9559 - AD_Recall: 0.9231 - CN_Recall: 0.9474 - MCI_Recall: 0.9559 - val_loss: 1.0083 - val_Accuracy: 0.8009 - val_AD_Precision: 0.6818 - val_CN_Precision: 0.7033 - val_MCI_Precision: 0.9701 - val_AD_Recall: 0.8268 - val_CN_Recall: 0.9746 - val_MCI_Recall: 0.6952\n",
            "Epoch 11/50\n",
            "698/698 [==============================] - 102s 146ms/step - loss: 0.2345 - Accuracy: 0.9423 - AD_Precision: 0.9129 - CN_Precision: 0.9471 - MCI_Precision: 0.9497 - AD_Recall: 0.9093 - CN_Recall: 0.9427 - MCI_Recall: 0.9523 - val_loss: 0.6960 - val_Accuracy: 0.8825 - val_AD_Precision: 0.9255 - val_CN_Precision: 0.8958 - val_MCI_Precision: 0.8707 - val_AD_Recall: 0.6850 - val_CN_Recall: 0.8731 - val_MCI_Recall: 0.9545\n",
            "Epoch 12/50\n",
            "698/698 [==============================] - 102s 146ms/step - loss: 0.1392 - Accuracy: 0.9591 - AD_Precision: 0.9370 - CN_Precision: 0.9670 - MCI_Precision: 0.9630 - AD_Recall: 0.9389 - CN_Recall: 0.9591 - MCI_Recall: 0.9657 - val_loss: 0.4985 - val_Accuracy: 0.8997 - val_AD_Precision: 0.8254 - val_CN_Precision: 0.9543 - val_MCI_Precision: 0.8992 - val_AD_Recall: 0.8189 - val_CN_Recall: 0.8477 - val_MCI_Recall: 0.9545\n",
            "Epoch 13/50\n",
            "698/698 [==============================] - 100s 144ms/step - loss: 0.1157 - Accuracy: 0.9652 - AD_Precision: 0.9544 - CN_Precision: 0.9652 - MCI_Precision: 0.9711 - AD_Recall: 0.9487 - CN_Recall: 0.9719 - MCI_Recall: 0.9664 - val_loss: 0.5223 - val_Accuracy: 0.8968 - val_AD_Precision: 0.9159 - val_CN_Precision: 0.9021 - val_MCI_Precision: 0.8892 - val_AD_Recall: 0.7717 - val_CN_Recall: 0.8883 - val_MCI_Recall: 0.9439\n",
            "Epoch 14/50\n",
            "698/698 [==============================] - 102s 145ms/step - loss: 0.0905 - Accuracy: 0.9724 - AD_Precision: 0.9586 - CN_Precision: 0.9765 - MCI_Precision: 0.9755 - AD_Recall: 0.9586 - CN_Recall: 0.9731 - MCI_Recall: 0.9762 - val_loss: 0.4610 - val_Accuracy: 0.9054 - val_AD_Precision: 0.9266 - val_CN_Precision: 0.9305 - val_MCI_Precision: 0.8925 - val_AD_Recall: 0.7953 - val_CN_Recall: 0.8832 - val_MCI_Recall: 0.9545\n",
            "Epoch 15/50\n",
            "698/698 [==============================] - 99s 142ms/step - loss: 0.1146 - Accuracy: 0.9688 - AD_Precision: 0.9605 - CN_Precision: 0.9695 - MCI_Precision: 0.9734 - AD_Recall: 0.9586 - CN_Recall: 0.9661 - MCI_Recall: 0.9741 - val_loss: 0.5239 - val_Accuracy: 0.8797 - val_AD_Precision: 0.7466 - val_CN_Precision: 0.9441 - val_MCI_Precision: 0.9106 - val_AD_Recall: 0.8583 - val_CN_Recall: 0.8579 - val_MCI_Recall: 0.8984\n",
            "Epoch 16/50\n",
            "698/698 [==============================] - 97s 139ms/step - loss: 0.0808 - Accuracy: 0.9724 - AD_Precision: 0.9569 - CN_Precision: 0.9732 - MCI_Precision: 0.9782 - AD_Recall: 0.9625 - CN_Recall: 0.9766 - MCI_Recall: 0.9734 - val_loss: 0.9224 - val_Accuracy: 0.8438 - val_AD_Precision: 0.9878 - val_CN_Precision: 0.9645 - val_MCI_Precision: 0.7848 - val_AD_Recall: 0.6378 - val_CN_Recall: 0.6904 - val_MCI_Recall: 0.9947\n",
            "Epoch 17/50\n",
            "698/698 [==============================] - 98s 141ms/step - loss: 0.0787 - Accuracy: 0.9720 - AD_Precision: 0.9664 - CN_Precision: 0.9719 - MCI_Precision: 0.9741 - AD_Recall: 0.9645 - CN_Recall: 0.9708 - MCI_Recall: 0.9755 - val_loss: 0.5668 - val_Accuracy: 0.8739 - val_AD_Precision: 0.9474 - val_CN_Precision: 0.8044 - val_MCI_Precision: 0.8989 - val_AD_Recall: 0.7087 - val_CN_Recall: 0.9188 - val_MCI_Recall: 0.9037\n",
            "Epoch 18/50\n",
            "698/698 [==============================] - 97s 139ms/step - loss: 0.0616 - Accuracy: 0.9828 - AD_Precision: 0.9744 - CN_Precision: 0.9848 - MCI_Precision: 0.9846 - AD_Recall: 0.9763 - CN_Recall: 0.9860 - MCI_Recall: 0.9832 - val_loss: 0.4258 - val_Accuracy: 0.8983 - val_AD_Precision: 0.8525 - val_CN_Precision: 0.9251 - val_MCI_Precision: 0.9044 - val_AD_Recall: 0.8189 - val_CN_Recall: 0.8782 - val_MCI_Recall: 0.9358\n",
            "Epoch 19/50\n",
            "698/698 [==============================] - 99s 141ms/step - loss: 0.0665 - Accuracy: 0.9788 - AD_Precision: 0.9743 - CN_Precision: 0.9812 - MCI_Precision: 0.9797 - AD_Recall: 0.9704 - CN_Recall: 0.9789 - MCI_Recall: 0.9818 - val_loss: 0.4943 - val_Accuracy: 0.8968 - val_AD_Precision: 0.8468 - val_CN_Precision: 0.9438 - val_MCI_Precision: 0.8914 - val_AD_Recall: 0.8268 - val_CN_Recall: 0.8528 - val_MCI_Recall: 0.9439\n",
            "Epoch 20/50\n",
            "698/698 [==============================] - 99s 141ms/step - loss: 0.0763 - Accuracy: 0.9742 - AD_Precision: 0.9684 - CN_Precision: 0.9730 - MCI_Precision: 0.9776 - AD_Recall: 0.9665 - CN_Recall: 0.9696 - MCI_Recall: 0.9790 - val_loss: 0.5739 - val_Accuracy: 0.8782 - val_AD_Precision: 0.9432 - val_CN_Precision: 0.8404 - val_MCI_Precision: 0.8838 - val_AD_Recall: 0.6535 - val_CN_Recall: 0.9086 - val_MCI_Recall: 0.9358\n",
            "Epoch 21/50\n",
            "698/698 [==============================] - 99s 141ms/step - loss: 0.0520 - Accuracy: 0.9817 - AD_Precision: 0.9862 - CN_Precision: 0.9766 - MCI_Precision: 0.9832 - AD_Recall: 0.9862 - CN_Recall: 0.9754 - MCI_Recall: 0.9839 - val_loss: 0.6873 - val_Accuracy: 0.8410 - val_AD_Precision: 0.8803 - val_CN_Precision: 0.7063 - val_MCI_Precision: 0.9513 - val_AD_Recall: 0.8110 - val_CN_Recall: 0.9645 - val_MCI_Recall: 0.7834\n",
            "Epoch 22/50\n",
            "698/698 [==============================] - 98s 141ms/step - loss: 0.0567 - Accuracy: 0.9792 - AD_Precision: 0.9644 - CN_Precision: 0.9825 - MCI_Precision: 0.9832 - AD_Recall: 0.9625 - CN_Recall: 0.9836 - MCI_Recall: 0.9818 - val_loss: 0.4937 - val_Accuracy: 0.8968 - val_AD_Precision: 0.9245 - val_CN_Precision: 0.8585 - val_MCI_Precision: 0.9153 - val_AD_Recall: 0.7717 - val_CN_Recall: 0.9239 - val_MCI_Recall: 0.9251\n",
            "Epoch 23/50\n",
            "698/698 [==============================] - 99s 141ms/step - loss: 0.0639 - Accuracy: 0.9828 - AD_Precision: 0.9842 - CN_Precision: 0.9790 - MCI_Precision: 0.9853 - AD_Recall: 0.9803 - CN_Recall: 0.9801 - MCI_Recall: 0.9846 - val_loss: 0.5292 - val_Accuracy: 0.8668 - val_AD_Precision: 0.6723 - val_CN_Precision: 0.9239 - val_MCI_Precision: 0.9429 - val_AD_Recall: 0.9370 - val_CN_Recall: 0.8629 - val_MCI_Recall: 0.8396\n",
            "Epoch 24/50\n",
            "698/698 [==============================] - 99s 142ms/step - loss: 0.0479 - Accuracy: 0.9831 - AD_Precision: 0.9743 - CN_Precision: 0.9871 - MCI_Precision: 0.9839 - AD_Recall: 0.9724 - CN_Recall: 0.9836 - MCI_Recall: 0.9867 - val_loss: 0.4735 - val_Accuracy: 0.8997 - val_AD_Precision: 0.8898 - val_CN_Precision: 0.8578 - val_MCI_Precision: 0.9313 - val_AD_Recall: 0.8268 - val_CN_Recall: 0.9188 - val_MCI_Recall: 0.9064\n",
            "Epoch 25/50\n",
            "698/698 [==============================] - 99s 141ms/step - loss: 0.0559 - Accuracy: 0.9799 - AD_Precision: 0.9745 - CN_Precision: 0.9801 - MCI_Precision: 0.9824 - AD_Recall: 0.9783 - CN_Recall: 0.9789 - MCI_Recall: 0.9804 - val_loss: 0.4368 - val_Accuracy: 0.9054 - val_AD_Precision: 0.8919 - val_CN_Precision: 0.9415 - val_MCI_Precision: 0.8945 - val_AD_Recall: 0.7795 - val_CN_Recall: 0.8985 - val_MCI_Recall: 0.9519\n",
            "Epoch 26/50\n",
            "698/698 [==============================] - 99s 141ms/step - loss: 0.0241 - Accuracy: 0.9900 - AD_Precision: 0.9842 - CN_Precision: 0.9941 - MCI_Precision: 0.9895 - AD_Recall: 0.9803 - CN_Recall: 0.9930 - MCI_Recall: 0.9916 - val_loss: 0.5947 - val_Accuracy: 0.8983 - val_AD_Precision: 0.9773 - val_CN_Precision: 0.8685 - val_MCI_Precision: 0.8967 - val_AD_Recall: 0.6772 - val_CN_Recall: 0.9391 - val_MCI_Recall: 0.9519\n",
            "Epoch 27/50\n",
            "698/698 [==============================] - 99s 142ms/step - loss: 0.0179 - Accuracy: 0.9939 - AD_Precision: 0.9941 - CN_Precision: 0.9942 - MCI_Precision: 0.9944 - AD_Recall: 0.9901 - CN_Recall: 0.9965 - MCI_Recall: 0.9937 - val_loss: 0.5235 - val_Accuracy: 0.8940 - val_AD_Precision: 0.7671 - val_CN_Precision: 0.8947 - val_MCI_Precision: 0.9501 - val_AD_Recall: 0.8819 - val_CN_Recall: 0.9492 - val_MCI_Recall: 0.8663\n",
            "Epoch 28/50\n",
            "698/698 [==============================] - 97s 139ms/step - loss: 0.0610 - Accuracy: 0.9839 - AD_Precision: 0.9761 - CN_Precision: 0.9871 - MCI_Precision: 0.9853 - AD_Recall: 0.9684 - CN_Recall: 0.9860 - MCI_Recall: 0.9874 - val_loss: 0.7304 - val_Accuracy: 0.8668 - val_AD_Precision: 0.8083 - val_CN_Precision: 0.7890 - val_MCI_Precision: 0.9441 - val_AD_Recall: 0.7638 - val_CN_Recall: 0.9492 - val_MCI_Recall: 0.8583\n",
            "Epoch 29/50\n",
            "698/698 [==============================] - 97s 139ms/step - loss: 0.0589 - Accuracy: 0.9824 - AD_Precision: 0.9801 - CN_Precision: 0.9836 - MCI_Precision: 0.9832 - AD_Recall: 0.9724 - CN_Recall: 0.9836 - MCI_Recall: 0.9853 - val_loss: 0.4830 - val_Accuracy: 0.8868 - val_AD_Precision: 0.7358 - val_CN_Precision: 0.9016 - val_MCI_Precision: 0.9507 - val_AD_Recall: 0.9213 - val_CN_Recall: 0.8832 - val_MCI_Recall: 0.8770\n",
            "Epoch 30/50\n",
            "698/698 [==============================] - 102s 146ms/step - loss: 0.0344 - Accuracy: 0.9864 - AD_Precision: 0.9763 - CN_Precision: 0.9906 - MCI_Precision: 0.9874 - AD_Recall: 0.9744 - CN_Recall: 0.9883 - MCI_Recall: 0.9895 - val_loss: 0.5294 - val_Accuracy: 0.9126 - val_AD_Precision: 0.9596 - val_CN_Precision: 0.9412 - val_MCI_Precision: 0.8883 - val_AD_Recall: 0.7480 - val_CN_Recall: 0.8934 - val_MCI_Recall: 0.9786\n",
            "Epoch 31/50\n",
            "698/698 [==============================] - 98s 140ms/step - loss: 0.0412 - Accuracy: 0.9857 - AD_Precision: 0.9783 - CN_Precision: 0.9871 - MCI_Precision: 0.9874 - AD_Recall: 0.9783 - CN_Recall: 0.9883 - MCI_Recall: 0.9867 - val_loss: 0.9112 - val_Accuracy: 0.8252 - val_AD_Precision: 0.6011 - val_CN_Precision: 0.9864 - val_MCI_Precision: 0.8770 - val_AD_Recall: 0.8661 - val_CN_Recall: 0.7360 - val_MCI_Recall: 0.8583\n",
            "Epoch 32/50\n",
            "698/698 [==============================] - 97s 138ms/step - loss: 0.0338 - Accuracy: 0.9878 - AD_Precision: 0.9842 - CN_Precision: 0.9906 - MCI_Precision: 0.9888 - AD_Recall: 0.9842 - CN_Recall: 0.9906 - MCI_Recall: 0.9874 - val_loss: 0.5759 - val_Accuracy: 0.9026 - val_AD_Precision: 0.9882 - val_CN_Precision: 0.9278 - val_MCI_Precision: 0.8732 - val_AD_Recall: 0.6614 - val_CN_Recall: 0.9137 - val_MCI_Recall: 0.9759\n",
            "Epoch 33/50\n",
            "698/698 [==============================] - 97s 139ms/step - loss: 0.0450 - Accuracy: 0.9842 - AD_Precision: 0.9763 - CN_Precision: 0.9836 - MCI_Precision: 0.9874 - AD_Recall: 0.9744 - CN_Recall: 0.9836 - MCI_Recall: 0.9874 - val_loss: 0.4634 - val_Accuracy: 0.8997 - val_AD_Precision: 0.7847 - val_CN_Precision: 0.8986 - val_MCI_Precision: 0.9564 - val_AD_Recall: 0.8898 - val_CN_Recall: 0.9442 - val_MCI_Recall: 0.8797\n",
            "Epoch 34/50\n",
            "698/698 [==============================] - 100s 144ms/step - loss: 0.0226 - Accuracy: 0.9946 - AD_Precision: 0.9921 - CN_Precision: 0.9976 - MCI_Precision: 0.9937 - AD_Recall: 0.9921 - CN_Recall: 0.9930 - MCI_Recall: 0.9965 - val_loss: 0.2990 - val_Accuracy: 0.9284 - val_AD_Precision: 0.9000 - val_CN_Precision: 0.9628 - val_MCI_Precision: 0.9229 - val_AD_Recall: 0.8504 - val_CN_Recall: 0.9188 - val_MCI_Recall: 0.9599\n",
            "Epoch 35/50\n",
            "698/698 [==============================] - 98s 140ms/step - loss: 0.0397 - Accuracy: 0.9849 - AD_Precision: 0.9763 - CN_Precision: 0.9895 - MCI_Precision: 0.9860 - AD_Recall: 0.9744 - CN_Recall: 0.9906 - MCI_Recall: 0.9853 - val_loss: 0.3838 - val_Accuracy: 0.9241 - val_AD_Precision: 0.8417 - val_CN_Precision: 0.9340 - val_MCI_Precision: 0.9503 - val_AD_Recall: 0.9213 - val_CN_Recall: 0.9340 - val_MCI_Recall: 0.9198\n",
            "Epoch 36/50\n",
            "698/698 [==============================] - 97s 139ms/step - loss: 0.0572 - Accuracy: 0.9839 - AD_Precision: 0.9784 - CN_Precision: 0.9801 - MCI_Precision: 0.9887 - AD_Recall: 0.9842 - CN_Recall: 0.9789 - MCI_Recall: 0.9853 - val_loss: 0.5369 - val_Accuracy: 0.9026 - val_AD_Precision: 0.9450 - val_CN_Precision: 0.8440 - val_MCI_Precision: 0.9268 - val_AD_Recall: 0.8110 - val_CN_Recall: 0.9340 - val_MCI_Recall: 0.9144\n",
            "Epoch 37/50\n",
            "698/698 [==============================] - 97s 140ms/step - loss: 0.0490 - Accuracy: 0.9839 - AD_Precision: 0.9823 - CN_Precision: 0.9801 - MCI_Precision: 0.9874 - AD_Recall: 0.9842 - CN_Recall: 0.9789 - MCI_Recall: 0.9867 - val_loss: 0.5469 - val_Accuracy: 0.8968 - val_AD_Precision: 0.9574 - val_CN_Precision: 0.9709 - val_MCI_Precision: 0.8542 - val_AD_Recall: 0.7087 - val_CN_Recall: 0.8477 - val_MCI_Recall: 0.9866\n",
            "Epoch 38/50\n",
            "698/698 [==============================] - 99s 141ms/step - loss: 0.0159 - Accuracy: 0.9946 - AD_Precision: 0.9941 - CN_Precision: 0.9942 - MCI_Precision: 0.9951 - AD_Recall: 0.9901 - CN_Recall: 0.9965 - MCI_Recall: 0.9951 - val_loss: 0.4218 - val_Accuracy: 0.9097 - val_AD_Precision: 0.9412 - val_CN_Precision: 0.9365 - val_MCI_Precision: 0.8894 - val_AD_Recall: 0.7559 - val_CN_Recall: 0.8985 - val_MCI_Recall: 0.9679\n",
            "Epoch 39/50\n",
            "698/698 [==============================] - 99s 141ms/step - loss: 0.0469 - Accuracy: 0.9871 - AD_Precision: 0.9862 - CN_Precision: 0.9837 - MCI_Precision: 0.9895 - AD_Recall: 0.9862 - CN_Recall: 0.9860 - MCI_Recall: 0.9874 - val_loss: 0.4178 - val_Accuracy: 0.9140 - val_AD_Precision: 0.9400 - val_CN_Precision: 0.9323 - val_MCI_Precision: 0.8988 - val_AD_Recall: 0.7402 - val_CN_Recall: 0.9086 - val_MCI_Recall: 0.9733\n",
            "Epoch 40/50\n",
            "698/698 [==============================] - 98s 141ms/step - loss: 0.0151 - Accuracy: 0.9950 - AD_Precision: 0.9941 - CN_Precision: 0.9942 - MCI_Precision: 0.9958 - AD_Recall: 0.9941 - CN_Recall: 0.9953 - MCI_Recall: 0.9951 - val_loss: 0.7596 - val_Accuracy: 0.8883 - val_AD_Precision: 0.9369 - val_CN_Precision: 0.9801 - val_MCI_Precision: 0.8460 - val_AD_Recall: 0.8189 - val_CN_Recall: 0.7513 - val_MCI_Recall: 0.9840\n",
            "Epoch 41/50\n",
            "698/698 [==============================] - 98s 140ms/step - loss: 0.0566 - Accuracy: 0.9842 - AD_Precision: 0.9802 - CN_Precision: 0.9836 - MCI_Precision: 0.9860 - AD_Recall: 0.9783 - CN_Recall: 0.9836 - MCI_Recall: 0.9867 - val_loss: 1.0602 - val_Accuracy: 0.8467 - val_AD_Precision: 0.9182 - val_CN_Precision: 1.0000 - val_MCI_Precision: 0.7910 - val_AD_Recall: 0.7953 - val_CN_Recall: 0.5990 - val_MCI_Recall: 0.9920\n",
            "Epoch 42/50\n",
            "698/698 [==============================] - 99s 141ms/step - loss: 0.0324 - Accuracy: 0.9900 - AD_Precision: 0.9901 - CN_Precision: 0.9894 - MCI_Precision: 0.9902 - AD_Recall: 0.9901 - CN_Recall: 0.9860 - MCI_Recall: 0.9916 - val_loss: 0.6479 - val_Accuracy: 0.8897 - val_AD_Precision: 1.0000 - val_CN_Precision: 0.9529 - val_MCI_Precision: 0.8451 - val_AD_Recall: 0.6929 - val_CN_Recall: 0.8223 - val_MCI_Recall: 0.9920\n",
            "Epoch 43/50\n",
            "698/698 [==============================] - 99s 141ms/step - loss: 0.0222 - Accuracy: 0.9921 - AD_Precision: 0.9882 - CN_Precision: 0.9918 - MCI_Precision: 0.9937 - AD_Recall: 0.9901 - CN_Recall: 0.9918 - MCI_Recall: 0.9930 - val_loss: 0.4445 - val_Accuracy: 0.9198 - val_AD_Precision: 0.8957 - val_CN_Precision: 0.9289 - val_MCI_Precision: 0.9221 - val_AD_Recall: 0.8110 - val_CN_Recall: 0.9289 - val_MCI_Recall: 0.9492\n",
            "Epoch 44/50\n",
            "698/698 [==============================] - 98s 140ms/step - loss: 0.0259 - Accuracy: 0.9903 - AD_Precision: 0.9901 - CN_Precision: 0.9883 - MCI_Precision: 0.9916 - AD_Recall: 0.9862 - CN_Recall: 0.9906 - MCI_Recall: 0.9916 - val_loss: 0.4846 - val_Accuracy: 0.8997 - val_AD_Precision: 0.7793 - val_CN_Precision: 0.9095 - val_MCI_Precision: 0.9462 - val_AD_Recall: 0.8898 - val_CN_Recall: 0.9188 - val_MCI_Recall: 0.8930\n",
            "Epoch 45/50\n",
            "698/698 [==============================] - 98s 140ms/step - loss: 0.0296 - Accuracy: 0.9928 - AD_Precision: 0.9862 - CN_Precision: 0.9965 - MCI_Precision: 0.9930 - AD_Recall: 0.9862 - CN_Recall: 0.9965 - MCI_Recall: 0.9930 - val_loss: 0.7558 - val_Accuracy: 0.8725 - val_AD_Precision: 1.0000 - val_CN_Precision: 0.9175 - val_MCI_Precision: 0.8341 - val_AD_Recall: 0.5039 - val_CN_Recall: 0.9036 - val_MCI_Recall: 0.9813\n",
            "Epoch 46/50\n",
            "698/698 [==============================] - 98s 141ms/step - loss: 0.0323 - Accuracy: 0.9892 - AD_Precision: 0.9802 - CN_Precision: 0.9918 - MCI_Precision: 0.9909 - AD_Recall: 0.9783 - CN_Recall: 0.9883 - MCI_Recall: 0.9937 - val_loss: 0.6259 - val_Accuracy: 0.8954 - val_AD_Precision: 1.0000 - val_CN_Precision: 0.9215 - val_MCI_Precision: 0.8656 - val_AD_Recall: 0.6457 - val_CN_Recall: 0.8934 - val_MCI_Recall: 0.9813\n",
            "Epoch 47/50\n",
            "698/698 [==============================] - 99s 141ms/step - loss: 0.0308 - Accuracy: 0.9889 - AD_Precision: 0.9861 - CN_Precision: 0.9895 - MCI_Precision: 0.9895 - AD_Recall: 0.9803 - CN_Recall: 0.9906 - MCI_Recall: 0.9909 - val_loss: 0.4867 - val_Accuracy: 0.9241 - val_AD_Precision: 0.9608 - val_CN_Precision: 0.9100 - val_MCI_Precision: 0.9217 - val_AD_Recall: 0.7717 - val_CN_Recall: 0.9239 - val_MCI_Recall: 0.9759\n",
            "Epoch 48/50\n",
            "698/698 [==============================] - 98s 140ms/step - loss: 0.0288 - Accuracy: 0.9914 - AD_Precision: 0.9941 - CN_Precision: 0.9883 - MCI_Precision: 0.9923 - AD_Recall: 0.9901 - CN_Recall: 0.9906 - MCI_Recall: 0.9923 - val_loss: 0.4804 - val_Accuracy: 0.9126 - val_AD_Precision: 0.7647 - val_CN_Precision: 0.9482 - val_MCI_Precision: 0.9574 - val_AD_Recall: 0.9213 - val_CN_Recall: 0.9289 - val_MCI_Recall: 0.9011\n",
            "Epoch 49/50\n",
            "698/698 [==============================] - 101s 145ms/step - loss: 0.0403 - Accuracy: 0.9871 - AD_Precision: 0.9802 - CN_Precision: 0.9848 - MCI_Precision: 0.9909 - AD_Recall: 0.9763 - CN_Recall: 0.9883 - MCI_Recall: 0.9895 - val_loss: 0.4362 - val_Accuracy: 0.9341 - val_AD_Precision: 0.8267 - val_CN_Precision: 0.9779 - val_MCI_Precision: 0.9563 - val_AD_Recall: 0.9764 - val_CN_Recall: 0.8985 - val_MCI_Recall: 0.9358\n",
            "Epoch 50/50\n",
            "698/698 [==============================] - 100s 143ms/step - loss: 0.0238 - Accuracy: 0.9925 - AD_Precision: 0.9921 - CN_Precision: 0.9918 - MCI_Precision: 0.9930 - AD_Recall: 0.9901 - CN_Recall: 0.9918 - MCI_Recall: 0.9937 - val_loss: 0.9442 - val_Accuracy: 0.8639 - val_AD_Precision: 0.9474 - val_CN_Precision: 0.9427 - val_MCI_Precision: 0.8184 - val_AD_Recall: 0.7087 - val_CN_Recall: 0.7513 - val_MCI_Recall: 0.9759\n"
          ]
        }
      ],
      "source": [
        "# learning_rate=10E-5\n",
        "savepath = '/content/drive/MyDrive/ADNI/resnet50_row_10E-5/'\n",
        "lr=0.00001\n",
        "if not os.path.isdir(savepath):\n",
        "      os.makedirs(savepath)\n",
        "csvloger_callback = tf.keras.callbacks.CSVLogger(f'{savepath}history.csv', separator=',', append=False)\n",
        "\n",
        "modelcheckpoint_callback = tf.keras.callbacks.ModelCheckpoint(savepath+'resnet50_row_10E-5_weights-epoch:{epoch:03d}-val_Accuracy:{val_Accuracy:.4f}.h5',monitor='val_Accuracy'\n",
        "    ,verbose=0,save_best_only=True,save_weights_only=True,mode='max',save_freq='epoch' , initial_value_threshold=0.85)\n",
        "\n",
        "OPT = tf.keras.optimizers.Adam(learning_rate=lr)\n",
        "model05 = resnet50_row(OPT, LOOS,METRICS,image_Shape)\n",
        "history05 = model05.fit(training_image_datagen, epochs=EPOCH, validation_data=testing_image_datagen,callbacks=[csvloger_callback,modelcheckpoint_callback])\n",
        "model05 = resnet50_row(OPT, LOOS,METRICS,image_Shape)\n",
        "model05.load_weights(glob.glob(f\"{savepath}resnet50_row_10E-5_weights-epoch:*-val_Accuracy:{max(history05.history['val_Accuracy']):.4f}.h5\")[0])"
      ]
    },
    {
      "cell_type": "code",
      "execution_count": null,
      "metadata": {
        "colab": {
          "base_uri": "https://localhost:8080/",
          "height": 477
        },
        "id": "-CVZ5XfIDQeq",
        "outputId": "718a237a-5b6e-4513-91c9-3bc51a0b1738"
      },
      "outputs": [
        {
          "name": "stdout",
          "output_type": "stream",
          "text": [
            "              precision    recall  f1-score   support\n",
            "\n",
            "          AD       0.83      0.98      0.90       127\n",
            "          CN       0.98      0.90      0.94       197\n",
            "         MCI       0.96      0.94      0.95       374\n",
            "\n",
            "    accuracy                           0.93       698\n",
            "   macro avg       0.92      0.94      0.93       698\n",
            "weighted avg       0.94      0.93      0.93       698\n",
            "\n"
          ]
        },
        {
          "data": {
            "image/png": "[encoded data removed]",
            "text/plain": [
              "<Figure size 432x288 with 2 Axes>"
            ]
          },
          "metadata": {
            "needs_background": "light"
          },
          "output_type": "display_data"
        }
      ],
      "source": [
        "p = model05.predict(testing_image_datagen)\n",
        "predicted_lab = p.argmax(axis=-1)\n",
        "true_lab = testing_image_datagen.classes\n",
        "plot_confusion_matrix(true_lab, predicted_lab, testing_image_datagen.class_indices.keys(),savepath)\n",
        "report = classification_report(true_lab, predicted_lab, target_names=testing_image_datagen.class_indices.keys())\n",
        "print(report)\n",
        "dump_text(report,f'{savepath}classification_report.txt')"
      ]
    },
    {
      "cell_type": "code",
      "execution_count": null,
      "metadata": {
        "colab": {
          "base_uri": "https://localhost:8080/"
        },
        "id": "yVLEEUCXDOsQ",
        "outputId": "e8ad5c51-164d-4eec-e642-cb365f8f3b86"
      },
      "outputs": [
        {
          "name": "stdout",
          "output_type": "stream",
          "text": [
            "Epoch 1/50\n",
            "698/698 [==============================] - 105s 141ms/step - loss: 2.8186 - Accuracy: 0.5369 - AD_Precision: 0.3495 - CN_Precision: 0.4885 - MCI_Precision: 0.6233 - AD_Recall: 0.3060 - CN_Recall: 0.4648 - MCI_Recall: 0.6541 - val_loss: 1.8575 - val_Accuracy: 0.5473 - val_AD_Precision: 0.4138 - val_CN_Precision: 0.4489 - val_MCI_Precision: 0.6571 - val_AD_Recall: 0.1890 - val_CN_Recall: 0.6244 - val_MCI_Recall: 0.6096\n",
            "Epoch 2/50\n",
            "698/698 [==============================] - 97s 139ms/step - loss: 1.5280 - Accuracy: 0.6432 - AD_Precision: 0.4882 - CN_Precision: 0.6211 - MCI_Precision: 0.7138 - AD_Recall: 0.4477 - CN_Recall: 0.6117 - MCI_Recall: 0.7148 - val_loss: 1.3118 - val_Accuracy: 0.6877 - val_AD_Precision: 0.6329 - val_CN_Precision: 0.6890 - val_MCI_Precision: 0.6975 - val_AD_Recall: 0.3937 - val_CN_Recall: 0.5736 - val_MCI_Recall: 0.8262\n",
            "Epoch 3/50\n",
            "698/698 [==============================] - 97s 139ms/step - loss: 1.1136 - Accuracy: 0.7401 - AD_Precision: 0.6203 - CN_Precision: 0.7352 - MCI_Precision: 0.7915 - AD_Recall: 0.5897 - CN_Recall: 0.7240 - MCI_Recall: 0.7877 - val_loss: 1.0185 - val_Accuracy: 0.7120 - val_AD_Precision: 0.5594 - val_CN_Precision: 0.6808 - val_MCI_Precision: 0.8190 - val_AD_Recall: 0.6299 - val_CN_Recall: 0.7360 - val_MCI_Recall: 0.7139\n",
            "Epoch 4/50\n",
            "698/698 [==============================] - 97s 139ms/step - loss: 0.7295 - Accuracy: 0.8006 - AD_Precision: 0.7636 - CN_Precision: 0.7849 - MCI_Precision: 0.8301 - AD_Recall: 0.7456 - CN_Recall: 0.7637 - MCI_Recall: 0.8353 - val_loss: 1.2255 - val_Accuracy: 0.7378 - val_AD_Precision: 0.8800 - val_CN_Precision: 0.8138 - val_MCI_Precision: 0.7048 - val_AD_Recall: 0.3465 - val_CN_Recall: 0.5990 - val_MCI_Recall: 0.9385\n",
            "Epoch 5/50\n",
            "698/698 [==============================] - 97s 139ms/step - loss: 0.5481 - Accuracy: 0.8551 - AD_Precision: 0.8044 - CN_Precision: 0.8470 - MCI_Precision: 0.8839 - AD_Recall: 0.7870 - CN_Recall: 0.8351 - MCI_Recall: 0.8858 - val_loss: 0.7407 - val_Accuracy: 0.7951 - val_AD_Precision: 0.7596 - val_CN_Precision: 0.7812 - val_MCI_Precision: 0.8231 - val_AD_Recall: 0.6220 - val_CN_Recall: 0.7614 - val_MCI_Recall: 0.8583\n",
            "Epoch 6/50\n",
            "698/698 [==============================] - 97s 139ms/step - loss: 0.4553 - Accuracy: 0.8788 - AD_Precision: 0.8395 - CN_Precision: 0.8766 - MCI_Precision: 0.8983 - AD_Recall: 0.8047 - CN_Recall: 0.8725 - MCI_Recall: 0.9040 - val_loss: 0.7871 - val_Accuracy: 0.7894 - val_AD_Precision: 0.5954 - val_CN_Precision: 0.9220 - val_MCI_Precision: 0.8346 - val_AD_Recall: 0.8110 - val_CN_Recall: 0.6599 - val_MCI_Recall: 0.8503\n",
            "Epoch 7/50\n",
            "698/698 [==============================] - 98s 140ms/step - loss: 0.3756 - Accuracy: 0.8928 - AD_Precision: 0.8657 - CN_Precision: 0.8857 - MCI_Precision: 0.9106 - AD_Recall: 0.8521 - CN_Recall: 0.8795 - MCI_Recall: 0.9131 - val_loss: 0.8598 - val_Accuracy: 0.7994 - val_AD_Precision: 0.6463 - val_CN_Precision: 0.9147 - val_MCI_Precision: 0.8243 - val_AD_Recall: 0.8346 - val_CN_Recall: 0.5990 - val_MCI_Recall: 0.8904\n",
            "Epoch 8/50\n",
            "698/698 [==============================] - 97s 139ms/step - loss: 0.2726 - Accuracy: 0.9154 - AD_Precision: 0.8924 - CN_Precision: 0.9107 - MCI_Precision: 0.9286 - AD_Recall: 0.8836 - CN_Recall: 0.9064 - MCI_Recall: 0.9299 - val_loss: 0.7548 - val_Accuracy: 0.8166 - val_AD_Precision: 0.7876 - val_CN_Precision: 0.8816 - val_MCI_Precision: 0.8042 - val_AD_Recall: 0.7008 - val_CN_Recall: 0.6802 - val_MCI_Recall: 0.9225\n",
            "Epoch 9/50\n",
            "698/698 [==============================] - 97s 139ms/step - loss: 0.2563 - Accuracy: 0.9272 - AD_Precision: 0.9094 - CN_Precision: 0.9206 - MCI_Precision: 0.9420 - AD_Recall: 0.9112 - CN_Recall: 0.9216 - MCI_Recall: 0.9341 - val_loss: 0.5986 - val_Accuracy: 0.8410 - val_AD_Precision: 0.8136 - val_CN_Precision: 0.8274 - val_MCI_Precision: 0.8690 - val_AD_Recall: 0.7559 - val_CN_Recall: 0.8274 - val_MCI_Recall: 0.8690\n",
            "Epoch 10/50\n",
            "698/698 [==============================] - 97s 139ms/step - loss: 0.1827 - Accuracy: 0.9394 - AD_Precision: 0.9246 - CN_Precision: 0.9379 - MCI_Precision: 0.9475 - AD_Recall: 0.9191 - CN_Recall: 0.9368 - MCI_Recall: 0.9481 - val_loss: 0.7261 - val_Accuracy: 0.8410 - val_AD_Precision: 0.8485 - val_CN_Precision: 0.8922 - val_MCI_Precision: 0.8255 - val_AD_Recall: 0.6614 - val_CN_Recall: 0.7563 - val_MCI_Recall: 0.9358\n",
            "Epoch 11/50\n",
            "698/698 [==============================] - 97s 139ms/step - loss: 0.1562 - Accuracy: 0.9523 - AD_Precision: 0.9360 - CN_Precision: 0.9476 - MCI_Precision: 0.9628 - AD_Recall: 0.9231 - CN_Recall: 0.9509 - MCI_Recall: 0.9615 - val_loss: 0.7571 - val_Accuracy: 0.8352 - val_AD_Precision: 0.9481 - val_CN_Precision: 0.8449 - val_MCI_Precision: 0.8205 - val_AD_Recall: 0.5748 - val_CN_Recall: 0.8020 - val_MCI_Recall: 0.9412\n",
            "Epoch 12/50\n",
            "698/698 [==============================] - 101s 145ms/step - loss: 0.1426 - Accuracy: 0.9598 - AD_Precision: 0.9426 - CN_Precision: 0.9636 - MCI_Precision: 0.9643 - AD_Recall: 0.9389 - CN_Recall: 0.9591 - MCI_Recall: 0.9657 - val_loss: 0.6277 - val_Accuracy: 0.8510 - val_AD_Precision: 0.7966 - val_CN_Precision: 0.8048 - val_MCI_Precision: 0.8940 - val_AD_Recall: 0.7402 - val_CN_Recall: 0.8579 - val_MCI_Recall: 0.8797\n",
            "Epoch 13/50\n",
            "698/698 [==============================] - 101s 145ms/step - loss: 0.1358 - Accuracy: 0.9555 - AD_Precision: 0.9482 - CN_Precision: 0.9487 - MCI_Precision: 0.9629 - AD_Recall: 0.9389 - CN_Recall: 0.9520 - MCI_Recall: 0.9629 - val_loss: 0.6001 - val_Accuracy: 0.8596 - val_AD_Precision: 0.8462 - val_CN_Precision: 0.7937 - val_MCI_Precision: 0.9101 - val_AD_Recall: 0.7795 - val_CN_Recall: 0.8985 - val_MCI_Recall: 0.8663\n",
            "Epoch 14/50\n",
            "698/698 [==============================] - 97s 140ms/step - loss: 0.0945 - Accuracy: 0.9706 - AD_Precision: 0.9622 - CN_Precision: 0.9674 - MCI_Precision: 0.9768 - AD_Recall: 0.9546 - CN_Recall: 0.9708 - MCI_Recall: 0.9755 - val_loss: 0.6884 - val_Accuracy: 0.8582 - val_AD_Precision: 0.7895 - val_CN_Precision: 0.9241 - val_MCI_Precision: 0.8571 - val_AD_Recall: 0.8268 - val_CN_Recall: 0.7411 - val_MCI_Recall: 0.9305\n",
            "Epoch 15/50\n",
            "698/698 [==============================] - 97s 139ms/step - loss: 0.0976 - Accuracy: 0.9670 - AD_Precision: 0.9562 - CN_Precision: 0.9671 - MCI_Precision: 0.9720 - AD_Recall: 0.9467 - CN_Recall: 0.9637 - MCI_Recall: 0.9748 - val_loss: 1.0135 - val_Accuracy: 0.8324 - val_AD_Precision: 0.9851 - val_CN_Precision: 0.8800 - val_MCI_Precision: 0.7917 - val_AD_Recall: 0.5197 - val_CN_Recall: 0.7817 - val_MCI_Recall: 0.9652\n",
            "Epoch 16/50\n",
            "698/698 [==============================] - 97s 139ms/step - loss: 0.0988 - Accuracy: 0.9713 - AD_Precision: 0.9624 - CN_Precision: 0.9707 - MCI_Precision: 0.9748 - AD_Recall: 0.9586 - CN_Recall: 0.9684 - MCI_Recall: 0.9762 - val_loss: 1.4593 - val_Accuracy: 0.7851 - val_AD_Precision: 0.9811 - val_CN_Precision: 0.8742 - val_MCI_Precision: 0.7378 - val_AD_Recall: 0.4094 - val_CN_Recall: 0.6701 - val_MCI_Recall: 0.9706\n",
            "Epoch 17/50\n",
            "698/698 [==============================] - 97s 139ms/step - loss: 0.1113 - Accuracy: 0.9677 - AD_Precision: 0.9562 - CN_Precision: 0.9627 - MCI_Precision: 0.9755 - AD_Recall: 0.9467 - CN_Recall: 0.9673 - MCI_Recall: 0.9748 - val_loss: 0.8316 - val_Accuracy: 0.8352 - val_AD_Precision: 0.8866 - val_CN_Precision: 0.7233 - val_MCI_Precision: 0.9041 - val_AD_Recall: 0.6772 - val_CN_Recall: 0.9289 - val_MCI_Recall: 0.8316\n",
            "Epoch 18/50\n",
            "698/698 [==============================] - 101s 145ms/step - loss: 0.0907 - Accuracy: 0.9728 - AD_Precision: 0.9647 - CN_Precision: 0.9672 - MCI_Precision: 0.9789 - AD_Recall: 0.9704 - CN_Recall: 0.9661 - MCI_Recall: 0.9762 - val_loss: 0.7325 - val_Accuracy: 0.8639 - val_AD_Precision: 0.8716 - val_CN_Precision: 0.8785 - val_MCI_Precision: 0.8575 - val_AD_Recall: 0.7480 - val_CN_Recall: 0.8071 - val_MCI_Recall: 0.9332\n",
            "Epoch 19/50\n",
            "698/698 [==============================] - 98s 140ms/step - loss: 0.0848 - Accuracy: 0.9760 - AD_Precision: 0.9724 - CN_Precision: 0.9742 - MCI_Precision: 0.9790 - AD_Recall: 0.9724 - CN_Recall: 0.9719 - MCI_Recall: 0.9783 - val_loss: 0.7856 - val_Accuracy: 0.8567 - val_AD_Precision: 0.8807 - val_CN_Precision: 0.7573 - val_MCI_Precision: 0.9164 - val_AD_Recall: 0.7559 - val_CN_Recall: 0.9188 - val_MCI_Recall: 0.8503\n",
            "Epoch 20/50\n",
            "698/698 [==============================] - 97s 139ms/step - loss: 0.0538 - Accuracy: 0.9821 - AD_Precision: 0.9762 - CN_Precision: 0.9836 - MCI_Precision: 0.9853 - AD_Recall: 0.9704 - CN_Recall: 0.9813 - MCI_Recall: 0.9853 - val_loss: 0.9564 - val_Accuracy: 0.8410 - val_AD_Precision: 0.9767 - val_CN_Precision: 0.9038 - val_MCI_Precision: 0.7934 - val_AD_Recall: 0.6614 - val_CN_Recall: 0.7157 - val_MCI_Recall: 0.9652\n",
            "Epoch 21/50\n",
            "698/698 [==============================] - 97s 139ms/step - loss: 0.0721 - Accuracy: 0.9778 - AD_Precision: 0.9821 - CN_Precision: 0.9730 - MCI_Precision: 0.9790 - AD_Recall: 0.9763 - CN_Recall: 0.9708 - MCI_Recall: 0.9818 - val_loss: 0.7703 - val_Accuracy: 0.8610 - val_AD_Precision: 0.9457 - val_CN_Precision: 0.8131 - val_MCI_Precision: 0.8718 - val_AD_Recall: 0.6850 - val_CN_Recall: 0.8832 - val_MCI_Recall: 0.9091\n",
            "Epoch 22/50\n",
            "698/698 [==============================] - 101s 144ms/step - loss: 0.0703 - Accuracy: 0.9806 - AD_Precision: 0.9802 - CN_Precision: 0.9789 - MCI_Precision: 0.9825 - AD_Recall: 0.9783 - CN_Recall: 0.9754 - MCI_Recall: 0.9839 - val_loss: 0.6892 - val_Accuracy: 0.8725 - val_AD_Precision: 0.9099 - val_CN_Precision: 0.9012 - val_MCI_Precision: 0.8506 - val_AD_Recall: 0.7953 - val_CN_Recall: 0.7868 - val_MCI_Recall: 0.9439\n",
            "Epoch 23/50\n",
            "698/698 [==============================] - 97s 140ms/step - loss: 0.0453 - Accuracy: 0.9857 - AD_Precision: 0.9822 - CN_Precision: 0.9860 - MCI_Precision: 0.9867 - AD_Recall: 0.9783 - CN_Recall: 0.9871 - MCI_Recall: 0.9874 - val_loss: 0.7692 - val_Accuracy: 0.8582 - val_AD_Precision: 0.8015 - val_CN_Precision: 0.8283 - val_MCI_Precision: 0.8940 - val_AD_Recall: 0.8268 - val_CN_Recall: 0.8325 - val_MCI_Recall: 0.8797\n",
            "Epoch 24/50\n",
            "698/698 [==============================] - 97s 139ms/step - loss: 0.0587 - Accuracy: 0.9803 - AD_Precision: 0.9782 - CN_Precision: 0.9790 - MCI_Precision: 0.9825 - AD_Recall: 0.9724 - CN_Recall: 0.9801 - MCI_Recall: 0.9825 - val_loss: 1.3519 - val_Accuracy: 0.8223 - val_AD_Precision: 0.9870 - val_CN_Precision: 0.9489 - val_MCI_Precision: 0.7603 - val_AD_Recall: 0.5984 - val_CN_Recall: 0.6599 - val_MCI_Recall: 0.9840\n",
            "Epoch 25/50\n",
            "698/698 [==============================] - 97s 139ms/step - loss: 0.0458 - Accuracy: 0.9871 - AD_Precision: 0.9822 - CN_Precision: 0.9860 - MCI_Precision: 0.9895 - AD_Recall: 0.9822 - CN_Recall: 0.9860 - MCI_Recall: 0.9895 - val_loss: 0.8727 - val_Accuracy: 0.8639 - val_AD_Precision: 0.9216 - val_CN_Precision: 0.9152 - val_MCI_Precision: 0.8306 - val_AD_Recall: 0.7402 - val_CN_Recall: 0.7665 - val_MCI_Recall: 0.9572\n",
            "Epoch 26/50\n",
            "698/698 [==============================] - 97s 139ms/step - loss: 0.0511 - Accuracy: 0.9839 - AD_Precision: 0.9763 - CN_Precision: 0.9836 - MCI_Precision: 0.9867 - AD_Recall: 0.9763 - CN_Recall: 0.9848 - MCI_Recall: 0.9860 - val_loss: 1.0946 - val_Accuracy: 0.8539 - val_AD_Precision: 0.9881 - val_CN_Precision: 0.9096 - val_MCI_Precision: 0.8080 - val_AD_Recall: 0.6535 - val_CN_Recall: 0.7665 - val_MCI_Recall: 0.9679\n",
            "Epoch 27/50\n",
            "698/698 [==============================] - 97s 140ms/step - loss: 0.0417 - Accuracy: 0.9875 - AD_Precision: 0.9822 - CN_Precision: 0.9871 - MCI_Precision: 0.9902 - AD_Recall: 0.9803 - CN_Recall: 0.9848 - MCI_Recall: 0.9916 - val_loss: 0.8004 - val_Accuracy: 0.8625 - val_AD_Precision: 0.8911 - val_CN_Precision: 0.8840 - val_MCI_Precision: 0.8478 - val_AD_Recall: 0.7087 - val_CN_Recall: 0.8122 - val_MCI_Recall: 0.9385\n",
            "Epoch 28/50\n",
            "698/698 [==============================] - 97s 139ms/step - loss: 0.0560 - Accuracy: 0.9853 - AD_Precision: 0.9725 - CN_Precision: 0.9906 - MCI_Precision: 0.9874 - AD_Recall: 0.9763 - CN_Recall: 0.9871 - MCI_Recall: 0.9860 - val_loss: 1.4875 - val_Accuracy: 0.8037 - val_AD_Precision: 0.9815 - val_CN_Precision: 0.9221 - val_MCI_Precision: 0.7485 - val_AD_Recall: 0.4173 - val_CN_Recall: 0.7208 - val_MCI_Recall: 0.9786\n",
            "Epoch 29/50\n",
            "698/698 [==============================] - 101s 145ms/step - loss: 0.0526 - Accuracy: 0.9849 - AD_Precision: 0.9880 - CN_Precision: 0.9802 - MCI_Precision: 0.9867 - AD_Recall: 0.9783 - CN_Recall: 0.9836 - MCI_Recall: 0.9881 - val_loss: 0.8781 - val_Accuracy: 0.8768 - val_AD_Precision: 0.9468 - val_CN_Precision: 0.8842 - val_MCI_Precision: 0.8596 - val_AD_Recall: 0.7008 - val_CN_Recall: 0.8528 - val_MCI_Recall: 0.9492\n",
            "Epoch 30/50\n",
            "698/698 [==============================] - 101s 145ms/step - loss: 0.0352 - Accuracy: 0.9896 - AD_Precision: 0.9881 - CN_Precision: 0.9894 - MCI_Precision: 0.9902 - AD_Recall: 0.9822 - CN_Recall: 0.9871 - MCI_Recall: 0.9937 - val_loss: 0.7519 - val_Accuracy: 0.8782 - val_AD_Precision: 0.8772 - val_CN_Precision: 0.9176 - val_MCI_Precision: 0.8623 - val_AD_Recall: 0.7874 - val_CN_Recall: 0.7919 - val_MCI_Recall: 0.9545\n",
            "Epoch 31/50\n",
            "698/698 [==============================] - 98s 140ms/step - loss: 0.0529 - Accuracy: 0.9839 - AD_Precision: 0.9843 - CN_Precision: 0.9812 - MCI_Precision: 0.9866 - AD_Recall: 0.9921 - CN_Recall: 0.9789 - MCI_Recall: 0.9839 - val_loss: 1.4169 - val_Accuracy: 0.8109 - val_AD_Precision: 0.9425 - val_CN_Precision: 0.9590 - val_MCI_Precision: 0.7536 - val_AD_Recall: 0.6457 - val_CN_Recall: 0.5939 - val_MCI_Recall: 0.9813\n",
            "Epoch 32/50\n",
            "698/698 [==============================] - 102s 146ms/step - loss: 0.0309 - Accuracy: 0.9918 - AD_Precision: 0.9823 - CN_Precision: 0.9977 - MCI_Precision: 0.9916 - AD_Recall: 0.9842 - CN_Recall: 0.9942 - MCI_Recall: 0.9930 - val_loss: 0.7477 - val_Accuracy: 0.8825 - val_AD_Precision: 0.8413 - val_CN_Precision: 0.8737 - val_MCI_Precision: 0.9029 - val_AD_Recall: 0.8346 - val_CN_Recall: 0.8426 - val_MCI_Recall: 0.9198\n",
            "Epoch 33/50\n",
            "698/698 [==============================] - 98s 140ms/step - loss: 0.0428 - Accuracy: 0.9860 - AD_Precision: 0.9920 - CN_Precision: 0.9824 - MCI_Precision: 0.9867 - AD_Recall: 0.9842 - CN_Recall: 0.9801 - MCI_Recall: 0.9902 - val_loss: 1.0164 - val_Accuracy: 0.8481 - val_AD_Precision: 0.9425 - val_CN_Precision: 0.9146 - val_MCI_Precision: 0.8072 - val_AD_Recall: 0.6457 - val_CN_Recall: 0.7614 - val_MCI_Recall: 0.9626\n",
            "Epoch 34/50\n",
            "698/698 [==============================] - 97s 139ms/step - loss: 0.0418 - Accuracy: 0.9878 - AD_Precision: 0.9784 - CN_Precision: 0.9906 - MCI_Precision: 0.9902 - AD_Recall: 0.9842 - CN_Recall: 0.9895 - MCI_Recall: 0.9881 - val_loss: 1.2930 - val_Accuracy: 0.8309 - val_AD_Precision: 0.9839 - val_CN_Precision: 0.8833 - val_MCI_Precision: 0.7912 - val_AD_Recall: 0.4803 - val_CN_Recall: 0.8071 - val_MCI_Recall: 0.9626\n",
            "Epoch 35/50\n",
            "698/698 [==============================] - 97s 139ms/step - loss: 0.0419 - Accuracy: 0.9889 - AD_Precision: 0.9862 - CN_Precision: 0.9883 - MCI_Precision: 0.9902 - AD_Recall: 0.9842 - CN_Recall: 0.9895 - MCI_Recall: 0.9902 - val_loss: 0.8929 - val_Accuracy: 0.8739 - val_AD_Precision: 0.9223 - val_CN_Precision: 0.8983 - val_MCI_Precision: 0.8513 - val_AD_Recall: 0.7480 - val_CN_Recall: 0.8071 - val_MCI_Recall: 0.9492\n",
            "Epoch 36/50\n",
            "698/698 [==============================] - 97s 139ms/step - loss: 0.0289 - Accuracy: 0.9900 - AD_Precision: 0.9862 - CN_Precision: 0.9906 - MCI_Precision: 0.9909 - AD_Recall: 0.9882 - CN_Recall: 0.9860 - MCI_Recall: 0.9923 - val_loss: 0.9501 - val_Accuracy: 0.8596 - val_AD_Precision: 0.9263 - val_CN_Precision: 0.7551 - val_MCI_Precision: 0.9157 - val_AD_Recall: 0.6929 - val_CN_Recall: 0.9391 - val_MCI_Recall: 0.8717\n",
            "Epoch 37/50\n",
            "698/698 [==============================] - 97s 139ms/step - loss: 0.0369 - Accuracy: 0.9903 - AD_Precision: 0.9881 - CN_Precision: 0.9872 - MCI_Precision: 0.9930 - AD_Recall: 0.9862 - CN_Recall: 0.9918 - MCI_Recall: 0.9909 - val_loss: 0.9830 - val_Accuracy: 0.8653 - val_AD_Precision: 0.9767 - val_CN_Precision: 0.8594 - val_MCI_Precision: 0.8452 - val_AD_Recall: 0.6614 - val_CN_Recall: 0.8376 - val_MCI_Recall: 0.9492\n",
            "Epoch 38/50\n",
            "698/698 [==============================] - 97s 139ms/step - loss: 0.0286 - Accuracy: 0.9903 - AD_Precision: 0.9921 - CN_Precision: 0.9871 - MCI_Precision: 0.9916 - AD_Recall: 0.9862 - CN_Recall: 0.9883 - MCI_Recall: 0.9930 - val_loss: 1.1133 - val_Accuracy: 0.8596 - val_AD_Precision: 0.8783 - val_CN_Precision: 0.9388 - val_MCI_Precision: 0.8276 - val_AD_Recall: 0.7953 - val_CN_Recall: 0.7005 - val_MCI_Recall: 0.9626\n",
            "Epoch 39/50\n",
            "698/698 [==============================] - 97s 139ms/step - loss: 0.0471 - Accuracy: 0.9875 - AD_Precision: 0.9802 - CN_Precision: 0.9883 - MCI_Precision: 0.9895 - AD_Recall: 0.9763 - CN_Recall: 0.9895 - MCI_Recall: 0.9895 - val_loss: 0.7940 - val_Accuracy: 0.8725 - val_AD_Precision: 0.9091 - val_CN_Precision: 0.8279 - val_MCI_Precision: 0.8901 - val_AD_Recall: 0.7087 - val_CN_Recall: 0.9036 - val_MCI_Recall: 0.9091\n",
            "Epoch 40/50\n",
            "698/698 [==============================] - 97s 140ms/step - loss: 0.0435 - Accuracy: 0.9871 - AD_Precision: 0.9782 - CN_Precision: 0.9872 - MCI_Precision: 0.9909 - AD_Recall: 0.9744 - CN_Recall: 0.9895 - MCI_Recall: 0.9902 - val_loss: 0.8140 - val_Accuracy: 0.8811 - val_AD_Precision: 0.8417 - val_CN_Precision: 0.9130 - val_MCI_Precision: 0.8804 - val_AD_Recall: 0.7953 - val_CN_Recall: 0.8528 - val_MCI_Recall: 0.9251\n",
            "Epoch 41/50\n",
            "698/698 [==============================] - 98s 140ms/step - loss: 0.0222 - Accuracy: 0.9932 - AD_Precision: 0.9940 - CN_Precision: 0.9941 - MCI_Precision: 0.9923 - AD_Recall: 0.9882 - CN_Recall: 0.9918 - MCI_Recall: 0.9951 - val_loss: 0.8992 - val_Accuracy: 0.8653 - val_AD_Precision: 0.9200 - val_CN_Precision: 0.7860 - val_MCI_Precision: 0.9022 - val_AD_Recall: 0.7244 - val_CN_Recall: 0.9137 - val_MCI_Recall: 0.8877\n",
            "Epoch 42/50\n",
            "698/698 [==============================] - 97s 140ms/step - loss: 0.0320 - Accuracy: 0.9907 - AD_Precision: 0.9921 - CN_Precision: 0.9906 - MCI_Precision: 0.9902 - AD_Recall: 0.9882 - CN_Recall: 0.9895 - MCI_Recall: 0.9923 - val_loss: 0.9674 - val_Accuracy: 0.8524 - val_AD_Precision: 0.8168 - val_CN_Precision: 0.7531 - val_MCI_Precision: 0.9441 - val_AD_Recall: 0.8425 - val_CN_Recall: 0.9289 - val_MCI_Recall: 0.8128\n",
            "Epoch 43/50\n",
            "698/698 [==============================] - 102s 145ms/step - loss: 0.0442 - Accuracy: 0.9885 - AD_Precision: 0.9862 - CN_Precision: 0.9883 - MCI_Precision: 0.9895 - AD_Recall: 0.9842 - CN_Recall: 0.9883 - MCI_Recall: 0.9902 - val_loss: 0.7805 - val_Accuracy: 0.8840 - val_AD_Precision: 0.8583 - val_CN_Precision: 0.8700 - val_MCI_Precision: 0.9019 - val_AD_Recall: 0.8110 - val_CN_Recall: 0.8832 - val_MCI_Recall: 0.9091\n",
            "Epoch 44/50\n",
            "698/698 [==============================] - 98s 141ms/step - loss: 0.0366 - Accuracy: 0.9896 - AD_Precision: 0.9823 - CN_Precision: 0.9918 - MCI_Precision: 0.9909 - AD_Recall: 0.9842 - CN_Recall: 0.9918 - MCI_Recall: 0.9902 - val_loss: 1.0666 - val_Accuracy: 0.8639 - val_AD_Precision: 0.9625 - val_CN_Precision: 0.8373 - val_MCI_Precision: 0.8624 - val_AD_Recall: 0.6063 - val_CN_Recall: 0.8883 - val_MCI_Recall: 0.9385\n",
            "Epoch 45/50\n",
            "698/698 [==============================] - 102s 146ms/step - loss: 0.0386 - Accuracy: 0.9892 - AD_Precision: 0.9901 - CN_Precision: 0.9860 - MCI_Precision: 0.9909 - AD_Recall: 0.9842 - CN_Recall: 0.9895 - MCI_Recall: 0.9909 - val_loss: 0.7824 - val_Accuracy: 0.8911 - val_AD_Precision: 0.8359 - val_CN_Precision: 0.9171 - val_MCI_Precision: 0.8969 - val_AD_Recall: 0.8425 - val_CN_Recall: 0.8426 - val_MCI_Recall: 0.9305\n",
            "Epoch 46/50\n",
            "698/698 [==============================] - 99s 141ms/step - loss: 0.0277 - Accuracy: 0.9918 - AD_Precision: 0.9862 - CN_Precision: 0.9895 - MCI_Precision: 0.9951 - AD_Recall: 0.9862 - CN_Recall: 0.9906 - MCI_Recall: 0.9944 - val_loss: 0.8693 - val_Accuracy: 0.8854 - val_AD_Precision: 0.8346 - val_CN_Precision: 0.8978 - val_MCI_Precision: 0.8984 - val_AD_Recall: 0.8346 - val_CN_Recall: 0.8477 - val_MCI_Recall: 0.9225\n",
            "Epoch 47/50\n",
            "698/698 [==============================] - 97s 139ms/step - loss: 0.0220 - Accuracy: 0.9935 - AD_Precision: 0.9882 - CN_Precision: 0.9941 - MCI_Precision: 0.9951 - AD_Recall: 0.9941 - CN_Recall: 0.9918 - MCI_Recall: 0.9944 - val_loss: 0.9061 - val_Accuracy: 0.8897 - val_AD_Precision: 0.8952 - val_CN_Precision: 0.8974 - val_MCI_Precision: 0.8844 - val_AD_Recall: 0.7402 - val_CN_Recall: 0.8883 - val_MCI_Recall: 0.9412\n",
            "Epoch 48/50\n",
            "698/698 [==============================] - 97s 139ms/step - loss: 0.0411 - Accuracy: 0.9878 - AD_Precision: 0.9863 - CN_Precision: 0.9848 - MCI_Precision: 0.9902 - AD_Recall: 0.9921 - CN_Recall: 0.9825 - MCI_Recall: 0.9895 - val_loss: 1.2445 - val_Accuracy: 0.8596 - val_AD_Precision: 0.9231 - val_CN_Precision: 0.9329 - val_MCI_Precision: 0.8194 - val_AD_Recall: 0.6614 - val_CN_Recall: 0.7766 - val_MCI_Recall: 0.9706\n",
            "Epoch 49/50\n",
            "698/698 [==============================] - 98s 140ms/step - loss: 0.0141 - Accuracy: 0.9961 - AD_Precision: 0.9941 - CN_Precision: 0.9953 - MCI_Precision: 0.9972 - AD_Recall: 0.9921 - CN_Recall: 0.9977 - MCI_Recall: 0.9958 - val_loss: 0.8776 - val_Accuracy: 0.8782 - val_AD_Precision: 0.8374 - val_CN_Precision: 0.9138 - val_MCI_Precision: 0.8797 - val_AD_Recall: 0.8110 - val_CN_Recall: 0.8071 - val_MCI_Recall: 0.9385\n",
            "Epoch 50/50\n",
            "698/698 [==============================] - 98s 140ms/step - loss: 0.0261 - Accuracy: 0.9907 - AD_Precision: 0.9882 - CN_Precision: 0.9906 - MCI_Precision: 0.9916 - AD_Recall: 0.9921 - CN_Recall: 0.9895 - MCI_Recall: 0.9909 - val_loss: 0.9036 - val_Accuracy: 0.8754 - val_AD_Precision: 0.8500 - val_CN_Precision: 0.8224 - val_MCI_Precision: 0.9148 - val_AD_Recall: 0.8031 - val_CN_Recall: 0.8934 - val_MCI_Recall: 0.8904\n"
          ]
        }
      ],
      "source": [
        "# learning_rate=10E-6\n",
        "savepath = '/content/drive/MyDrive/ADNI/resnet50_row_10E-6/'\n",
        "lr=0.000001\n",
        "if not os.path.isdir(savepath):\n",
        "      os.makedirs(savepath)\n",
        "csvloger_callback = tf.keras.callbacks.CSVLogger(f'{savepath}history.csv', separator=',', append=False)\n",
        "\n",
        "modelcheckpoint_callback = tf.keras.callbacks.ModelCheckpoint(savepath+'resnet50_row_10E-6_weights-epoch:{epoch:03d}-val_Accuracy:{val_Accuracy:.4f}.h5',monitor='val_Accuracy'\n",
        "    ,verbose=0,save_best_only=True,save_weights_only=True,mode='max',save_freq='epoch' , initial_value_threshold=0.85)\n",
        "\n",
        "OPT = tf.keras.optimizers.Adam(learning_rate=lr)\n",
        "model06 = resnet50_row(OPT, LOOS,METRICS,image_Shape)\n",
        "history06 = model06.fit(training_image_datagen, epochs=EPOCH, validation_data=testing_image_datagen,callbacks=[csvloger_callback,modelcheckpoint_callback])\n",
        "model06 = resnet50_row(OPT, LOOS,METRICS,image_Shape)\n",
        "model06.load_weights(glob.glob(f\"{savepath}resnet50_row_10E-6_weights-epoch:*-val_Accuracy:{max(history06.history['val_Accuracy']):.4f}.h5\")[0])"
      ]
    },
    {
      "cell_type": "code",
      "execution_count": null,
      "metadata": {
        "colab": {
          "base_uri": "https://localhost:8080/",
          "height": 477
        },
        "id": "4NDdptp1DchX",
        "outputId": "f2c1981b-6631-46cf-8162-59ed609f6846"
      },
      "outputs": [
        {
          "name": "stdout",
          "output_type": "stream",
          "text": [
            "              precision    recall  f1-score   support\n",
            "\n",
            "          AD       0.84      0.84      0.84       127\n",
            "          CN       0.92      0.85      0.88       197\n",
            "         MCI       0.90      0.93      0.91       374\n",
            "\n",
            "    accuracy                           0.89       698\n",
            "   macro avg       0.88      0.87      0.88       698\n",
            "weighted avg       0.89      0.89      0.89       698\n",
            "\n"
          ]
        },
        {
          "data": {
            "image/png": "[encoded data removed]",
            "text/plain": [
              "<Figure size 432x288 with 2 Axes>"
            ]
          },
          "metadata": {
            "needs_background": "light"
          },
          "output_type": "display_data"
        }
      ],
      "source": [
        "p = model06.predict(testing_image_datagen)\n",
        "predicted_lab = p.argmax(axis=-1)\n",
        "true_lab = testing_image_datagen.classes\n",
        "plot_confusion_matrix(true_lab, predicted_lab, testing_image_datagen.class_indices.keys(),savepath)\n",
        "report = classification_report(true_lab, predicted_lab, target_names=testing_image_datagen.class_indices.keys())\n",
        "print(report)\n",
        "dump_text(report,f'{savepath}classification_report.txt')"
      ]
    }
  ],
  "metadata": {
    "colab": {
      "collapsed_sections": [],
      "name": "AD classification.ipynb",
      "provenance": []
    },
    "gpuClass": "standard",
    "kernelspec": {
      "display_name": "Python 3",
      "name": "python3"
    },
    "language_info": {
      "name": "python"
    }
  },
  "nbformat": 4,
  "nbformat_minor": 0
}
