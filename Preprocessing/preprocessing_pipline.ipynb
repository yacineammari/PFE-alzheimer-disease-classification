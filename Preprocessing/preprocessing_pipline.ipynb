{
 "cells": [
  {
   "cell_type": "markdown",
   "metadata": {},
   "source": [
    "# Just change the path varibles to what work for you\n",
    "# this file apply the Pipline to all dataset"
   ]
  },
  {
   "cell_type": "code",
   "execution_count": 1,
   "metadata": {},
   "outputs": [
    {
     "name": "stdout",
     "output_type": "stream",
     "text": [
      "220521-13:27:00,576 nipype.utils WARNING:\n",
      "\t A newer version (1.8.1) of nipy/nipype is available. You are using 1.7.1\n"
     ]
    },
    {
     "name": "stderr",
     "output_type": "stream",
     "text": [
      "/home/forge/.local/lib/python3.8/site-packages/skimage/io/manage_plugins.py:23: UserWarning: Your installed pillow version is < 8.1.2. Several security issues (CVE-2021-27921, CVE-2021-25290, CVE-2021-25291, CVE-2021-25293, and more) have been fixed in pillow 8.1.2 or higher. We recommend to upgrade this library.\n",
      "  from .collection import imread_collection_wrapper\n"
     ]
    }
   ],
   "source": [
    "import os\n",
    "import numpy as np\n",
    "import SimpleITK as sitk\n",
    "from nipype.interfaces import fsl\n",
    "from datetime import datetime\n",
    "from skimage.io import imread,imsave\n",
    "import pandas as pd\n",
    "import cv2 as cv\n",
    "import cv2\n",
    "from scipy.stats import entropy\n",
    "from dltk.io.preprocessing import whitening"
   ]
  },
  {
   "cell_type": "code",
   "execution_count": 2,
   "metadata": {},
   "outputs": [],
   "source": [
    "ADNI_DIR = '/media/forge/Elements/Yacine/Data/ADNI'\n",
    "REG_DIR = '/media/forge/Elements/Yacine/Data/AFFINE_REGISTRATION'\n",
    "MAT_DIR = '/media/forge/Elements/Yacine/Data/MAT'\n",
    "SKS_MASK_DIR = '/media/forge/Elements/Yacine/Data/SKULL_STRIPPING_MASK'\n",
    "SKS_FSL_DIR = '/media/forge/Elements/Yacine/Data/SKULL_STRIPPING_FSL'\n",
    "AFFINE_REG_ONLY_2D_IMAGES_DIR = '/media/forge/Elements/Yacine/Data/AFFINE_REG_ONLY_2D'\n",
    "AFFINE_REG_SKS_MASK_2D_IMAGES_DIR = '/media/forge/Elements/Yacine/Data/AFFINE_REG_SKS_MASK_2D'\n",
    "AFFINE_REG_SKS_FSL_2D_IMAGES_DIR = '/media/forge/Elements/Yacine/Data/AFFINE_REG_SKS_FSL_2D'\n",
    "MNI152_PATH = '/home/forge/Desktop/PFE/PFE_Code/res/atlas/MNI_152/MNI152lin_T1_2mm.nii.gz'\n",
    "MNI152_MASK_PATH = '/home/forge/Desktop/PFE/PFE_Code/res/atlas/MNI_152/MNI152lin_T1_2mm_brain_mask.nii.gz'"
   ]
  },
  {
   "cell_type": "code",
   "execution_count": 3,
   "metadata": {},
   "outputs": [],
   "source": [
    "if not os.path.isdir(REG_DIR):\n",
    "    os.makedirs(REG_DIR)\n",
    "\n",
    "if not os.path.isdir(MAT_DIR):\n",
    "    os.makedirs(MAT_DIR)\n",
    "\n",
    "if not os.path.isdir(SKS_MASK_DIR):\n",
    "    os.makedirs(SKS_MASK_DIR)\n",
    "\n",
    "if not os.path.isdir(SKS_FSL_DIR):\n",
    "    os.makedirs(SKS_FSL_DIR)\n",
    "\n",
    "if not os.path.isdir(AFFINE_REG_ONLY_2D_IMAGES_DIR):\n",
    "    os.makedirs(AFFINE_REG_ONLY_2D_IMAGES_DIR)\n",
    "\n",
    "if not os.path.isdir(AFFINE_REG_SKS_MASK_2D_IMAGES_DIR):\n",
    "    os.makedirs(AFFINE_REG_SKS_MASK_2D_IMAGES_DIR)\n",
    "\n",
    "if not os.path.isdir(AFFINE_REG_SKS_FSL_2D_IMAGES_DIR):\n",
    "    os.makedirs(AFFINE_REG_SKS_FSL_2D_IMAGES_DIR)"
   ]
  },
  {
   "cell_type": "markdown",
   "metadata": {},
   "source": [
    "AFFINE REGISTRATION"
   ]
  },
  {
   "cell_type": "code",
   "execution_count": null,
   "metadata": {},
   "outputs": [],
   "source": [
    "flt = fsl.FLIRT()    \n",
    "flt.inputs.output_type = \"NIFTI_GZ\"\n",
    "flt.inputs.reference = MNI152_PATH\n",
    "flt.inputs.dof = 12\n",
    "size = len(os.listdir(ADNI_DIR))\n",
    "\n",
    "\n",
    "for index,file in enumerate(os.listdir(ADNI_DIR)):\n",
    "\n",
    "    # init path varibles\n",
    "    reg_input_file_path = f'{ADNI_DIR}/{file}'\n",
    "    reg_output_file_path = f'{REG_DIR}/{file}'\n",
    "    mat_out_file_path = f'{MAT_DIR}/{file.replace(\".nii\",\"\")}.mat' \n",
    "\n",
    "    start=datetime.now()\n",
    "    flt.inputs.in_file = reg_input_file_path\n",
    "    flt.inputs.out_file = reg_output_file_path\n",
    "    flt.inputs.out_matrix_file = mat_out_file_path\n",
    "    res = flt.run()\n",
    "    end = datetime.now()-start\n",
    "    \n",
    "    print(f'{index+1} out of {size} took {end}')\n"
   ]
  },
  {
   "cell_type": "markdown",
   "metadata": {},
   "source": [
    "SKULL STRIPPING WITH MASK"
   ]
  },
  {
   "cell_type": "code",
   "execution_count": 8,
   "metadata": {},
   "outputs": [],
   "source": [
    "size = len(os.listdir(REG_DIR))\n",
    "\n",
    "mask = fsl.ApplyMask()\n",
    "mask.inputs.output_type = \"NIFTI_GZ\"\n",
    "mask.inputs.mask_file = MNI152_MASK_PATH\n",
    "\n",
    "\n",
    "\n",
    "for index,file in enumerate(os.listdir(REG_DIR)):\n",
    "\n",
    "    # init path varibles\n",
    "    sk_input_file_path = f'{REG_DIR}/{file}'\n",
    "    sk_output_file_path = f'{SKS_MASK_DIR}/{file}'\n",
    "   \n",
    "\n",
    "    # start = datetime.now()\n",
    "    mask.inputs.in_file = sk_input_file_path\n",
    "    mask.inputs.out_file = sk_output_file_path\n",
    "    mask.run()\n",
    "    # end = datetime.now()-start\n",
    "\n",
    "    # print(f'{index+1} out of {size} took {end}')\n",
    "    "
   ]
  },
  {
   "cell_type": "markdown",
   "metadata": {},
   "source": [
    "SKULL STRIPPING WITH FSL"
   ]
  },
  {
   "cell_type": "code",
   "execution_count": null,
   "metadata": {},
   "outputs": [],
   "source": [
    "# fix the code \n",
    "size = len(os.listdir(REG_DIR))\n",
    "\n",
    "btr = fsl.BET()\n",
    "btr.inputs.output_type = \"NIFTI_GZ\"\n",
    "btr.robust = True\n",
    "btr.inputs.frac = 0.2\n",
    "\n",
    "for index,file in enumerate(os.listdir(REG_DIR)):\n",
    "\n",
    "    # init path varibles\n",
    "    sk_input_file_path = f'{REG_DIR}/{file}'\n",
    "    sk_output_file_path = f'{SKS_FSL_DIR}/{file}'\n",
    "   \n",
    "\n",
    "    start = datetime.now()\n",
    "    btr.inputs.in_file = sk_input_file_path\n",
    "    btr.inputs.out_file = sk_output_file_path\n",
    "    \n",
    "    btr.run()\n",
    "    end = datetime.now()-start\n",
    "\n",
    "    print(f'{index+1} out of {size} took {end}')"
   ]
  },
  {
   "cell_type": "markdown",
   "metadata": {},
   "source": [
    "CREATING THE GRID IMAGES"
   ]
  },
  {
   "cell_type": "code",
   "execution_count": 25,
   "metadata": {},
   "outputs": [],
   "source": [
    "padd = 5\n",
    "start = 25\n",
    "end = 70\n",
    "nb_img = 16\n",
    "for indx , file in enumerate(os.listdir(SKS_MASK_DIR)):\n",
    "    array = sitk.GetArrayFromImage(sitk.ReadImage(SKS_MASK_DIR+'/'+file))\n",
    "    array = np.interp(array, (array.min(), array.max()), (0, 255))\n",
    "\n",
    "    graid_image = np.array([])\n",
    "    data = np.array([])\n",
    "    entpy_data = {}\n",
    "\n",
    "    for i in range(start,end):\n",
    "        value,counts = np.unique(array[i,:,:], return_counts=True)\n",
    "        entpy_data[i] = entropy(counts, base=2)\n",
    "    entpy_data = {k: v for k, v in sorted(entpy_data.items(),reverse=True, key=lambda item: item[1])}\n",
    "    index_of_slices = list(entpy_data.keys())[0:nb_img]\n",
    "\n",
    "    \n",
    "    for i , max_indx in enumerate(index_of_slices):\n",
    "        if (i+1) % 4 == 0:\n",
    "            data = np.hstack((data,array[max_indx,:,:]))\n",
    "            if graid_image.size < 1:\n",
    "                graid_image = data.copy()\n",
    "            else:\n",
    "                graid_image = np.vstack((graid_image,data))\n",
    "            data = np.array([])\n",
    "              \n",
    "        else:\n",
    "            if data.size < 1:\n",
    "                data = array[max_indx,:,:]\n",
    "            else:\n",
    "                data = np.hstack((data,array[max_indx,:,:]))\n",
    "    imsave(f'{AFFINE_REG_SKS_MASK_2D_IMAGES_DIR}/{file.replace(\".nii.gz\",\"\")}.png',cv.equalizeHist(np.uint8(graid_image)))"
   ]
  }
 ],
 "metadata": {
  "interpreter": {
   "hash": "e7370f93d1d0cde622a1f8e1c04877d8463912d04d973331ad4851f04de6915a"
  },
  "kernelspec": {
   "display_name": "Python 3.8.10 64-bit",
   "language": "python",
   "name": "python3"
  },
  "language_info": {
   "codemirror_mode": {
    "name": "ipython",
    "version": 3
   },
   "file_extension": ".py",
   "mimetype": "text/x-python",
   "name": "python",
   "nbconvert_exporter": "python",
   "pygments_lexer": "ipython3",
   "version": "3.8.10"
  },
  "orig_nbformat": 4
 },
 "nbformat": 4,
 "nbformat_minor": 2
}
